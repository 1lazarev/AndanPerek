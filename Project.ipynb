{
 "cells": [
  {
   "cell_type": "markdown",
   "id": "d165b175-bf28-4b60-9bab-f8fd48975e54",
   "metadata": {},
   "source": [
    "<img src='media/capy.gif' align='center' width=\"200px\">"
   ]
  },
  {
   "cell_type": "markdown",
   "id": "5fbf8fd2-f345-448e-8e0e-d4fa3f99637a",
   "metadata": {},
   "source": [
    "# Анализ еды в Перекрёстке"
   ]
  },
  {
   "cell_type": "markdown",
   "id": "272f6982-fc82-4aa2-9980-772a277f5050",
   "metadata": {},
   "source": [
    "**Тема**: анализ продуктов питания [Перекрестка](https://www.perekrestok.ru)\n",
    "\n",
    "**Основная цель**: выяснить есть ли зависимость между описанием, составом тавара и ценой\n",
    "\n",
    "**Команда**: Перек ✩"
   ]
  },
  {
   "cell_type": "code",
   "execution_count": 2,
   "id": "567624cb-f92b-408a-8ee1-301e9a72e871",
   "metadata": {},
   "outputs": [],
   "source": [
    "import re\n",
    "import pandas as pd\n",
    "import numpy as np\n",
    "import matplotlib.pyplot as plt\n",
    "import seaborn as sns\n",
    "\n",
    "import parcer"
   ]
  },
  {
   "cell_type": "markdown",
   "id": "7d5ba216-5f2b-4cc8-b923-9c4eb247de3a",
   "metadata": {
    "jp-MarkdownHeadingCollapsed": true
   },
   "source": [
    "## Cбор данных"
   ]
  },
  {
   "cell_type": "markdown",
   "id": "359d8485-0d0a-495d-9ff8-c699c44032cb",
   "metadata": {},
   "source": [
    "Начнем сбор данных со [страницы каталога](https://www.perekrestok.ru/cat), постепенно углубляясь\n",
    "\n",
    "Все функции парсинга находятся в `parcer.py`"
   ]
  },
  {
   "cell_type": "markdown",
   "id": "88a04960-45a1-465a-a0b8-3b23572e0029",
   "metadata": {},
   "source": [
    "**Шаг 1** \\\n",
    "Собираем все категории товаров, и ссылки на них"
   ]
  },
  {
   "cell_type": "code",
   "execution_count": 3,
   "id": "c1265c96-d70a-4fb1-9f63-3e150ae654a3",
   "metadata": {},
   "outputs": [
    {
     "data": {
      "text/plain": [
       "['Все на дачу', '/cat/mc/1181/vse-na-dacu']"
      ]
     },
     "execution_count": 3,
     "metadata": {},
     "output_type": "execute_result"
    }
   ],
   "source": [
    "cats = parcer.parce_cats(\"https://www.perekrestok.ru/cat\") # /ᐠ｡ꞈ｡ᐟ\\\n",
    "cats[0]"
   ]
  },
  {
   "cell_type": "markdown",
   "id": "d4a13437-e32d-4c07-b501-10b2b9f240eb",
   "metadata": {},
   "source": [
    "Уберем категории, которые не относятся к продуктам питания"
   ]
  },
  {
   "cell_type": "code",
   "execution_count": 8,
   "id": "ee49d1f2-73a1-484d-bab9-7ab10240fe78",
   "metadata": {},
   "outputs": [],
   "source": [
    "undesired_cats = [\n",
    "    'Все на дачу',\n",
    "    'Зоотовары',\n",
    "    'Для дома и дачи',\n",
    "    'Красота, гигиена, аптека',\n",
    "    'Уборка',\n",
    "    'Товары для мам и детей',\n",
    "    'Системы нагревания, табак',\n",
    "    'Посуда',\n",
    "]\n",
    "\n",
    "cats = [cat for cat in cats if cat[0] not in undesired_cats]"
   ]
  },
  {
   "cell_type": "markdown",
   "id": "1f992981-d579-4977-92a2-ce722d4da86e",
   "metadata": {},
   "source": [
    "**Шаг 2** \\\n",
    "По ссылкам на категории, собираем подкатегории и ссылки на подкатегории"
   ]
  },
  {
   "cell_type": "code",
   "execution_count": 10,
   "id": "d44dd84d-b647-4989-a419-863c06b1ecf1",
   "metadata": {},
   "outputs": [
    {
     "data": {
      "text/plain": [
       "('Зелёная Линия', 'От Перекрёстка', '/cat/c/284/zelenaa-linia')"
      ]
     },
     "execution_count": 10,
     "metadata": {},
     "output_type": "execute_result"
    }
   ],
   "source": [
    "subcats = parcer.parce_subcats(cats)\n",
    "subcats[0]"
   ]
  },
  {
   "cell_type": "markdown",
   "id": "572f1233-5f1f-4430-bb57-2fbf1517401a",
   "metadata": {},
   "source": [
    "Уберем подкатегории, которые не относятся к продуктам питания"
   ]
  },
  {
   "cell_type": "code",
   "execution_count": 11,
   "id": "0da3e1b5-5eef-4ed4-b83b-817428c58ccc",
   "metadata": {},
   "outputs": [],
   "source": [
    "undesired_subcats = [\n",
    "    'Home Story',\n",
    "    'Kokoro',\n",
    "    'Honey Kid',\n",
    "]\n",
    "\n",
    "subcats = [subcat for subcat in subcats if subcat[0] not in undesired_subcats]"
   ]
  },
  {
   "cell_type": "markdown",
   "id": "4cc8282f-4025-4792-8f25-4c3f5fd952eb",
   "metadata": {},
   "source": [
    "**Шаг 3** \\\n",
    "Теперь благодаря ссылкам на подкатегории мы можем собрать все листинги. В листингах есть ссылки на товары, а также поверхностная информация"
   ]
  },
  {
   "cell_type": "code",
   "execution_count": 34,
   "id": "6fc0869e-5a99-4b7e-ae0e-d0a942b0161a",
   "metadata": {},
   "outputs": [
    {
     "data": {
      "text/plain": [
       "['Томаты черри на ветке, 250г',\n",
       " '/cat/150/p/tomaty-cerri-na-vetke-250g-3673307',\n",
       " 'От Перекрёстка',\n",
       " 'Маркет',\n",
       " '4.92',\n",
       " '250 гр',\n",
       " '179,99 ₽/шт',\n",
       " '179,99 ₽',\n",
       " '219,99 ₽',\n",
       " '-18%',\n",
       " '/cat/c/287/market']"
      ]
     },
     "execution_count": 34,
     "metadata": {},
     "output_type": "execute_result"
    }
   ],
   "source": [
    "listing_products = parcer.parce_listing_products(subcats)\n",
    "listing_products[0]"
   ]
  },
  {
   "cell_type": "code",
   "execution_count": 72,
   "id": "0d42ae2b-9a85-4ce0-b42f-2ee3d8b175cd",
   "metadata": {},
   "outputs": [
    {
     "name": "stdout",
     "output_type": "stream",
     "text": [
      "Список успешно сохранен в файл data/listing_products.csv\n"
     ]
    }
   ],
   "source": [
    "parcer.save_listing_products_to_csv('data/listing_products.csv', listing_products)"
   ]
  },
  {
   "cell_type": "markdown",
   "id": "4df33d8e-6593-41dc-a065-459e552760ca",
   "metadata": {},
   "source": [
    "**Шаг 4** \\\n",
    "Проходимся по ссылкам из листингов и получаем полную информацию о каждом товаре"
   ]
  },
  {
   "cell_type": "code",
   "execution_count": 75,
   "id": "8d24549a-9a72-4321-884e-88fe258eff4a",
   "metadata": {},
   "outputs": [
    {
     "data": {
      "text/plain": [
       "['/cat/150/p/tomaty-cerri-na-vetke-250g-3673307',\n",
       " 'Томаты черри на ветке, 250г',\n",
       " 17999,\n",
       " '-18%',\n",
       " 492,\n",
       " '15.0',\n",
       " '0.8 г',\n",
       " '0.1 г',\n",
       " '2.8 г',\n",
       " 'Томаты.',\n",
       " 'ТД Самарканд Агро',\n",
       " 'Маркет',\n",
       " 'Россия',\n",
       " '30 дней',\n",
       " '15 ℃',\n",
       " '5 ℃']"
      ]
     },
     "execution_count": 75,
     "metadata": {},
     "output_type": "execute_result"
    }
   ],
   "source": [
    "products = parcer.parce_products(listing_products)\n",
    "products[0]"
   ]
  },
  {
   "cell_type": "code",
   "execution_count": 67,
   "id": "7e729791-c92c-4ef7-b531-70d8f684f432",
   "metadata": {},
   "outputs": [
    {
     "name": "stdout",
     "output_type": "stream",
     "text": [
      "Список успешно сохранен в файл data/products.csv\n"
     ]
    }
   ],
   "source": [
    "parcer.save_products_to_csv('data/products.csv', products)"
   ]
  },
  {
   "cell_type": "markdown",
   "id": "3c00214b-1f65-48cf-a8b0-e9b07c451b28",
   "metadata": {},
   "source": [
    "**Итог** \\\n",
    "В файлах *listing_products.csv* и *products.csv* мы собрали информацию о всех товарах в нужных категориях\n",
    "\n",
    "*listing_products.csv* \\\n",
    "`name` - Название товара \\\n",
    "`href` - Ссылка на товар \\\n",
    "`rating` - Рейтинг товара от 0.00 до 5.00 \\\n",
    "`size` - Вес товара в гр \\\n",
    "`price` - Расценка товара (x/гр или x/кг) \\\n",
    "`new_price` - Цена товара \\\n",
    "`old_price` - Цена без скидки \\\n",
    "`discount` - Скидка или специальное предложение \\\n",
    "`subcat_href` - Ссылка на подкатегорию \\\n",
    "`cat` - Категория товара \\\n",
    "`subcat` - Подкатегория товара \n",
    "\n",
    "\n",
    "*products.csv* \\\n",
    "`title` - Название товара \\\n",
    "`product_href` - Ссылка на товар \\\n",
    "`price` - Цена товара \\\n",
    "`discount` - Скидка или специальное предложение \\\n",
    "`rating` - Рейтинг товара от 0.00 до 5.00 \\\n",
    "`kalories` - Калории на 100г \\\n",
    "`proteins` - Белки на 100г \\\n",
    "`fats` - Жиры на 100г \\\n",
    "`carbohydrates` - Углеводы на 100г \\\n",
    "`composition` - Состав продукта \\\n",
    "`manufacturer` - Производитель \\\n",
    "`brand` - Бренд \\\n",
    "`country` - Страна \\\n",
    "`shelf_life` - Срок хранения в днях \\\n",
    "`max_storage_temperature` - Температура хранения макс. \\\n",
    "`min_storage_temperature` - Температура хранения мин.\n"
   ]
  },
  {
   "cell_type": "markdown",
   "id": "a0358566-09e5-4088-9e1f-0113b7526b42",
   "metadata": {},
   "source": [
    "## Предварительныя обработка"
   ]
  },
  {
   "cell_type": "markdown",
   "id": "24ca821a-736d-456d-bbad-9f4a16c67ba7",
   "metadata": {},
   "source": [
    "**Шаг 1** \\\n",
    "Соединим собранные данные, удалим лишние столбцы"
   ]
  },
  {
   "cell_type": "code",
   "execution_count": 765,
   "id": "14be7be0-7cf6-449c-97bc-aea25fac3987",
   "metadata": {},
   "outputs": [],
   "source": [
    "listing_products_df = pd.read_csv(\"data/listing_products.csv\")\n",
    "products_df = pd.read_csv(\"data/products.csv\")\n",
    "\n",
    "df = pd.merge(products_df, listing_products_df, left_on='product_href', right_on='href' , how='left')\n",
    "df = df.drop(['price_x', 'discount_x', 'title', 'product_href', 'subcat_href','rating_x'], axis=1) "
   ]
  },
  {
   "cell_type": "markdown",
   "id": "77a59b38-2032-459f-a4ea-3613cdde10e1",
   "metadata": {},
   "source": [
    "Переименуем столбцы после слияния и отсортируем"
   ]
  },
  {
   "cell_type": "code",
   "execution_count": 766,
   "id": "0721961f-c1e3-4e5f-847a-4e52c6027dad",
   "metadata": {},
   "outputs": [],
   "source": [
    "new_names = {\n",
    "    'rating_y': 'rating',        \n",
    "    'price_y': 'pricing',\n",
    "    'discount_y': 'discount',\n",
    "    'new_price': 'price',\n",
    "    'cat': 'category',\n",
    "    'subcat': \"subcategory\",\n",
    "}\n",
    "\n",
    "df = df.rename(columns=new_names)\n",
    "\n",
    "new_order = [\n",
    "    'name', 'category', 'subcategory', 'href',\n",
    "    'kalories', 'proteins', 'fats', 'carbohydrates', 'composition',\n",
    "    'manufacturer', 'brand', 'country',\n",
    "    'rating', 'size', 'pricing', 'price', 'old_price', 'discount',\n",
    "    'shelf_life', 'max_storage_temperature', 'min_storage_temperature',\n",
    "]\n",
    "\n",
    "df = df.reindex(columns=new_order)"
   ]
  },
  {
   "cell_type": "markdown",
   "id": "a95f06d4-ec97-466c-a69c-91536e69e12a",
   "metadata": {},
   "source": [
    "В некоторых категориях товары дублировались, исправим"
   ]
  },
  {
   "cell_type": "code",
   "execution_count": 767,
   "id": "2a3c16e2-2a0d-46a7-af8c-67047255d89e",
   "metadata": {},
   "outputs": [
    {
     "data": {
      "text/html": [
       "<div>\n",
       "<style scoped>\n",
       "    .dataframe tbody tr th:only-of-type {\n",
       "        vertical-align: middle;\n",
       "    }\n",
       "\n",
       "    .dataframe tbody tr th {\n",
       "        vertical-align: top;\n",
       "    }\n",
       "\n",
       "    .dataframe thead th {\n",
       "        text-align: right;\n",
       "    }\n",
       "</style>\n",
       "<table border=\"1\" class=\"dataframe\">\n",
       "  <thead>\n",
       "    <tr style=\"text-align: right;\">\n",
       "      <th></th>\n",
       "      <th>name</th>\n",
       "      <th>category</th>\n",
       "      <th>subcategory</th>\n",
       "      <th>kalories</th>\n",
       "      <th>proteins</th>\n",
       "      <th>fats</th>\n",
       "      <th>carbohydrates</th>\n",
       "      <th>composition</th>\n",
       "      <th>manufacturer</th>\n",
       "      <th>brand</th>\n",
       "      <th>country</th>\n",
       "      <th>rating</th>\n",
       "      <th>size</th>\n",
       "      <th>pricing</th>\n",
       "      <th>price</th>\n",
       "      <th>old_price</th>\n",
       "      <th>discount</th>\n",
       "      <th>shelf_life</th>\n",
       "      <th>max_storage_temperature</th>\n",
       "      <th>min_storage_temperature</th>\n",
       "    </tr>\n",
       "  </thead>\n",
       "  <tbody>\n",
       "    <tr>\n",
       "      <th>0</th>\n",
       "      <td>Вино Мысхако Quintessence Zinfandel красное по...</td>\n",
       "      <td>Алкогольные напитки</td>\n",
       "      <td>Вино</td>\n",
       "      <td>95.0</td>\n",
       "      <td>0.0 г</td>\n",
       "      <td>0.0 г</td>\n",
       "      <td>0.6 г</td>\n",
       "      <td>Виноград сорта Зинфандель, пищевая добавка (ко...</td>\n",
       "      <td>Мысхако</td>\n",
       "      <td>Мысхако</td>\n",
       "      <td>Россия</td>\n",
       "      <td>4.89</td>\n",
       "      <td>750 мл</td>\n",
       "      <td>899,99 ₽/шт</td>\n",
       "      <td>899,99 ₽</td>\n",
       "      <td>899,99 ₽</td>\n",
       "      <td>3 по цене 2-х</td>\n",
       "      <td>9999 дней</td>\n",
       "      <td>20 ℃</td>\n",
       "      <td>5 ℃</td>\n",
       "    </tr>\n",
       "    <tr>\n",
       "      <th>1</th>\n",
       "      <td>Вино Takar Арени красное сухое 14%, 750мл</td>\n",
       "      <td>Алкогольные напитки</td>\n",
       "      <td>Вино</td>\n",
       "      <td>74.0</td>\n",
       "      <td>0.0 г</td>\n",
       "      <td>0.0 г</td>\n",
       "      <td>0.3 г</td>\n",
       "      <td>Виноград сорта Арени; пищевая добавка (консерв...</td>\n",
       "      <td>Armenia Wine</td>\n",
       "      <td>Takar</td>\n",
       "      <td>Армения</td>\n",
       "      <td>4.90</td>\n",
       "      <td>750 мл</td>\n",
       "      <td>699,99 ₽/шт</td>\n",
       "      <td>699,99 ₽</td>\n",
       "      <td>899,99 ₽</td>\n",
       "      <td>-22%</td>\n",
       "      <td>9999 дней</td>\n",
       "      <td>NaN</td>\n",
       "      <td>5 ℃</td>\n",
       "    </tr>\n",
       "    <tr>\n",
       "      <th>2</th>\n",
       "      <td>Вино Terras de Pegoes красное сухое 12.5%, 750мл</td>\n",
       "      <td>Алкогольные напитки</td>\n",
       "      <td>Вино</td>\n",
       "      <td>75.0</td>\n",
       "      <td>0.0 г</td>\n",
       "      <td>0.0 г</td>\n",
       "      <td>0.1 г</td>\n",
       "      <td>Сортовой состав винограда: Каштелао - 60%, Али...</td>\n",
       "      <td>Cooperativa Agrícola de Santo Isidro De Pegões</td>\n",
       "      <td>Pegoes</td>\n",
       "      <td>Португалия</td>\n",
       "      <td>4.78</td>\n",
       "      <td>750 мл</td>\n",
       "      <td>499,99 ₽/шт</td>\n",
       "      <td>499,99 ₽</td>\n",
       "      <td>699,99 ₽</td>\n",
       "      <td>-28%</td>\n",
       "      <td>9999 дней</td>\n",
       "      <td>NaN</td>\n",
       "      <td>NaN</td>\n",
       "    </tr>\n",
       "    <tr>\n",
       "      <th>3</th>\n",
       "      <td>Вино Highway to Hell красное сухое 13%, 750мл</td>\n",
       "      <td>Алкогольные напитки</td>\n",
       "      <td>Вино</td>\n",
       "      <td>79.0</td>\n",
       "      <td>0.0 г</td>\n",
       "      <td>0.0 г</td>\n",
       "      <td>0.0 г</td>\n",
       "      <td>Виноград сорта Монастрель, пищевая добавка (ко...</td>\n",
       "      <td>Wines N'Roses</td>\n",
       "      <td>Highway to Hell</td>\n",
       "      <td>Испания</td>\n",
       "      <td>4.81</td>\n",
       "      <td>750 мл</td>\n",
       "      <td>1 099,00 ₽/шт</td>\n",
       "      <td>1 099,00 ₽</td>\n",
       "      <td>NaN</td>\n",
       "      <td>Нет скидки</td>\n",
       "      <td>9999 дней</td>\n",
       "      <td>NaN</td>\n",
       "      <td>5 ℃</td>\n",
       "    </tr>\n",
       "    <tr>\n",
       "      <th>4</th>\n",
       "      <td>Вино Don Garcia красное сухое 11%, 1л</td>\n",
       "      <td>Алкогольные напитки</td>\n",
       "      <td>Вино</td>\n",
       "      <td>0.0</td>\n",
       "      <td>0.0 г</td>\n",
       "      <td>0.0 г</td>\n",
       "      <td>0.0 г</td>\n",
       "      <td>Красные сорта винограда, пищевая добавка (конс...</td>\n",
       "      <td>J. Garcia Carrion</td>\n",
       "      <td>Don Garcia</td>\n",
       "      <td>Испания</td>\n",
       "      <td>4.75</td>\n",
       "      <td>1000 мл</td>\n",
       "      <td>549,99 ₽/шт</td>\n",
       "      <td>549,99 ₽</td>\n",
       "      <td>NaN</td>\n",
       "      <td>Нет скидки</td>\n",
       "      <td>9999 дней</td>\n",
       "      <td>20 ℃</td>\n",
       "      <td>5 ℃</td>\n",
       "    </tr>\n",
       "  </tbody>\n",
       "</table>\n",
       "</div>"
      ],
      "text/plain": [
       "                                                name             category  \\\n",
       "0  Вино Мысхако Quintessence Zinfandel красное по...  Алкогольные напитки   \n",
       "1          Вино Takar Арени красное сухое 14%, 750мл  Алкогольные напитки   \n",
       "2   Вино Terras de Pegoes красное сухое 12.5%, 750мл  Алкогольные напитки   \n",
       "3      Вино Highway to Hell красное сухое 13%, 750мл  Алкогольные напитки   \n",
       "4              Вино Don Garcia красное сухое 11%, 1л  Алкогольные напитки   \n",
       "\n",
       "  subcategory  kalories proteins   fats carbohydrates  \\\n",
       "0        Вино      95.0    0.0 г  0.0 г         0.6 г   \n",
       "1        Вино      74.0    0.0 г  0.0 г         0.3 г   \n",
       "2        Вино      75.0    0.0 г  0.0 г         0.1 г   \n",
       "3        Вино      79.0    0.0 г  0.0 г         0.0 г   \n",
       "4        Вино       0.0    0.0 г  0.0 г         0.0 г   \n",
       "\n",
       "                                         composition  \\\n",
       "0  Виноград сорта Зинфандель, пищевая добавка (ко...   \n",
       "1  Виноград сорта Арени; пищевая добавка (консерв...   \n",
       "2  Сортовой состав винограда: Каштелао - 60%, Али...   \n",
       "3  Виноград сорта Монастрель, пищевая добавка (ко...   \n",
       "4  Красные сорта винограда, пищевая добавка (конс...   \n",
       "\n",
       "                                     manufacturer            brand  \\\n",
       "0                                         Мысхако          Мысхако   \n",
       "1                                    Armenia Wine            Takar   \n",
       "2  Cooperativa Agrícola de Santo Isidro De Pegões           Pegoes   \n",
       "3                                   Wines N'Roses  Highway to Hell   \n",
       "4                               J. Garcia Carrion       Don Garcia   \n",
       "\n",
       "      country  rating     size        pricing       price old_price  \\\n",
       "0      Россия    4.89   750 мл    899,99 ₽/шт    899,99 ₽  899,99 ₽   \n",
       "1     Армения    4.90   750 мл    699,99 ₽/шт    699,99 ₽  899,99 ₽   \n",
       "2  Португалия    4.78   750 мл    499,99 ₽/шт    499,99 ₽  699,99 ₽   \n",
       "3     Испания    4.81   750 мл  1 099,00 ₽/шт  1 099,00 ₽       NaN   \n",
       "4     Испания    4.75  1000 мл    549,99 ₽/шт    549,99 ₽       NaN   \n",
       "\n",
       "        discount shelf_life max_storage_temperature min_storage_temperature  \n",
       "0  3 по цене 2-х  9999 дней                    20 ℃                     5 ℃  \n",
       "1           -22%  9999 дней                     NaN                     5 ℃  \n",
       "2           -28%  9999 дней                     NaN                     NaN  \n",
       "3     Нет скидки  9999 дней                     NaN                     5 ℃  \n",
       "4     Нет скидки  9999 дней                    20 ℃                     5 ℃  "
      ]
     },
     "execution_count": 767,
     "metadata": {},
     "output_type": "execute_result"
    }
   ],
   "source": [
    "df.drop_duplicates(inplace=True, subset=['href', 'name'])\n",
    "df.dropna(subset=['href'], inplace=True)\n",
    "df = df.drop(['href'], axis=1) # Удаляем больше не нужную колонку\n",
    "df = df.reset_index(drop=True)\n",
    "df.head()"
   ]
  },
  {
   "cell_type": "markdown",
   "id": "f8d6d67b-527d-4fd6-9110-e22f4e5770d8",
   "metadata": {},
   "source": [
    "**Шаг 2** \\\n",
    "Проверим есть ли пропуски в датасете"
   ]
  },
  {
   "cell_type": "code",
   "execution_count": 768,
   "id": "01a446f6-7577-4ea8-a8ba-d2e717ace6f0",
   "metadata": {},
   "outputs": [
    {
     "data": {
      "text/plain": [
       "name                          0\n",
       "category                      0\n",
       "subcategory                   0\n",
       "kalories                    267\n",
       "proteins                    308\n",
       "fats                        308\n",
       "carbohydrates               313\n",
       "composition                 332\n",
       "manufacturer                398\n",
       "brand                       532\n",
       "country                     238\n",
       "rating                        0\n",
       "size                        692\n",
       "pricing                       0\n",
       "price                         0\n",
       "old_price                  8989\n",
       "discount                      0\n",
       "shelf_life                    0\n",
       "max_storage_temperature    3777\n",
       "min_storage_temperature    4627\n",
       "dtype: int64"
      ]
     },
     "execution_count": 768,
     "metadata": {},
     "output_type": "execute_result"
    }
   ],
   "source": [
    "df.isnull().sum()"
   ]
  },
  {
   "cell_type": "markdown",
   "id": "972baa50-63c9-4d7f-a658-d9d10640bfe1",
   "metadata": {},
   "source": [
    "Уберем товары не относящиеся к продуктам питания, которые попали в датасет из-за смешанных категорий. \\\n",
    "Для этого найдем все товары с пустыми `kalories` и исключим из них продукты питания"
   ]
  },
  {
   "cell_type": "code",
   "execution_count": 769,
   "id": "295c8b83-e569-4ee9-9919-5b8f2ca62779",
   "metadata": {},
   "outputs": [
    {
     "data": {
      "text/plain": [
       "name           Губка Волна для обуви и изделий из кожи бесцве...\n",
       "subcategory                                               Маркет\n",
       "Name: 6154, dtype: object"
      ]
     },
     "execution_count": 769,
     "metadata": {},
     "output_type": "execute_result"
    }
   ],
   "source": [
    "non_food_ids = (df['kalories'].isnull()) & (~df['subcategory'].isin(\n",
    "                    [\"Кофе\", \"Чай\", \"Специи, приправы и пряности\", \n",
    "                    \"Соль\", \"Вся рыба\", \"Охлаждённая рыба\", \n",
    "                    \"Копчёная рыба\", \"Вяленая рыба\", \"Вода\", \n",
    "                    \"Пиво\", \"Конфеты\", \"Компоненты для выпечки\", \n",
    "                    \"Молочные коктейли\", \"Полуфабрикаты\", \n",
    "                    \"Овощи\", \"Фрукты\", \"Зелень и салаты\", \"Коньяк\"]))\n",
    "\n",
    "non_food = df[non_food_ids][[\"name\", 'subcategory']]\n",
    "df = df[~non_food_ids]\n",
    "\n",
    "non_food.iloc[5]"
   ]
  },
  {
   "cell_type": "markdown",
   "id": "90f43b00-e261-4323-ae74-574da8e5c64b",
   "metadata": {},
   "source": [
    "Все остальные пропуски `kalories` заполняем нулями"
   ]
  },
  {
   "cell_type": "code",
   "execution_count": 770,
   "id": "dc11709f-f11e-4361-b36a-2bd8c12c6d22",
   "metadata": {},
   "outputs": [],
   "source": [
    "df.loc[df['kalories'].isnull(), 'kalories'] = 0"
   ]
  },
  {
   "cell_type": "markdown",
   "id": "223893ec-9f99-4ef2-9dbc-fe70ddb12ffc",
   "metadata": {},
   "source": [
    "**Шаг 3** \\\n",
    "Преобразовываем в тип float и заполняем нулями все пропуски `proteins`, `fats` и `carbohydrates`"
   ]
  },
  {
   "cell_type": "code",
   "execution_count": 771,
   "id": "86c200a6-f348-4abc-8d1d-b7933d351a9f",
   "metadata": {},
   "outputs": [],
   "source": [
    "df.loc[:, 'proteins'] = df['proteins'].str.replace(' г', '').astype(float)\n",
    "df.loc[:, 'fats'] = df['fats'].str.replace(' г', '').astype(float)\n",
    "df.loc[:, 'carbohydrates'] = df['carbohydrates'].str.replace(' г', '').astype(float)\n",
    "\n",
    "df.loc[df['proteins'].isnull(), 'proteins'] = 0\n",
    "df.loc[df['fats'].isnull(), 'fats'] = 0\n",
    "df.loc[df['carbohydrates'].isnull(), 'carbohydrates'] = 0"
   ]
  },
  {
   "cell_type": "markdown",
   "id": "214005f0-ade1-4cfa-8e7b-5ee823ffbc53",
   "metadata": {},
   "source": [
    "**Шаг 4** \\\n",
    "Так как у нас нет информации о средней плотности всех напитков, в колонке `size` неявно приравняем **мл** к **гр**, переводим во float"
   ]
  },
  {
   "cell_type": "code",
   "execution_count": 772,
   "id": "f258e396-a2bb-43cf-bdba-138ece56a0b9",
   "metadata": {},
   "outputs": [],
   "source": [
    "df.loc[:, 'size'] = df['size'].str.replace(' гр', '').str.replace(' мл', '').str.replace(' ', '').astype(float)"
   ]
  },
  {
   "cell_type": "markdown",
   "id": "1cf00284-162a-46d4-a36c-78b5147454ed",
   "metadata": {},
   "source": [
    "Расценка `pricing` у товаров на развес 🥒 указывается не за **шт**, а за **кг**, поэтому `size` в этих строках пустой. \\\n",
    "Заполным эти пропуский 1000 гр, а также создадим **новый признак** `is_by_weight`, в котором укажем на развес ли продукт\n",
    "<a id='is_by_weight'></a>"
   ]
  },
  {
   "cell_type": "code",
   "execution_count": 773,
   "id": "4599a1fb-1467-44e4-8586-369b1bbcf65f",
   "metadata": {},
   "outputs": [
    {
     "data": {
      "text/plain": [
       "array(['шт', 'кг'], dtype=object)"
      ]
     },
     "execution_count": 773,
     "metadata": {},
     "output_type": "execute_result"
    }
   ],
   "source": [
    "pricing_units = df['pricing'].str.split('/').str[1]\n",
    "pricing_units.unique()"
   ]
  },
  {
   "cell_type": "code",
   "execution_count": 774,
   "id": "5c4db016-a768-42ef-bb46-7ae12f3834b5",
   "metadata": {},
   "outputs": [],
   "source": [
    "df.loc[pricing_units == 'кг', 'size'] = 1000\n",
    "df['is_by_weight'] = 1*(pricing_units == 'кг')"
   ]
  },
  {
   "cell_type": "markdown",
   "id": "d4f2d2bc-7fb3-4e16-98de-62d120f6c171",
   "metadata": {},
   "source": [
    "Далее `pricing` нам не понадобится, так как есть, `price`"
   ]
  },
  {
   "cell_type": "code",
   "execution_count": 775,
   "id": "8a4d98ee-667a-4ec3-a9a7-6290445690c9",
   "metadata": {},
   "outputs": [],
   "source": [
    "df = df.drop(['pricing'], axis=1) "
   ]
  },
  {
   "cell_type": "markdown",
   "id": "9d7c82e5-6e5b-496a-967b-2ebd5d239f0f",
   "metadata": {},
   "source": [
    "Отформатируем `price` и `old_price`"
   ]
  },
  {
   "cell_type": "code",
   "execution_count": 776,
   "id": "33ed5e52-be59-406a-b536-084db1220f32",
   "metadata": {},
   "outputs": [],
   "source": [
    "df.loc[:, 'price'] = df['price'].str.replace(' ₽', '').str.replace(',', '.').str.replace(' ', '').astype(float)\n",
    "df.loc[:, 'old_price'] = df['old_price'].str.replace(' ₽', '').str.replace(',', '.').str.replace(' ', '').astype(float)"
   ]
  },
  {
   "cell_type": "markdown",
   "id": "4fa28884-2bcd-4e99-b47a-f5b119924ba8",
   "metadata": {},
   "source": [
    "У товаров без скидки свойство `old_price` пропущено, прировняем к `price`"
   ]
  },
  {
   "cell_type": "code",
   "execution_count": 777,
   "id": "036abf32-9136-4bfd-9e80-17e091e605da",
   "metadata": {},
   "outputs": [],
   "source": [
    "null_old_prices = df['old_price'].isnull()\n",
    "df.loc[null_old_prices, 'old_price'] = df[null_old_prices]['price']"
   ]
  },
  {
   "cell_type": "markdown",
   "id": "22021364-12ef-46f9-9e67-e73f09b8e392",
   "metadata": {},
   "source": [
    "**Шаг 5** \\\n",
    "Преобразовываем скидку во float, для специальных предложений создаем **новый признак** `is_special_offer`\n",
    "<a id='is_special_offer'></a>"
   ]
  },
  {
   "cell_type": "code",
   "execution_count": 778,
   "id": "9186ff97-8485-4327-a396-4fbeb3c18dff",
   "metadata": {},
   "outputs": [
    {
     "data": {
      "text/plain": [
       "array(['3 по цене 2-х', '-22%', '-28%', 'Нет скидки', '-25%', '-33%',\n",
       "       '-16%', '-18%', '-41%', '-17%', '-26%', '-43%', '-15%', '-19%',\n",
       "       '-31%', '-23%', '-44%', '-57%', '-36%', '-37%', '-40%', '-30%',\n",
       "       '-24%', '-47%', '-55%', '-27%', '-21%', '-49%', '-14%', '-45%',\n",
       "       '-11%', '-56%', '-48%', 'Новинка', '-20%', '-32%', '-52%', '-38%',\n",
       "       '-50%', '-29%', '-13%', '-10%', '-39%', '-35%', '-46%', '-12%',\n",
       "       'Низкая цена', '-58%', '-34%', '-54%', '-42%', '-65%', '-62%',\n",
       "       '-59%', '-53%', '-63%', '-70%', '-51%', '5 по цене 4-х',\n",
       "       '2 по цене 1-го', '-60%', '4 по цене 3-х', '-77%'], dtype=object)"
      ]
     },
     "execution_count": 778,
     "metadata": {},
     "output_type": "execute_result"
    }
   ],
   "source": [
    "df['discount'].unique()"
   ]
  },
  {
   "cell_type": "code",
   "execution_count": 779,
   "id": "736f55ad-ad12-4a16-97f2-1a5da95bc52d",
   "metadata": {},
   "outputs": [],
   "source": [
    "is_special_offer = df['discount'].isin([\"3 по цене 2-х\", \"Новинка\", \"Низкая цена\",\n",
    "                            \"5 по цене 4-х\", \"2 по цене 1-го\", \"4 по цене 3-х\"])\n",
    "\n",
    "is_no_discount = df['discount'].isin([\"Нет скидки\"])\n",
    "\n",
    "df.loc[:, 'discount'] = df['discount'].str.replace('-', '').str.replace('%', '')\n",
    "df.loc[is_special_offer + is_no_discount, 'discount'] = 0\n",
    "df.loc[:, 'discount'] = df['discount'].astype(float)\n",
    "\n",
    "df['is_special_offer'] = is_special_offer"
   ]
  },
  {
   "cell_type": "markdown",
   "id": "a238f43a-265f-4ccf-8331-a51936aad25d",
   "metadata": {},
   "source": [
    "**Шаг 6** \\\n",
    "Приводим к типу float `shelf_life`, `max_storage_temperature` и `min_storage_temperature`"
   ]
  },
  {
   "cell_type": "code",
   "execution_count": 780,
   "id": "1567d908-e808-4bcc-b699-4e6fdbf779ee",
   "metadata": {},
   "outputs": [],
   "source": [
    "df.loc[:, 'shelf_life'] = df['shelf_life'].str.replace(' дней', '').str.replace(' день', '').str.replace(' дня', '').astype(float)\n",
    "df.loc[:, 'max_storage_temperature'] = df['max_storage_temperature'].str.replace(' ℃', '').astype(float)\n",
    "df.loc[:, 'min_storage_temperature'] = df['min_storage_temperature'].str.replace(' ℃', '').astype(float)"
   ]
  },
  {
   "cell_type": "markdown",
   "id": "e91735f7-6bf6-41e1-88c3-c7344d3646b0",
   "metadata": {},
   "source": [
    "У некоторых товаров значения максимальной и минимальной температуры хранения перепутаны, исправим"
   ]
  },
  {
   "cell_type": "code",
   "execution_count": 781,
   "id": "80528c28-7eec-4654-9860-a3eb6cc18b0e",
   "metadata": {},
   "outputs": [],
   "source": [
    "mis_tems = df['max_storage_temperature'] < df['min_storage_temperature']\n",
    "\n",
    "df.loc[mis_tems, ['max_storage_temperature', 'min_storage_temperature']] = \\\n",
    "    df.loc[mis_tems, ['min_storage_temperature', 'max_storage_temperature']].values"
   ]
  },
  {
   "cell_type": "markdown",
   "id": "c9a4baab-3da9-4711-b891-d536daed9b97",
   "metadata": {},
   "source": [
    "Cчитаем пропуски как неограниченую температуру хранения. \\\n",
    "Заполняем максимальной для `max_storage_temperature` (не учитывая единственного выброса 🍾 в 9999), минимальной для `min_storage_temperature` "
   ]
  },
  {
   "cell_type": "code",
   "execution_count": 782,
   "id": "8746b123-1ef1-4a22-b6b5-778b6fe91f8d",
   "metadata": {},
   "outputs": [
    {
     "data": {
      "text/plain": [
       "[40.0, 50.0, 9999.0]"
      ]
     },
     "execution_count": 782,
     "metadata": {},
     "output_type": "execute_result"
    }
   ],
   "source": [
    "sorted(df['max_storage_temperature'].dropna().unique())[-3:]"
   ]
  },
  {
   "cell_type": "code",
   "execution_count": 783,
   "id": "780a8cf6-bd86-47eb-ac1b-1095521b7933",
   "metadata": {},
   "outputs": [
    {
     "data": {
      "text/plain": [
       "[-40.0, -30.0, -26.0]"
      ]
     },
     "execution_count": 783,
     "metadata": {},
     "output_type": "execute_result"
    }
   ],
   "source": [
    "sorted(df['min_storage_temperature'].dropna().unique())[:3]"
   ]
  },
  {
   "cell_type": "code",
   "execution_count": 784,
   "id": "72155c91-d86a-4fa9-85cb-6b58fdbae530",
   "metadata": {},
   "outputs": [
    {
     "data": {
      "text/html": [
       "<div>\n",
       "<style scoped>\n",
       "    .dataframe tbody tr th:only-of-type {\n",
       "        vertical-align: middle;\n",
       "    }\n",
       "\n",
       "    .dataframe tbody tr th {\n",
       "        vertical-align: top;\n",
       "    }\n",
       "\n",
       "    .dataframe thead th {\n",
       "        text-align: right;\n",
       "    }\n",
       "</style>\n",
       "<table border=\"1\" class=\"dataframe\">\n",
       "  <thead>\n",
       "    <tr style=\"text-align: right;\">\n",
       "      <th></th>\n",
       "      <th>name</th>\n",
       "      <th>category</th>\n",
       "      <th>subcategory</th>\n",
       "      <th>kalories</th>\n",
       "      <th>proteins</th>\n",
       "      <th>fats</th>\n",
       "      <th>carbohydrates</th>\n",
       "      <th>composition</th>\n",
       "      <th>manufacturer</th>\n",
       "      <th>brand</th>\n",
       "      <th>...</th>\n",
       "      <th>rating</th>\n",
       "      <th>size</th>\n",
       "      <th>price</th>\n",
       "      <th>old_price</th>\n",
       "      <th>discount</th>\n",
       "      <th>shelf_life</th>\n",
       "      <th>max_storage_temperature</th>\n",
       "      <th>min_storage_temperature</th>\n",
       "      <th>is_by_weight</th>\n",
       "      <th>is_special_offer</th>\n",
       "    </tr>\n",
       "  </thead>\n",
       "  <tbody>\n",
       "    <tr>\n",
       "      <th>4531</th>\n",
       "      <td>Коньяк Старая Площадь КВ выдержанный 40%, 500мл</td>\n",
       "      <td>Алкогольные напитки</td>\n",
       "      <td>Коньяк</td>\n",
       "      <td>230.0</td>\n",
       "      <td>0.0</td>\n",
       "      <td>0.0</td>\n",
       "      <td>1.2</td>\n",
       "      <td>Дистилляты коньячные выдержанные не менее  сем...</td>\n",
       "      <td>Мосазервинзавод</td>\n",
       "      <td>СТАРАЯ ПЛОЩАДЬ</td>\n",
       "      <td>...</td>\n",
       "      <td>0.0</td>\n",
       "      <td>500.0</td>\n",
       "      <td>779.99</td>\n",
       "      <td>779.99</td>\n",
       "      <td>0.0</td>\n",
       "      <td>9999.0</td>\n",
       "      <td>9999.0</td>\n",
       "      <td>5.0</td>\n",
       "      <td>0</td>\n",
       "      <td>False</td>\n",
       "    </tr>\n",
       "  </tbody>\n",
       "</table>\n",
       "<p>1 rows × 21 columns</p>\n",
       "</div>"
      ],
      "text/plain": [
       "                                                 name             category  \\\n",
       "4531  Коньяк Старая Площадь КВ выдержанный 40%, 500мл  Алкогольные напитки   \n",
       "\n",
       "     subcategory  kalories proteins fats carbohydrates  \\\n",
       "4531      Коньяк     230.0      0.0  0.0           1.2   \n",
       "\n",
       "                                            composition     manufacturer  \\\n",
       "4531  Дистилляты коньячные выдержанные не менее  сем...  Мосазервинзавод   \n",
       "\n",
       "               brand  ... rating   size   price old_price discount shelf_life  \\\n",
       "4531  СТАРАЯ ПЛОЩАДЬ  ...    0.0  500.0  779.99    779.99      0.0     9999.0   \n",
       "\n",
       "     max_storage_temperature min_storage_temperature is_by_weight  \\\n",
       "4531                  9999.0                     5.0            0   \n",
       "\n",
       "      is_special_offer  \n",
       "4531             False  \n",
       "\n",
       "[1 rows x 21 columns]"
      ]
     },
     "execution_count": 784,
     "metadata": {},
     "output_type": "execute_result"
    }
   ],
   "source": [
    "df[df['max_storage_temperature'] == 9999]"
   ]
  },
  {
   "cell_type": "code",
   "execution_count": 785,
   "id": "810dac6b-467f-4262-bd09-ddfd65ccf71e",
   "metadata": {},
   "outputs": [],
   "source": [
    "max_mask = (df['max_storage_temperature'] == 9999) + df['max_storage_temperature'].isnull()\n",
    "df.loc[max_mask, 'max_storage_temperature'] = 50.0\n",
    "\n",
    "min_mask = df['min_storage_temperature'].isnull()\n",
    "df.loc[min_mask, 'min_storage_temperature'] = -40.0"
   ]
  },
  {
   "cell_type": "markdown",
   "id": "9f1d2b41-6f69-49fd-b46e-a8c14d8f32ef",
   "metadata": {},
   "source": [
    "**Шаг 7** \\\n",
    "Заплолним пропуски в `manufacturer`, `brand` и `country` как \"Unknown\""
   ]
  },
  {
   "cell_type": "code",
   "execution_count": 786,
   "id": "68917962-5904-4b87-9ca7-61c358e9b87a",
   "metadata": {},
   "outputs": [],
   "source": [
    "df['manufacturer'] = df['manufacturer'].fillna('Unknown')\n",
    "df['brand'] = df['brand'].fillna('Unknown')\n",
    "df['country'] = df['country'].fillna('Unknown')"
   ]
  },
  {
   "cell_type": "markdown",
   "id": "3cbf08e3-4d6d-4e48-9bd8-eec367241feb",
   "metadata": {},
   "source": [
    "**Шаг 8** \\\n",
    "Удалим все записи с отсутсвующим составом `composition`"
   ]
  },
  {
   "cell_type": "code",
   "execution_count": 787,
   "id": "ae9e141a-f9d4-43b3-a58a-cc04421b678a",
   "metadata": {},
   "outputs": [],
   "source": [
    "df.dropna(subset=['composition'], inplace=True)"
   ]
  },
  {
   "cell_type": "markdown",
   "id": "2e076a89-2a0f-4d38-bbaf-593b8e5222b8",
   "metadata": {},
   "source": [
    "Обновляем тип колонок в df и проверяем пропуски"
   ]
  },
  {
   "cell_type": "code",
   "execution_count": 788,
   "id": "6e3220f5-711a-4a35-8041-83c96e53dc31",
   "metadata": {},
   "outputs": [
    {
     "data": {
      "text/plain": [
       "name                       0\n",
       "category                   0\n",
       "subcategory                0\n",
       "kalories                   0\n",
       "proteins                   0\n",
       "fats                       0\n",
       "carbohydrates              0\n",
       "composition                0\n",
       "manufacturer               0\n",
       "brand                      0\n",
       "country                    0\n",
       "rating                     0\n",
       "size                       0\n",
       "price                      0\n",
       "old_price                  0\n",
       "discount                   0\n",
       "shelf_life                 0\n",
       "max_storage_temperature    0\n",
       "min_storage_temperature    0\n",
       "is_by_weight               0\n",
       "is_special_offer           0\n",
       "dtype: int64"
      ]
     },
     "execution_count": 788,
     "metadata": {},
     "output_type": "execute_result"
    }
   ],
   "source": [
    "numeric_cols = ['proteins', 'fats', 'carbohydrates', 'size', 'price', 'old_price',\n",
    "                'discount', 'shelf_life', 'max_storage_temperature', 'min_storage_temperature']\n",
    "df[numeric_cols] = df[numeric_cols].astype(float)\n",
    "df.isnull().sum()"
   ]
  },
  {
   "cell_type": "markdown",
   "id": "2ba948cc-f936-45b7-a3eb-9a66583de11d",
   "metadata": {},
   "source": [
    "**Выбросы** \\\n",
    "С `max_storage_temperature` мы справились, посмотрим остальные"
   ]
  },
  {
   "cell_type": "code",
   "execution_count": 789,
   "id": "1865e8a5-22a2-44af-aec6-4b34261a486a",
   "metadata": {},
   "outputs": [
    {
     "data": {
      "text/html": [
       "<div>\n",
       "<style scoped>\n",
       "    .dataframe tbody tr th:only-of-type {\n",
       "        vertical-align: middle;\n",
       "    }\n",
       "\n",
       "    .dataframe tbody tr th {\n",
       "        vertical-align: top;\n",
       "    }\n",
       "\n",
       "    .dataframe thead th {\n",
       "        text-align: right;\n",
       "    }\n",
       "</style>\n",
       "<table border=\"1\" class=\"dataframe\">\n",
       "  <thead>\n",
       "    <tr style=\"text-align: right;\">\n",
       "      <th></th>\n",
       "      <th>kalories</th>\n",
       "      <th>proteins</th>\n",
       "      <th>fats</th>\n",
       "      <th>carbohydrates</th>\n",
       "      <th>rating</th>\n",
       "      <th>size</th>\n",
       "      <th>price</th>\n",
       "      <th>old_price</th>\n",
       "      <th>discount</th>\n",
       "      <th>shelf_life</th>\n",
       "      <th>max_storage_temperature</th>\n",
       "      <th>min_storage_temperature</th>\n",
       "      <th>is_by_weight</th>\n",
       "    </tr>\n",
       "  </thead>\n",
       "  <tbody>\n",
       "    <tr>\n",
       "      <th>count</th>\n",
       "      <td>12082.000000</td>\n",
       "      <td>12082.000000</td>\n",
       "      <td>12082.000000</td>\n",
       "      <td>12082.000000</td>\n",
       "      <td>12082.000000</td>\n",
       "      <td>12082.000000</td>\n",
       "      <td>12082.000000</td>\n",
       "      <td>12082.000000</td>\n",
       "      <td>12082.000000</td>\n",
       "      <td>12082.000000</td>\n",
       "      <td>12082.000000</td>\n",
       "      <td>12082.000000</td>\n",
       "      <td>12082.000000</td>\n",
       "    </tr>\n",
       "    <tr>\n",
       "      <th>mean</th>\n",
       "      <td>231.813458</td>\n",
       "      <td>6.104883</td>\n",
       "      <td>10.792071</td>\n",
       "      <td>23.818548</td>\n",
       "      <td>4.674126</td>\n",
       "      <td>386.965238</td>\n",
       "      <td>346.652125</td>\n",
       "      <td>380.369051</td>\n",
       "      <td>7.085665</td>\n",
       "      <td>1388.167936</td>\n",
       "      <td>25.593569</td>\n",
       "      <td>-12.723887</td>\n",
       "      <td>0.053054</td>\n",
       "    </tr>\n",
       "    <tr>\n",
       "      <th>std</th>\n",
       "      <td>187.792658</td>\n",
       "      <td>7.926131</td>\n",
       "      <td>15.762864</td>\n",
       "      <td>28.978437</td>\n",
       "      <td>0.884550</td>\n",
       "      <td>399.062383</td>\n",
       "      <td>608.224108</td>\n",
       "      <td>673.606095</td>\n",
       "      <td>12.918554</td>\n",
       "      <td>2980.774709</td>\n",
       "      <td>18.877084</td>\n",
       "      <td>21.236726</td>\n",
       "      <td>0.224151</td>\n",
       "    </tr>\n",
       "    <tr>\n",
       "      <th>min</th>\n",
       "      <td>0.000000</td>\n",
       "      <td>0.000000</td>\n",
       "      <td>0.000000</td>\n",
       "      <td>0.000000</td>\n",
       "      <td>0.000000</td>\n",
       "      <td>1.000000</td>\n",
       "      <td>6.990000</td>\n",
       "      <td>6.990000</td>\n",
       "      <td>0.000000</td>\n",
       "      <td>1.000000</td>\n",
       "      <td>-18.000000</td>\n",
       "      <td>-40.000000</td>\n",
       "      <td>0.000000</td>\n",
       "    </tr>\n",
       "    <tr>\n",
       "      <th>25%</th>\n",
       "      <td>68.000000</td>\n",
       "      <td>0.000000</td>\n",
       "      <td>0.000000</td>\n",
       "      <td>0.600000</td>\n",
       "      <td>4.790000</td>\n",
       "      <td>125.000000</td>\n",
       "      <td>97.990000</td>\n",
       "      <td>104.990000</td>\n",
       "      <td>0.000000</td>\n",
       "      <td>120.000000</td>\n",
       "      <td>6.000000</td>\n",
       "      <td>-40.000000</td>\n",
       "      <td>0.000000</td>\n",
       "    </tr>\n",
       "    <tr>\n",
       "      <th>50%</th>\n",
       "      <td>218.000000</td>\n",
       "      <td>3.700000</td>\n",
       "      <td>3.000000</td>\n",
       "      <td>10.000000</td>\n",
       "      <td>4.860000</td>\n",
       "      <td>270.000000</td>\n",
       "      <td>169.990000</td>\n",
       "      <td>184.990000</td>\n",
       "      <td>0.000000</td>\n",
       "      <td>365.000000</td>\n",
       "      <td>25.000000</td>\n",
       "      <td>0.000000</td>\n",
       "      <td>0.000000</td>\n",
       "    </tr>\n",
       "    <tr>\n",
       "      <th>75%</th>\n",
       "      <td>360.600000</td>\n",
       "      <td>9.200000</td>\n",
       "      <td>17.600000</td>\n",
       "      <td>49.000000</td>\n",
       "      <td>4.910000</td>\n",
       "      <td>500.000000</td>\n",
       "      <td>349.990000</td>\n",
       "      <td>369.990000</td>\n",
       "      <td>12.000000</td>\n",
       "      <td>730.000000</td>\n",
       "      <td>50.000000</td>\n",
       "      <td>2.000000</td>\n",
       "      <td>0.000000</td>\n",
       "    </tr>\n",
       "    <tr>\n",
       "      <th>max</th>\n",
       "      <td>2596.000000</td>\n",
       "      <td>250.000000</td>\n",
       "      <td>106.000000</td>\n",
       "      <td>930.000000</td>\n",
       "      <td>5.000000</td>\n",
       "      <td>18900.000000</td>\n",
       "      <td>16999.000000</td>\n",
       "      <td>19999.000000</td>\n",
       "      <td>77.000000</td>\n",
       "      <td>9999.000000</td>\n",
       "      <td>50.000000</td>\n",
       "      <td>39.000000</td>\n",
       "      <td>1.000000</td>\n",
       "    </tr>\n",
       "  </tbody>\n",
       "</table>\n",
       "</div>"
      ],
      "text/plain": [
       "           kalories      proteins          fats  carbohydrates        rating  \\\n",
       "count  12082.000000  12082.000000  12082.000000   12082.000000  12082.000000   \n",
       "mean     231.813458      6.104883     10.792071      23.818548      4.674126   \n",
       "std      187.792658      7.926131     15.762864      28.978437      0.884550   \n",
       "min        0.000000      0.000000      0.000000       0.000000      0.000000   \n",
       "25%       68.000000      0.000000      0.000000       0.600000      4.790000   \n",
       "50%      218.000000      3.700000      3.000000      10.000000      4.860000   \n",
       "75%      360.600000      9.200000     17.600000      49.000000      4.910000   \n",
       "max     2596.000000    250.000000    106.000000     930.000000      5.000000   \n",
       "\n",
       "               size         price     old_price      discount    shelf_life  \\\n",
       "count  12082.000000  12082.000000  12082.000000  12082.000000  12082.000000   \n",
       "mean     386.965238    346.652125    380.369051      7.085665   1388.167936   \n",
       "std      399.062383    608.224108    673.606095     12.918554   2980.774709   \n",
       "min        1.000000      6.990000      6.990000      0.000000      1.000000   \n",
       "25%      125.000000     97.990000    104.990000      0.000000    120.000000   \n",
       "50%      270.000000    169.990000    184.990000      0.000000    365.000000   \n",
       "75%      500.000000    349.990000    369.990000     12.000000    730.000000   \n",
       "max    18900.000000  16999.000000  19999.000000     77.000000   9999.000000   \n",
       "\n",
       "       max_storage_temperature  min_storage_temperature  is_by_weight  \n",
       "count             12082.000000             12082.000000  12082.000000  \n",
       "mean                 25.593569               -12.723887      0.053054  \n",
       "std                  18.877084                21.236726      0.224151  \n",
       "min                 -18.000000               -40.000000      0.000000  \n",
       "25%                   6.000000               -40.000000      0.000000  \n",
       "50%                  25.000000                 0.000000      0.000000  \n",
       "75%                  50.000000                 2.000000      0.000000  \n",
       "max                  50.000000                39.000000      1.000000  "
      ]
     },
     "execution_count": 789,
     "metadata": {},
     "output_type": "execute_result"
    }
   ],
   "source": [
    "df.describe()"
   ]
  },
  {
   "cell_type": "code",
   "execution_count": 790,
   "id": "ec8b8a1c-da9e-48b2-b9b8-257af17e4867",
   "metadata": {},
   "outputs": [
    {
     "data": {
      "image/png": "[encoded data removed]",
      "text/plain": [
       "<Figure size 1000x400 with 1 Axes>"
      ]
     },
     "metadata": {},
     "output_type": "display_data"
    }
   ],
   "source": [
    "numeric_df_first = df[['kalories', 'proteins', 'fats', 'carbohydrates']]\n",
    "numeric_df_sec = df[['size', 'price', 'old_price', 'shelf_life']]\n",
    "\n",
    "plt.figure(figsize=(10, 4))\n",
    "sns.boxplot(data=numeric_df_first)\n",
    "plt.title('Первый набор данных')\n",
    "plt.xlabel('Столбцы')\n",
    "plt.ylabel('Значения')\n",
    "plt.xticks(rotation=45)\n",
    "plt.show()"
   ]
  },
  {
   "cell_type": "markdown",
   "id": "87b43765-97c2-4b89-a853-369fc9f9e49a",
   "metadata": {},
   "source": [
    "Разбираемся с супер-белковыми мороженым и супер-калорийными хлебцами"
   ]
  },
  {
   "cell_type": "code",
   "execution_count": 791,
   "id": "52bc5930-8f0c-4413-893a-f1002b30498d",
   "metadata": {},
   "outputs": [
    {
     "name": "stdout",
     "output_type": "stream",
     "text": [
      "name        Сыр Итальянские Традиции Качотта с пеперончино...\n",
      "kalories                                               1402.0\n",
      "Name: 3621, dtype: object\n"
     ]
    }
   ],
   "source": [
    "x10_outliers = df['kalories'] > 1100\n",
    "print(df[x10_outliers][['name', 'kalories']].iloc[0])\n",
    "df.loc[x10_outliers, 'kalories'] = df['kalories'][x10_outliers] / 10"
   ]
  },
  {
   "cell_type": "code",
   "execution_count": 792,
   "id": "98f2254b-55b0-4b36-b13f-848156507e6d",
   "metadata": {},
   "outputs": [
    {
     "name": "stdout",
     "output_type": "stream",
     "text": [
      "                                                   name  kalories\n",
      "6910                       Водка Гусь Важный 40%, 500мл     920.0\n",
      "7044  Водка Kremlin Award Органик Лимитед Эдишн 40%,...     940.0\n"
     ]
    }
   ],
   "source": [
    "vodka_outliers = df['kalories'] > 919\n",
    "print(df[vodka_outliers][['name', 'kalories']])\n",
    "df.loc[vodka_outliers, 'kalories'] = df['kalories'][vodka_outliers] / (df['size'][vodka_outliers]/100)"
   ]
  },
  {
   "cell_type": "code",
   "execution_count": 793,
   "id": "31143e10-5a4e-4d63-8ab7-d207f00bcfd4",
   "metadata": {},
   "outputs": [
    {
     "name": "stdout",
     "output_type": "stream",
     "text": [
      "                                                    name  proteins\n",
      "11611  Мороженое сливочное Brand Ice Сливки с печенье...     250.0\n"
     ]
    }
   ],
   "source": [
    "icecream_outliers = df['proteins'] > 249\n",
    "print(df[icecream_outliers][['name', 'proteins']])\n",
    "df.loc[icecream_outliers, 'kalories'] = df['kalories'][icecream_outliers] / 10"
   ]
  },
  {
   "cell_type": "code",
   "execution_count": 794,
   "id": "b206e86f-57ef-41b7-819e-bbf0cca614cf",
   "metadata": {},
   "outputs": [
    {
     "name": "stdout",
     "output_type": "stream",
     "text": [
      "                                     name   fats\n",
      "5863  Гранола Ягодная Зелёная Линия, 300г  106.0\n"
     ]
    }
   ],
   "source": [
    "fats_outliers = df['fats'] > 105\n",
    "print(df[fats_outliers][['name', 'fats']])\n",
    "df.loc[fats_outliers, 'fats'] = df['fats'][fats_outliers] / 10"
   ]
  },
  {
   "cell_type": "code",
   "execution_count": 795,
   "id": "7a36653e-1c41-4445-869f-b84c8d39d494",
   "metadata": {},
   "outputs": [
    {
     "name": "stdout",
     "output_type": "stream",
     "text": [
      "                                      name  carbohydrates\n",
      "3619            Сыр Киприно Российский 50%          360.0\n",
      "6405                 Водка CORN 40%, 500мл          930.0\n",
      "10393  Конфеты ассорти Зелёная Линия, 200г          153.3\n"
     ]
    }
   ],
   "source": [
    "icecream_outliers = df['carbohydrates'] > 105\n",
    "print(df[icecream_outliers][['name', 'carbohydrates']])\n",
    "df.loc[icecream_outliers, 'carbohydrates'] = df['carbohydrates'][icecream_outliers] / 10"
   ]
  },
  {
   "cell_type": "markdown",
   "id": "077ad29d-7f11-4bb2-bd1b-27c590d2915f",
   "metadata": {},
   "source": [
    "**Итог** "
   ]
  },
  {
   "cell_type": "code",
   "execution_count": 796,
   "id": "f73e0fbd-bf37-4a77-9586-23181bd7078e",
   "metadata": {},
   "outputs": [
    {
     "name": "stdout",
     "output_type": "stream",
     "text": [
      "<class 'pandas.core.frame.DataFrame'>\n",
      "Index: 12082 entries, 0 to 12598\n",
      "Data columns (total 21 columns):\n",
      " #   Column                   Non-Null Count  Dtype  \n",
      "---  ------                   --------------  -----  \n",
      " 0   name                     12082 non-null  object \n",
      " 1   category                 12082 non-null  object \n",
      " 2   subcategory              12082 non-null  object \n",
      " 3   kalories                 12082 non-null  float64\n",
      " 4   proteins                 12082 non-null  float64\n",
      " 5   fats                     12082 non-null  float64\n",
      " 6   carbohydrates            12082 non-null  float64\n",
      " 7   composition              12082 non-null  object \n",
      " 8   manufacturer             12082 non-null  object \n",
      " 9   brand                    12082 non-null  object \n",
      " 10  country                  12082 non-null  object \n",
      " 11  rating                   12082 non-null  float64\n",
      " 12  size                     12082 non-null  float64\n",
      " 13  price                    12082 non-null  float64\n",
      " 14  old_price                12082 non-null  float64\n",
      " 15  discount                 12082 non-null  float64\n",
      " 16  shelf_life               12082 non-null  float64\n",
      " 17  max_storage_temperature  12082 non-null  float64\n",
      " 18  min_storage_temperature  12082 non-null  float64\n",
      " 19  is_by_weight             12082 non-null  int32  \n",
      " 20  is_special_offer         12082 non-null  bool   \n",
      "dtypes: bool(1), float64(12), int32(1), object(7)\n",
      "memory usage: 1.9+ MB\n"
     ]
    }
   ],
   "source": [
    "df.info()"
   ]
  },
  {
   "cell_type": "markdown",
   "id": "92f7fc38-313b-483f-ba61-0e2bcc57a39c",
   "metadata": {},
   "source": [
    "## Визуализация"
   ]
  },
  {
   "cell_type": "code",
   "execution_count": 797,
   "id": "b782c138-84d2-4107-b2de-581a88da7015",
   "metadata": {},
   "outputs": [
    {
     "data": {
      "image/png": "[encoded data removed]",
      "text/plain": [
       "<Figure size 800x300 with 1 Axes>"
      ]
     },
     "metadata": {},
     "output_type": "display_data"
    }
   ],
   "source": [
    "# Гистограмма калорий\n",
    "plt.figure (figsize = (8, 3))\n",
    "sns.histplot(df['price'].apply(lambda x: np.log(x+1)), color='skyblue')\n",
    "plt.title('Распределение log цены')\n",
    "plt.xlabel('Цена')\n",
    "plt.ylabel('Частота')\n",
    "plt.show()"
   ]
  },
  {
   "cell_type": "code",
   "execution_count": 798,
   "id": "b7e7f791-d1b7-4293-b7b2-492d3d90ac60",
   "metadata": {},
   "outputs": [
    {
     "data": {
      "image/png": "[encoded data removed]",
      "text/plain": [
       "<Figure size 640x480 with 1 Axes>"
      ]
     },
     "metadata": {},
     "output_type": "display_data"
    }
   ],
   "source": [
    "# Диаграмма рассеяния между калориями и белками\n",
    "plt.scatter(df['fats'] * (df['size']/100) , df['price'].apply(lambda x: np.log(x+1)), color='skyblue', alpha=0.5)\n",
    "plt.title('Калории vs Цена')\n",
    "plt.xlabel('Калории')\n",
    "plt.ylabel('Цена')\n",
    "plt.show()"
   ]
  },
  {
   "cell_type": "code",
   "execution_count": 799,
   "id": "996c00de-a719-426c-bf03-6b011431bd8d",
   "metadata": {},
   "outputs": [
    {
     "data": {
      "image/png": "[encoded data removed]",
      "text/plain": [
       "<Figure size 600x600 with 1 Axes>"
      ]
     },
     "metadata": {},
     "output_type": "display_data"
    }
   ],
   "source": [
    "threshold_percentage = 0.8\n",
    "\n",
    "category_counts = df['category'].value_counts()\n",
    "\n",
    "small_categories_sum = category_counts[category_counts / category_counts.sum() * 100 < threshold_percentage].sum()\n",
    "category_counts = category_counts[category_counts / category_counts.sum() * 100 >= threshold_percentage]\n",
    "category_counts['Другое'] = small_categories_sum\n",
    "\n",
    "plt.figure(figsize=(6, 6))\n",
    "sns.set_palette(\"pastel\")  # выбираем палитру цветов\n",
    "plt.pie(category_counts, labels=category_counts.index, autopct='%1.1f%%', startangle=45)\n",
    "plt.title('Распределение по категориям продуктов')\n",
    "plt.axis('equal')\n",
    "plt.show()"
   ]
  },
  {
   "cell_type": "code",
   "execution_count": 800,
   "id": "e16432f1-18b8-45ab-8f4f-c79bebe5f4d7",
   "metadata": {},
   "outputs": [
    {
     "data": {
      "image/png": "[encoded data removed]",
      "text/plain": [
       "<Figure size 400x200 with 1 Axes>"
      ]
     },
     "metadata": {},
     "output_type": "display_data"
    }
   ],
   "source": [
    "# Выбираем только нужные колонки\n",
    "selected_columns = ['category', 'subcategory', 'manufacturer', 'brand', 'country']\n",
    "selected_data = df[selected_columns]\n",
    "\n",
    "# Получаем количество уникальных элементов в каждой колонке\n",
    "unique_counts = [len(selected_data[col].unique()) for col in selected_columns]\n",
    "\n",
    "# Строим график\n",
    "plt.figure(figsize=(4, 2))\n",
    "plt.bar(selected_columns, unique_counts, color='skyblue')\n",
    "plt.title('Количество уникальных элементов в каждой колонке')\n",
    "# plt.xlabel('Колонка')\n",
    "plt.ylabel('Количество')\n",
    "plt.xticks(rotation=45)\n",
    "plt.show()"
   ]
  },
  {
   "cell_type": "code",
   "execution_count": 801,
   "id": "734506d7-319d-4e42-98e7-9612e9a79d4c",
   "metadata": {},
   "outputs": [
    {
     "data": {
      "text/plain": [
       "<Axes: >"
      ]
     },
     "execution_count": 801,
     "metadata": {},
     "output_type": "execute_result"
    },
    {
     "data": {
      "image/png": "[encoded data removed]",
      "text/plain": [
       "<Figure size 640x480 with 2 Axes>"
      ]
     },
     "metadata": {},
     "output_type": "display_data"
    }
   ],
   "source": [
    "numeric_df = df.drop(['name', 'category', 'subcategory', 'composition', 'manufacturer', 'brand', 'country'], axis=1)\n",
    "sns.heatmap(numeric_df.corr())"
   ]
  },
  {
   "cell_type": "code",
   "execution_count": 802,
   "id": "3062aa12-44f6-41a6-9694-24f5ca87171e",
   "metadata": {},
   "outputs": [
    {
     "data": {
      "text/plain": [
       "<Figure size 1200x800 with 0 Axes>"
      ]
     },
     "metadata": {},
     "output_type": "display_data"
    },
    {
     "data": {
      "image/png": "[encoded data removed]",
      "text/plain": [
       "<Figure size 640x480 with 1 Axes>"
      ]
     },
     "metadata": {},
     "output_type": "display_data"
    }
   ],
   "source": [
    "nutrients_by_subcategory = df.groupby('subcategory')[['kalories', 'proteins', 'fats', 'carbohydrates']] \\\n",
    "    .mean().sort_values(by='kalories', ascending=False)[['proteins', 'fats', 'carbohydrates']].head(10)\n",
    "\n",
    "plt.figure(figsize=(12, 8))\n",
    "nutrients_by_subcategory.plot(kind='bar', stacked=True)\n",
    "plt.title('Самые калорийные подкатегории')\n",
    "plt.xlabel('Подкатегория')\n",
    "plt.ylabel('Среднее значение')\n",
    "plt.xticks(rotation=45, ha='right')\n",
    "plt.legend(title='Нутриенты', loc='upper left')\n",
    "plt.tight_layout()\n",
    "plt.show()\n"
   ]
  },
  {
   "cell_type": "code",
   "execution_count": 803,
   "id": "926aadd4-f2ba-4734-8146-68b96ca0c2bd",
   "metadata": {},
   "outputs": [
    {
     "data": {
      "text/plain": [
       "<Figure size 1200x800 with 0 Axes>"
      ]
     },
     "metadata": {},
     "output_type": "display_data"
    },
    {
     "data": {
      "image/png": "[encoded data removed]",
      "text/plain": [
       "<Figure size 640x480 with 1 Axes>"
      ]
     },
     "metadata": {},
     "output_type": "display_data"
    }
   ],
   "source": [
    "nutrients_by_subcategory = df.groupby('subcategory')[['proteins', 'fats', 'carbohydrates']] \\\n",
    "    .mean().sort_values(by='proteins', ascending=False).head(10)\n",
    "\n",
    "plt.figure(figsize=(12, 8))\n",
    "nutrients_by_subcategory.plot(kind='bar', stacked=True)\n",
    "plt.title('Самые белковые подкатегории')\n",
    "plt.xlabel('Подкатегория')\n",
    "plt.ylabel('Среднее значение')\n",
    "plt.xticks(rotation=45, ha='right')\n",
    "plt.legend(title='Нутриенты', loc='upper left')\n",
    "plt.tight_layout()\n",
    "plt.show()\n"
   ]
  },
  {
   "cell_type": "markdown",
   "id": "0aa006e3-4db2-45b1-b627-d28c3cb0b481",
   "metadata": {},
   "source": [
    "## Создание новых признаков"
   ]
  },
  {
   "cell_type": "markdown",
   "id": "2a303283-4497-4d41-8574-f713ac647f0f",
   "metadata": {},
   "source": [
    "`is_by_weight` - На развес ли продукт \\\n",
    "`is_special_offer` - Есть ли специальное предложение \\\n",
    "`price_per_100g` - Цена за 100 гр продукта \\\n",
    "`composition[0,N]` - One-hot по составу  "
   ]
  },
  {
   "cell_type": "markdown",
   "id": "4ada06e4-4c91-4c61-b8e4-7a185746591d",
   "metadata": {},
   "source": [
    "Признаки [is_by_weight](#is_by_weight) и [is_special_offer](#is_special_offer) уже были созданы в предобработке, создадим остальные"
   ]
  },
  {
   "cell_type": "markdown",
   "id": "eaeea97f-30f1-4750-a6ad-8ac9ba726192",
   "metadata": {},
   "source": [
    "**Шаг 1** \\\n",
    "Найдем цену за 100 гр"
   ]
  },
  {
   "cell_type": "code",
   "execution_count": 804,
   "id": "fa12257e-4732-4dae-8866-dc24fbfab385",
   "metadata": {},
   "outputs": [
    {
     "data": {
      "text/html": [
       "<div>\n",
       "<style scoped>\n",
       "    .dataframe tbody tr th:only-of-type {\n",
       "        vertical-align: middle;\n",
       "    }\n",
       "\n",
       "    .dataframe tbody tr th {\n",
       "        vertical-align: top;\n",
       "    }\n",
       "\n",
       "    .dataframe thead th {\n",
       "        text-align: right;\n",
       "    }\n",
       "</style>\n",
       "<table border=\"1\" class=\"dataframe\">\n",
       "  <thead>\n",
       "    <tr style=\"text-align: right;\">\n",
       "      <th></th>\n",
       "      <th>name</th>\n",
       "      <th>price</th>\n",
       "      <th>size</th>\n",
       "      <th>price_per_100g</th>\n",
       "    </tr>\n",
       "  </thead>\n",
       "  <tbody>\n",
       "    <tr>\n",
       "      <th>3309</th>\n",
       "      <td>Соль поваренная пищевая крупная, 1кг</td>\n",
       "      <td>12.90</td>\n",
       "      <td>1000.0</td>\n",
       "      <td>1.2900</td>\n",
       "    </tr>\n",
       "    <tr>\n",
       "      <th>6541</th>\n",
       "      <td>Вода Малаховская №1 питьевая 1 категории негаз...</td>\n",
       "      <td>74.99</td>\n",
       "      <td>5000.0</td>\n",
       "      <td>1.4998</td>\n",
       "    </tr>\n",
       "  </tbody>\n",
       "</table>\n",
       "</div>"
      ],
      "text/plain": [
       "                                                   name  price    size  \\\n",
       "3309               Соль поваренная пищевая крупная, 1кг  12.90  1000.0   \n",
       "6541  Вода Малаховская №1 питьевая 1 категории негаз...  74.99  5000.0   \n",
       "\n",
       "      price_per_100g  \n",
       "3309          1.2900  \n",
       "6541          1.4998  "
      ]
     },
     "execution_count": 804,
     "metadata": {},
     "output_type": "execute_result"
    }
   ],
   "source": [
    "df['price_per_100g'] = (df['price']/df['size']) * 100\n",
    "\n",
    "df.sort_values(by='price_per_100g')[['name', 'price', 'size', 'price_per_100g']].head(2)"
   ]
  },
  {
   "cell_type": "code",
   "execution_count": 805,
   "id": "56dca685-1609-47b2-8d72-d55d566d6f34",
   "metadata": {},
   "outputs": [
    {
     "data": {
      "text/plain": [
       "140.30219176198122"
      ]
     },
     "execution_count": 805,
     "metadata": {},
     "output_type": "execute_result"
    }
   ],
   "source": [
    "df['price_per_100g'].mean()"
   ]
  },
  {
   "cell_type": "markdown",
   "id": "69bb143d-48e4-4fa5-b7be-e29a661bbb2b",
   "metadata": {},
   "source": [
    "**Шаг 2** \\\n",
    "При создании `price_per_100g` будем опираться на общие требования к указанию состава продуктов \n",
    "> *Ингредиенты перечисляются по уменьшению массы в продукте* "
   ]
  },
  {
   "cell_type": "code",
   "execution_count": 520,
   "id": "09a402da-8602-4d4c-802d-fc39e69ddb4e",
   "metadata": {},
   "outputs": [],
   "source": [
    "def process_string(string):\n",
    "\n",
    "    processed_string = string.lower()\n",
    "\n",
    "    processed_string = processed_string.replace(',',' ').replace('(',' ').replace(')',' ')\n",
    "\n",
    "    # Оставляем только буквы русского алфавита, цифры и латинский алфавит\n",
    "    processed_string = re.sub(r'[^а-яa-z0-9\\s]', '', processed_string)\n",
    "    return processed_string"
   ]
  },
  {
   "cell_type": "code",
   "execution_count": 521,
   "id": "0257540f-ca8e-4091-97ab-9a246900cd9c",
   "metadata": {},
   "outputs": [],
   "source": [
    "composition = df[~df['composition'].isnull()]['composition'].apply(process_string)"
   ]
  },
  {
   "cell_type": "code",
   "execution_count": 522,
   "id": "40df88d5-1a69-4df7-8638-8fbe39b45835",
   "metadata": {},
   "outputs": [
    {
     "data": {
      "text/plain": [
       "'свинина грудинка свиная посолочная смесь соль фиксатор окраски нитрит натрия  регулятор кислотности глюконодельталактон мальтодекстрин стабилизаторы трифосфат натрия полифосфат натрия усилитель вкуса и аромата глутамат натрия антиокислитель изоаскорбат натрия экстракт дрожжей волокна пищевые бамбук  перец чрный кориандр молоко сухое красители пищевые кармин ферментированный рис декстроза стартовая культура'"
      ]
     },
     "execution_count": 522,
     "metadata": {},
     "output_type": "execute_result"
    }
   ],
   "source": [
    "composition.iloc[233]"
   ]
  },
  {
   "cell_type": "code",
   "execution_count": 523,
   "id": "2f3b5de9-ff3a-4a9b-bb4e-f4acc1500fc6",
   "metadata": {},
   "outputs": [
    {
     "data": {
      "text/plain": [
       "'свинина,грудинка свиная,посолочная смесь(соль,фиксатор окраски нитрит натрия),регулятор кислотности глюконо-дельта-лактон,мальтодекстрин,стабилизаторы трифосфат натрия,полифосфат натрия,усилитель вкуса и аромата глутамат натрия,антиокислитель изоаскорбат натрия,экстракт дрожжей,волокна пищевые(бамбук),перец чёрный,кориандр,молоко сухое,красители пищевые кармин,ферментированный рис,декстроза,стартовая культура.'"
      ]
     },
     "execution_count": 523,
     "metadata": {},
     "output_type": "execute_result"
    }
   ],
   "source": [
    "df['composition'].iloc[233]"
   ]
  },
  {
   "cell_type": "code",
   "execution_count": 524,
   "id": "85f6348a-ec54-4e34-b5b7-7394c5c765e5",
   "metadata": {},
   "outputs": [],
   "source": [
    "lines = composition[~composition.isnull()]\n",
    "flat_lines = ' '.join(list(lines)).split()\n",
    "tokens = sorted(set(flat_lines))\n",
    "tokens = [t for t in tokens if len(t)]"
   ]
  },
  {
   "cell_type": "code",
   "execution_count": 525,
   "id": "dca4368b-22e5-4a68-932d-b066dd03a934",
   "metadata": {},
   "outputs": [
    {
     "data": {
      "text/plain": [
       "9832"
      ]
     },
     "execution_count": 525,
     "metadata": {},
     "output_type": "execute_result"
    }
   ],
   "source": [
    "len(tokens)"
   ]
  },
  {
   "cell_type": "markdown",
   "id": "51ac74a2-d73b-49b4-82c5-31ee68e85a0d",
   "metadata": {},
   "source": [
    "Создадим свою функцию one-hot кодирования с учётом позиции ингридиентов "
   ]
  },
  {
   "cell_type": "code",
   "execution_count": 351,
   "id": "6c0fdf26-24f1-4818-8eb4-46d7b88bd08f",
   "metadata": {},
   "outputs": [],
   "source": [
    "def create_ordered_onehot_np(text, tokens):\n",
    "    \"\"\" Создает one-hot вектор с учетом порядка слов, используя NumPy. \"\"\"\n",
    "    words = np.array(text.lower().split())\n",
    "    token_indices = np.where(np.isin(tokens, words))[0]  # Индексы совпадающих токенов\n",
    "    weights = 1 - (np.arange(len(words)) / len(words))   # Вектор весов\n",
    "    onehot = np.zeros(len(tokens))\n",
    "    np.add.at(onehot, token_indices, weights[token_indices])  # Добавляем веса по индексам\n",
    "    return onehot"
   ]
  },
  {
   "cell_type": "code",
   "execution_count": 352,
   "id": "75119a0d-2b0a-4ab0-b820-46ba3f0633dd",
   "metadata": {},
   "outputs": [
    {
     "data": {
      "text/plain": [
       "pandas.core.series.Series"
      ]
     },
     "execution_count": 352,
     "metadata": {},
     "output_type": "execute_result"
    }
   ],
   "source": [
    "type(composition)"
   ]
  },
  {
   "cell_type": "code",
   "execution_count": 353,
   "id": "f9852fd8-8c33-4b1f-95ea-6b7370b1916a",
   "metadata": {},
   "outputs": [
    {
     "data": {
      "text/plain": [
       "'виноград сорта зинфандель пищевая добавка консервант антиокислитель  диоксид серы'"
      ]
     },
     "execution_count": 353,
     "metadata": {},
     "output_type": "execute_result"
    }
   ],
   "source": [
    "composition[0]"
   ]
  },
  {
   "cell_type": "code",
   "execution_count": null,
   "id": "dae0819e-bbdd-4cbd-94b5-62040c47947e",
   "metadata": {},
   "outputs": [],
   "source": [
    "one_hot = composition.apply(create_ordered_onehot_np, args=(tokens,))\n",
    "one_hot"
   ]
  },
  {
   "cell_type": "code",
   "execution_count": 338,
   "id": "ed4fe959-d637-4ea4-b053-9cf76d6c775a",
   "metadata": {},
   "outputs": [
    {
     "data": {
      "text/plain": [
       "[0.33333333333333337,\n",
       " 1.0,\n",
       " 0.2222222222222222,\n",
       " 0.5555555555555556,\n",
       " 0.7777777777777778,\n",
       " 0.4444444444444444,\n",
       " 0.6666666666666667,\n",
       " 0.11111111111111116,\n",
       " 0.8888888888888888]"
      ]
     },
     "execution_count": 338,
     "metadata": {},
     "output_type": "execute_result"
    }
   ],
   "source": [
    "[e for e in test_h[0] if e]"
   ]
  },
  {
   "cell_type": "code",
   "execution_count": null,
   "id": "b701bed3-00b8-4307-9b5a-8bb9acc81fc1",
   "metadata": {},
   "outputs": [],
   "source": [
    "composition.iloc[0]"
   ]
  },
  {
   "cell_type": "code",
   "execution_count": 309,
   "id": "fd65d556-8ab9-4d1f-bc45-ee1ca84cbce9",
   "metadata": {},
   "outputs": [
    {
     "data": {
      "text/plain": [
       "0    виноград сорта зинфандель пищевая добавка конс...\n",
       "1    виноград сорта арени пищевая добавка консерван...\n",
       "2    сортовой состав винограда каштелао  60 аликант...\n",
       "3    виноград сорта монастрель пищевая добавка конс...\n",
       "Name: composition, dtype: object"
      ]
     },
     "execution_count": 309,
     "metadata": {},
     "output_type": "execute_result"
    }
   ],
   "source": [
    "composition.iloc[:4]"
   ]
  },
  {
   "cell_type": "code",
   "execution_count": 526,
   "id": "22495162-8041-4a81-996e-ae7eefd2ad35",
   "metadata": {},
   "outputs": [
    {
     "data": {
      "text/plain": [
       "['инулин',\n",
       " 'информация',\n",
       " 'инь',\n",
       " 'иодат',\n",
       " 'иодид',\n",
       " 'иодированная',\n",
       " 'иоис',\n",
       " 'ион',\n",
       " 'ионный',\n",
       " 'ионов',\n",
       " 'ип',\n",
       " 'ириса',\n",
       " 'ириски',\n",
       " 'ирисосливочный',\n",
       " 'ирландские',\n",
       " 'ирландский',\n",
       " 'исключением',\n",
       " 'исключено',\n",
       " 'исключительно',\n",
       " 'исксственные',\n",
       " 'искусственного',\n",
       " 'искусственные',\n",
       " 'искусственный',\n",
       " 'искусственных',\n",
       " 'искуственные',\n",
       " 'исландский',\n",
       " 'исландского',\n",
       " 'исландской',\n",
       " 'исот',\n",
       " 'испанская',\n",
       " 'использ',\n",
       " 'использование',\n",
       " 'использованием',\n",
       " 'использовании',\n",
       " 'использования',\n",
       " 'используемого',\n",
       " 'используемой',\n",
       " 'используемые',\n",
       " 'используемый',\n",
       " 'используемых',\n",
       " 'используется',\n",
       " 'используют',\n",
       " 'используются',\n",
       " 'использующем',\n",
       " 'исправленная',\n",
       " 'испраленная',\n",
       " 'исспользуются',\n",
       " 'источник',\n",
       " 'источника',\n",
       " 'источнике',\n",
       " 'источники',\n",
       " 'источников',\n",
       " 'исходная',\n",
       " 'исходном',\n",
       " 'исходный',\n",
       " 'италии',\n",
       " 'италика',\n",
       " 'италия',\n",
       " 'итальянская',\n",
       " 'итальянские',\n",
       " 'итальянский',\n",
       " 'итальянского',\n",
       " 'итойори',\n",
       " 'их',\n",
       " 'й',\n",
       " 'йогурт',\n",
       " 'йогурта',\n",
       " 'йогуртная',\n",
       " 'йогуртной',\n",
       " 'йогуртный',\n",
       " 'йогуртовая',\n",
       " 'йогуртовой',\n",
       " 'йогуртовые',\n",
       " 'йогуртовый',\n",
       " 'йогуртовых',\n",
       " 'йод',\n",
       " 'йода',\n",
       " 'йодат',\n",
       " 'йодата',\n",
       " 'йодид',\n",
       " 'йодидион0',\n",
       " 'йодированная',\n",
       " 'йодированной',\n",
       " 'йодистый',\n",
       " 'йодказеин',\n",
       " 'йодноватокислый',\n",
       " 'йодом',\n",
       " 'йота',\n",
       " 'к',\n",
       " 'к1',\n",
       " 'к300а',\n",
       " 'кaкао',\n",
       " 'ка',\n",
       " 'кабана',\n",
       " 'кабаний',\n",
       " 'кабанья',\n",
       " 'кабачки',\n",
       " 'кабачков',\n",
       " 'кабачок',\n",
       " 'кабаяки',\n",
       " 'каберне',\n",
       " 'кабернесовиньон',\n",
       " 'кавказская',\n",
       " 'кагун',\n",
       " 'каенский',\n",
       " 'каждый',\n",
       " 'казеин',\n",
       " 'казеинат',\n",
       " 'казинат',\n",
       " 'казначеют',\n",
       " 'кайенский',\n",
       " 'кайенскийпродукт',\n",
       " 'кайенского',\n",
       " 'кайса',\n",
       " 'как',\n",
       " 'какfо',\n",
       " 'кака',\n",
       " 'какал',\n",
       " 'какао',\n",
       " 'какао1',\n",
       " 'какаобобов',\n",
       " 'какаобобы',\n",
       " 'какаоепорошок',\n",
       " 'какаокрупка',\n",
       " 'какаомало',\n",
       " 'какаомасла',\n",
       " 'какаомаслалауриновый',\n",
       " 'какаомасло',\n",
       " 'какаомаслу',\n",
       " 'какаомасса',\n",
       " 'какаомусс',\n",
       " 'какаоне',\n",
       " 'какаообщее',\n",
       " 'какаопаста',\n",
       " 'какаопорошка',\n",
       " 'какаопорошок',\n",
       " 'какаопорошокалкализованный',\n",
       " 'какаопродуктов',\n",
       " 'какаопродукты',\n",
       " 'какаосодержащая',\n",
       " 'какаотертое',\n",
       " 'какаотртое',\n",
       " 'како',\n",
       " 'какоа',\n",
       " 'какое',\n",
       " 'какоепорошок',\n",
       " 'какомасло',\n",
       " 'какопорошок',\n",
       " 'кактус',\n",
       " 'каладок',\n",
       " 'каламанси',\n",
       " 'каламата',\n",
       " 'калган',\n",
       " 'калгана',\n",
       " 'календула',\n",
       " 'календулы',\n",
       " 'калиевая',\n",
       " 'калий',\n",
       " 'калины',\n",
       " 'калифорнийская',\n",
       " 'калия',\n",
       " 'калияконсервант',\n",
       " 'калиятехнологические',\n",
       " 'калорий',\n",
       " 'калорийность',\n",
       " 'калорйнсть',\n",
       " 'кальвадосный',\n",
       " 'кальмар',\n",
       " 'кальмара',\n",
       " 'кальмары',\n",
       " 'кальциевая',\n",
       " 'кальций',\n",
       " 'кальций20',\n",
       " 'кальцийt200320',\n",
       " 'кальцийион',\n",
       " 'кальциферол',\n",
       " 'кальция',\n",
       " 'кальциякарбонат',\n",
       " 'кальцый',\n",
       " 'кальята',\n",
       " 'камамбер',\n",
       " 'камбала',\n",
       " 'камбалаерш',\n",
       " 'камбоджийской',\n",
       " 'камдь',\n",
       " 'камеди',\n",
       " 'камедь',\n",
       " 'камедьксантановая',\n",
       " 'камель',\n",
       " 'каменная',\n",
       " 'камень',\n",
       " 'камчатского',\n",
       " 'канайоло',\n",
       " 'кангун',\n",
       " 'кандитерской',\n",
       " 'каннеллини',\n",
       " 'канолы',\n",
       " 'канталуп',\n",
       " 'канталупа',\n",
       " 'канталупы',\n",
       " 'као',\n",
       " 'каперсы',\n",
       " 'капли',\n",
       " 'каприна',\n",
       " 'капсантин',\n",
       " 'капсатин',\n",
       " 'капсорубин',\n",
       " 'капсула',\n",
       " 'капсулах',\n",
       " 'капсульный',\n",
       " 'капуста',\n",
       " 'капусты',\n",
       " 'капучино',\n",
       " 'кара',\n",
       " 'карагинан',\n",
       " 'каракатицы',\n",
       " 'каралинан',\n",
       " 'карамбола',\n",
       " 'карамболы',\n",
       " 'карамели',\n",
       " 'карамелизированная',\n",
       " 'карамелизированное',\n",
       " 'карамелизированные',\n",
       " 'карамелизированный',\n",
       " 'карамелизованного',\n",
       " 'карамелизованное',\n",
       " 'карамелизованные',\n",
       " 'карамелизованный',\n",
       " 'карамель',\n",
       " 'карамелька',\n",
       " 'карамелькрем',\n",
       " 'карамельная',\n",
       " 'карамельнаяnмолоко',\n",
       " 'карамельного',\n",
       " 'карамельные',\n",
       " 'карамельный',\n",
       " 'карамельным',\n",
       " 'карамелью',\n",
       " 'карамины',\n",
       " 'каратины',\n",
       " 'карахмальная',\n",
       " 'карбаубский',\n",
       " 'карбоксиметилцеллюлоза',\n",
       " 'карбоксиметилцеллюлозы',\n",
       " 'карбонад',\n",
       " 'карбонан',\n",
       " 'карбонара',\n",
       " 'карбонат',\n",
       " 'карбонаты',\n",
       " 'кардамон',\n",
       " 'кардамона',\n",
       " 'кариандр',\n",
       " 'карибский',\n",
       " 'кариньян',\n",
       " 'каркаде',\n",
       " 'каркадэ',\n",
       " 'каркас',\n",
       " 'кармадон',\n",
       " 'карменер',\n",
       " 'кармин',\n",
       " 'кармины',\n",
       " 'карминыв',\n",
       " 'кармуазин',\n",
       " 'кармузин',\n",
       " 'карнаубnский',\n",
       " 'карнаубский',\n",
       " 'карнаубского',\n",
       " 'каротин',\n",
       " 'каротина',\n",
       " 'каротинов',\n",
       " 'каротины',\n",
       " 'карп',\n",
       " 'карпаччо',\n",
       " 'карраг',\n",
       " 'каррагенан',\n",
       " 'каррагиан',\n",
       " 'каррагина',\n",
       " 'каррагинан',\n",
       " 'каррагинана',\n",
       " 'каррагинанн',\n",
       " 'каррагниан',\n",
       " 'карри',\n",
       " 'картли',\n",
       " 'картофель',\n",
       " 'картофельмини',\n",
       " 'картофельная',\n",
       " 'картофельного',\n",
       " 'картофельное',\n",
       " 'картофельные',\n",
       " 'картофельный',\n",
       " 'картофеля',\n",
       " 'каситель',\n",
       " 'каскара',\n",
       " 'каспийская',\n",
       " 'кассии',\n",
       " 'кассия',\n",
       " 'кастомикс',\n",
       " 'касторовое',\n",
       " 'катарратто',\n",
       " 'категории',\n",
       " 'категория',\n",
       " 'катехин',\n",
       " 'катионов',\n",
       " 'катионы',\n",
       " 'катофельные',\n",
       " 'кафирлайм',\n",
       " 'кафрский',\n",
       " 'каффира',\n",
       " 'каффирлайм',\n",
       " 'каффирные',\n",
       " 'кахетинский',\n",
       " 'кахетия',\n",
       " 'качества',\n",
       " 'качестве',\n",
       " 'качество',\n",
       " 'каша',\n",
       " 'каштелао',\n",
       " 'каштелау',\n",
       " 'кв',\n",
       " 'кв26',\n",
       " 'квасного',\n",
       " 'квашеная',\n",
       " 'квик',\n",
       " 'кг',\n",
       " 'кдж',\n",
       " 'кдж10',\n",
       " 'кдж100',\n",
       " 'кдж100мл',\n",
       " 'кдж388',\n",
       " 'кдж578',\n",
       " 'кджонии',\n",
       " 'кджсрок',\n",
       " 'ке950',\n",
       " 'кебабы',\n",
       " 'кедровая',\n",
       " 'кедрового',\n",
       " 'кедровые',\n",
       " 'кедровый',\n",
       " 'кедровыми',\n",
       " 'кедровых',\n",
       " 'кексовая',\n",
       " 'кении',\n",
       " 'кенийский',\n",
       " 'кенийского',\n",
       " 'кенийскоцейлонский',\n",
       " 'кения',\n",
       " 'кервель',\n",
       " 'кета',\n",
       " 'кетчуп',\n",
       " 'кеты',\n",
       " 'кефесия',\n",
       " 'кефир',\n",
       " 'кефирная',\n",
       " 'кефирных',\n",
       " 'кешью',\n",
       " 'кзооа',\n",
       " 'киви',\n",
       " 'кививиноград',\n",
       " 'кидди',\n",
       " 'кидни',\n",
       " 'кижуч',\n",
       " 'кижуча',\n",
       " 'кизил',\n",
       " 'кизила',\n",
       " 'кизилового',\n",
       " 'кизиловое',\n",
       " 'кизиловый',\n",
       " 'килотности',\n",
       " 'килсота',\n",
       " 'килька',\n",
       " 'ким',\n",
       " 'кимчи',\n",
       " 'кинза',\n",
       " 'кинзы',\n",
       " 'киноа',\n",
       " 'киноасемечки',\n",
       " 'кипрей',\n",
       " 'кипрея',\n",
       " 'кирш',\n",
       " 'кис',\n",
       " 'киси',\n",
       " 'кисл',\n",
       " 'кислoтноcти',\n",
       " 'кислаясостав',\n",
       " 'кисло',\n",
       " 'кислой',\n",
       " 'кисломолочный',\n",
       " 'кисломолочных',\n",
       " 'кислосладкий',\n",
       " 'кислосладком',\n",
       " 'кислосливочное',\n",
       " 'кислости',\n",
       " 'кислот',\n",
       " 'кислота',\n",
       " 'кислотаnсостав',\n",
       " 'кислотакраситель',\n",
       " 'кислотарегулятор',\n",
       " 'кислотатемный',\n",
       " 'кислотлимонная',\n",
       " 'кислотн',\n",
       " 'кислотная',\n",
       " 'кислотно',\n",
       " 'кислотноси',\n",
       " 'кислотност',\n",
       " 'кислотности',\n",
       " 'кислотностиnмолочная',\n",
       " 'кислотностиаскорбиновая',\n",
       " 'кислотностигидрокарбонат',\n",
       " 'кислотностигидроксид',\n",
       " 'кислотностие330',\n",
       " 'кислотностие451',\n",
       " 'кислотностикислота',\n",
       " 'кислотностилимонная',\n",
       " 'кислотностимолочная',\n",
       " 'кислотностисода',\n",
       " 'кислотноститрифосфат',\n",
       " 'кислотностиуксусная',\n",
       " 'кислотностицитраты',\n",
       " 'кислотностияблочная',\n",
       " 'кислотность',\n",
       " 'кислотой',\n",
       " 'кислоту',\n",
       " 'кислоты',\n",
       " 'кислый',\n",
       " 'кислых',\n",
       " 'кисоты',\n",
       " 'кистоты',\n",
       " 'китайская',\n",
       " 'китайскаясалат',\n",
       " 'китайский',\n",
       " 'китайского',\n",
       " 'китайской',\n",
       " 'кифирных',\n",
       " 'кишмиш',\n",
       " 'кк',\n",
       " 'кка',\n",
       " 'ккал',\n",
       " 'ккал100',\n",
       " 'ккал100мл',\n",
       " 'ккал1315',\n",
       " 'ккал1424',\n",
       " 'ккал370',\n",
       " 'ккал588',\n",
       " 'ккал740',\n",
       " 'ккал759',\n",
       " 'ккал867',\n",
       " 'ккалпищевая',\n",
       " 'кколотая',\n",
       " 'ккреветка',\n",
       " 'класса',\n",
       " 'классик',\n",
       " 'классическая',\n",
       " 'классический',\n",
       " 'клевер',\n",
       " 'клевера',\n",
       " 'клейкая',\n",
       " 'клейковина',\n",
       " 'клейковине',\n",
       " 'клейковину',\n",
       " 'клейковины',\n",
       " 'клековина',\n",
       " 'клементина',\n",
       " 'кленового',\n",
       " 'кленовый',\n",
       " 'клетка',\n",
       " 'клетки',\n",
       " 'клетчатка',\n",
       " 'клетчатку',\n",
       " 'клитории',\n",
       " 'клубни',\n",
       " 'клубника',\n",
       " 'клубниказемляника',\n",
       " 'клубникамалина',\n",
       " 'клубникамаракуйя',\n",
       " 'клубникашиповник',\n",
       " 'клубники',\n",
       " 'клубникой',\n",
       " 'клубничная',\n",
       " 'клубничнобанановый',\n",
       " 'клубничного',\n",
       " 'клубничное',\n",
       " 'клубничный',\n",
       " 'клюква',\n",
       " 'клюквамалина',\n",
       " 'клюквенногрейпфрутовый',\n",
       " 'клюквенное',\n",
       " 'клюквенный',\n",
       " 'клюквой',\n",
       " 'клюквы',\n",
       " 'кляр',\n",
       " 'кмрсулар85',\n",
       " 'кмслотаи',\n",
       " 'кмц',\n",
       " 'кненский',\n",
       " 'княжеская',\n",
       " 'коагулянт',\n",
       " 'когнсервант',\n",
       " 'код',\n",
       " 'коде',\n",
       " 'коджи',\n",
       " 'кодзи',\n",
       " 'кое',\n",
       " 'коег',\n",
       " 'коесм3',\n",
       " 'кожа',\n",
       " 'кожей',\n",
       " 'кожи',\n",
       " 'кожица',\n",
       " 'кожицы',\n",
       " 'кожура',\n",
       " 'кожурой',\n",
       " 'кожуры',\n",
       " 'козье',\n",
       " 'козьего',\n",
       " 'коко',\n",
       " 'кокос',\n",
       " 'кокоса',\n",
       " 'кокосавая',\n",
       " 'кокосминдаль',\n",
       " 'кокосовая',\n",
       " 'кокосового',\n",
       " 'кокосовое',\n",
       " 'кокосовой',\n",
       " 'кокосовоминдальным',\n",
       " 'кокосовые',\n",
       " 'кокосовыи',\n",
       " 'кокосовый',\n",
       " 'кокосовым',\n",
       " 'кокосовыми',\n",
       " 'кокосовых',\n",
       " 'кокосом',\n",
       " 'коксовое',\n",
       " 'коктейль',\n",
       " 'кокур',\n",
       " 'кола',\n",
       " 'колабаса',\n",
       " 'колада',\n",
       " 'колбаса',\n",
       " 'колбаски',\n",
       " 'колбасное',\n",
       " 'колбасные',\n",
       " 'колбасный',\n",
       " 'колбасок',\n",
       " 'колер',\n",
       " 'колер1',\n",
       " 'колерiv',\n",
       " 'колерпростой',\n",
       " 'количесвто',\n",
       " 'количеств',\n",
       " 'количества',\n",
       " 'количествах',\n",
       " 'количестве',\n",
       " 'количество',\n",
       " 'коллаген',\n",
       " 'коллагена',\n",
       " 'коллагенсодержащего',\n",
       " 'коллер',\n",
       " 'коломбар',\n",
       " 'колор',\n",
       " 'колорино',\n",
       " 'колос',\n",
       " 'колосистая',\n",
       " 'колосовая',\n",
       " 'колосок1',\n",
       " 'колотая',\n",
       " 'колотый',\n",
       " 'колы',\n",
       " 'кольза',\n",
       " 'кользы',\n",
       " 'кольца',\n",
       " 'кольцами',\n",
       " 'колючелистника',\n",
       " 'коляр',\n",
       " 'командорский',\n",
       " 'командорского',\n",
       " 'комбинированный',\n",
       " 'комбу',\n",
       " 'комкованию',\n",
       " 'комментарии',\n",
       " 'компищдоб',\n",
       " 'компл',\n",
       " 'комплекс',\n",
       " 'комплекса',\n",
       " 'комплексаная',\n",
       " 'комплексная',\n",
       " 'комплексной',\n",
       " 'комплексные',\n",
       " 'комплексный',\n",
       " 'комплексообразователь',\n",
       " 'комплексы',\n",
       " 'комплект',\n",
       " 'композитная',\n",
       " 'композиция',\n",
       " 'компонент',\n",
       " 'компонента',\n",
       " 'компонентам',\n",
       " 'компонентами',\n",
       " 'компонентов',\n",
       " 'компоненты',\n",
       " 'конвертах',\n",
       " 'кондитерская',\n",
       " 'кондитерские',\n",
       " 'кондитерский',\n",
       " 'кондитерских',\n",
       " 'кондитерского',\n",
       " 'кондитерской',\n",
       " 'конечностей',\n",
       " 'конжак',\n",
       " 'конжаковая',\n",
       " 'конина',\n",
       " 'конопли',\n",
       " 'конопляная',\n",
       " 'конопляного',\n",
       " 'конопляное',\n",
       " 'конс',\n",
       " 'консер',\n",
       " 'консервает',\n",
       " 'консерван',\n",
       " 'консервант',\n",
       " 'консерванта',\n",
       " 'консервантантиокислитель',\n",
       " 'консервантаферментного',\n",
       " 'консервантдиоксид',\n",
       " 'консерванткислота',\n",
       " 'консервантлизоцим',\n",
       " 'консервантнитрат',\n",
       " 'консервантов',\n",
       " 'консервантом',\n",
       " 'консервантпиросульфит',\n",
       " 'консервантсобрат',\n",
       " 'консервантсорбат',\n",
       " 'консервантсорбиновая',\n",
       " 'консерванты',\n",
       " 'консервантыдиоксид',\n",
       " 'консервантысорбат',\n",
       " 'консерваныт',\n",
       " 'консерват',\n",
       " 'консерватны',\n",
       " 'консервация',\n",
       " 'консервированная',\n",
       " 'консервированные',\n",
       " 'консервированный',\n",
       " 'консервированый',\n",
       " 'консервов',\n",
       " 'консервы',\n",
       " 'консистенции',\n",
       " 'контакте',\n",
       " 'конф',\n",
       " 'конфет',\n",
       " 'конфета',\n",
       " 'конфеты',\n",
       " 'конфи',\n",
       " 'конфитюр',\n",
       " 'конц',\n",
       " 'конце',\n",
       " 'концентированный',\n",
       " 'концентр',\n",
       " 'концентрат',\n",
       " 'концентрата',\n",
       " 'концентратдиоксид',\n",
       " 'концентратов',\n",
       " 'концентраты',\n",
       " 'концентрация',\n",
       " 'концентриованный',\n",
       " 'концентриро',\n",
       " 'концентрированная',\n",
       " 'концентрированнй',\n",
       " 'концентрированног',\n",
       " 'концентрированного',\n",
       " 'концентрированное',\n",
       " 'концентрированной',\n",
       " 'концентрированные',\n",
       " 'концентрированный',\n",
       " 'концентрированных',\n",
       " 'концентрированныхnсоков',\n",
       " 'концентрировання',\n",
       " 'концентрированое',\n",
       " 'концентртированное',\n",
       " 'концепт',\n",
       " 'концетрат',\n",
       " 'коньяк',\n",
       " 'коньяка',\n",
       " 'коньяком',\n",
       " 'коньячные',\n",
       " 'коньячный',\n",
       " 'коньячных',\n",
       " 'копеечника',\n",
       " 'коптдым',\n",
       " 'коптильные',\n",
       " 'коптильный',\n",
       " 'копченая',\n",
       " 'копчение',\n",
       " 'копчения',\n",
       " 'копченные',\n",
       " 'копченовареная',\n",
       " 'копченовареный',\n",
       " 'копченого',\n",
       " 'копченой',\n",
       " 'копченые',\n",
       " 'копченый',\n",
       " 'копчная',\n",
       " 'кора',\n",
       " 'корбонат',\n",
       " 'корвина',\n",
       " 'корвиноне',\n",
       " 'кореандр',\n",
       " 'корейка',\n",
       " 'корейская',\n",
       " 'корень',\n",
       " 'кореньев',\n",
       " 'коржи',\n",
       " 'кориандер',\n",
       " 'кориандр',\n",
       " 'кориандра',\n",
       " 'кориандрадушицы',\n",
       " 'кориандровый',\n",
       " 'кориандртмин',\n",
       " 'корица',\n",
       " 'корицей',\n",
       " 'корицу',\n",
       " 'корицы',\n",
       " 'коричневого',\n",
       " 'коричневое',\n",
       " 'коричневой',\n",
       " 'коричневые',\n",
       " 'коричневый',\n",
       " 'корка',\n",
       " 'корки',\n",
       " 'коркой',\n",
       " 'коркунов',\n",
       " 'кормящим',\n",
       " 'кормящих',\n",
       " 'корн',\n",
       " 'корнд',\n",
       " 'корневища',\n",
       " 'корневище',\n",
       " 'корневого',\n",
       " 'корней',\n",
       " 'корни',\n",
       " 'корнишон',\n",
       " 'корнишоны',\n",
       " 'корня',\n",
       " 'коровье',\n",
       " 'коровьего',\n",
       " 'коровьи',\n",
       " 'королевские',\n",
       " 'королевское',\n",
       " 'коронафуд',\n",
       " 'корочка',\n",
       " 'корпус',\n",
       " 'корректор',\n",
       " 'кортезе',\n",
       " 'коры',\n",
       " 'корюшка',\n",
       " 'косервантов',\n",
       " 'костей',\n",
       " 'кости',\n",
       " 'костисредние',\n",
       " 'косточек',\n",
       " 'косточка',\n",
       " 'косточке',\n",
       " 'косточки',\n",
       " 'косточкой',\n",
       " 'косточку',\n",
       " 'косули',\n",
       " 'котлета',\n",
       " 'котлеты',\n",
       " 'котовник',\n",
       " 'которые',\n",
       " 'который',\n",
       " 'которых',\n",
       " 'котфилинг',\n",
       " 'кофе',\n",
       " 'кофеварка',\n",
       " 'кофеин',\n",
       " 'кофеина',\n",
       " 'кофеином',\n",
       " 'кофейного',\n",
       " 'кофейное',\n",
       " 'кофейные',\n",
       " 'кофейный',\n",
       " 'кофейных',\n",
       " 'коцентрированный',\n",
       " 'коэнзим',\n",
       " 'кпд',\n",
       " 'кр',\n",
       " 'краcитель',\n",
       " 'краб',\n",
       " 'краба',\n",
       " 'крабароматизаторы',\n",
       " 'крабовая',\n",
       " 'крабовое',\n",
       " 'крабовые',\n",
       " 'крабовый',\n",
       " 'крабстригун',\n",
       " 'кразмал',\n",
       " 'кранчи',\n",
       " 'крапива',\n",
       " 'крапивы',\n",
       " 'крас',\n",
       " 'краси',\n",
       " 'красит',\n",
       " 'красителей',\n",
       " 'красители',\n",
       " 'красителиантоцианы',\n",
       " 'красителикармины',\n",
       " 'краситель',\n",
       " 'красительnкуркумин',\n",
       " 'красительаннато',\n",
       " 'красительантоцианы',\n",
       " 'красительбетакаротин',\n",
       " 'красителье120',\n",
       " 'красителье150а',\n",
       " 'красителье160а',\n",
       " 'красителькаратины',\n",
       " 'красителькармин',\n",
       " 'красителькармины',\n",
       " 'красителькаротин',\n",
       " 'красителькаротины',\n",
       " 'красительколер',\n",
       " 'красителькуркумин',\n",
       " 'красительсахарный',\n",
       " 'красительферментированный',\n",
       " 'красительэкстракт',\n",
       " 'красителя',\n",
       " 'краскармины',\n",
       " 'красн',\n",
       " 'красная',\n",
       " 'красного',\n",
       " 'красное',\n",
       " 'красной',\n",
       " 'краснокачанная',\n",
       " 'красностоп',\n",
       " 'красные',\n",
       " 'красный',\n",
       " 'красным',\n",
       " 'красных',\n",
       " 'крастели',\n",
       " 'крастители',\n",
       " 'красящее',\n",
       " 'красящие',\n",
       " 'красящий',\n",
       " 'красящих',\n",
       " 'крах',\n",
       " 'крахм',\n",
       " 'крахмал',\n",
       " 'крахмала',\n",
       " 'крахмалкукурузный',\n",
       " 'крахмалл',\n",
       " 'крахмалы',\n",
       " 'крахмаль',\n",
       " 'крахмальная',\n",
       " 'крахмальнокарамельная',\n",
       " 'крахмальный',\n",
       " 'крахмальня',\n",
       " 'крахмл',\n",
       " 'краю',\n",
       " 'края',\n",
       " 'кре341iii',\n",
       " 'креветка',\n",
       " 'креветки',\n",
       " 'креветок',\n",
       " 'креветочный',\n",
       " 'крекер',\n",
       " 'крем',\n",
       " 'крема',\n",
       " 'крембрюле',\n",
       " 'креме',\n",
       " 'кремкарамель',\n",
       " 'креммикс',\n",
       " 'кремниевая',\n",
       " 'кремний',\n",
       " 'кремния',\n",
       " 'кремнияаморфный',\n",
       " 'кремовая',\n",
       " 'кремовой',\n",
       " 'кремовый',\n",
       " 'кремодан',\n",
       " 'кремом',\n",
       " 'кремпралине',\n",
       " 'крепкий',\n",
       " 'крепкое',\n",
       " 'крепленые',\n",
       " 'креплное',\n",
       " 'крепость',\n",
       " 'крестьянское',\n",
       " 'криля',\n",
       " 'кример',\n",
       " 'крисп',\n",
       " 'криспи',\n",
       " 'криспы',\n",
       " 'кристализованный',\n",
       " 'кристаллизация',\n",
       " 'кристаллизованный',\n",
       " 'кристаллическая',\n",
       " 'кристаллический',\n",
       " 'крица',\n",
       " 'крови',\n",
       " 'кролик',\n",
       " 'кролика',\n",
       " 'кроликов',\n",
       " 'крошка',\n",
       " 'крошки',\n",
       " 'крошкой',\n",
       " 'крсители',\n",
       " 'круглозерного',\n",
       " 'круглозерный',\n",
       " 'круглозерый',\n",
       " 'круглозрный',\n",
       " 'круглые',\n",
       " 'круглый',\n",
       " 'кругляк',\n",
       " 'кружка',\n",
       " 'круп',\n",
       " 'крупа',\n",
       " 'крупка',\n",
       " 'крупная',\n",
       " 'крупного',\n",
       " 'крупнокусковой',\n",
       " 'крупнолистового',\n",
       " 'крупнолистовой',\n",
       " 'крупнолистовойвысший',\n",
       " 'крупный',\n",
       " 'крупчатка',\n",
       " 'крупы',\n",
       " 'крушиновидной',\n",
       " 'крушины',\n",
       " 'крыжовник',\n",
       " 'крыло',\n",
       " 'крыльев',\n",
       " 'крылья',\n",
       " 'крым',\n",
       " 'крымская',\n",
       " 'крымский',\n",
       " 'ксанатановая',\n",
       " 'ксановая',\n",
       " 'ксантан',\n",
       " 'ксантана',\n",
       " 'ксантанавоя',\n",
       " 'ксантановая',\n",
       " 'ксантовая',\n",
       " 'ксатановая',\n",
       " 'ксатиновая',\n",
       " 'ксиланаза',\n",
       " 'ксиланазы',\n",
       " 'ксилит',\n",
       " 'ксилота',\n",
       " 'ксилотности',\n",
       " 'ксиналаза',\n",
       " 'кслота',\n",
       " 'кта',\n",
       " 'кти',\n",
       " 'кубанский',\n",
       " 'кубань',\n",
       " 'кубеба',\n",
       " 'кубик',\n",
       " 'кубиками',\n",
       " 'кубиках',\n",
       " 'кубики',\n",
       " 'кудри',\n",
       " 'кудрявая',\n",
       " 'кукрузная',\n",
       " 'кукур',\n",
       " 'кукурзный',\n",
       " 'кукуруз',\n",
       " 'кукуруза',\n",
       " 'кукурузная',\n",
       " 'кукурузное',\n",
       " 'кукурузные',\n",
       " 'кукурузный',\n",
       " 'кукурузныйкукурузный',\n",
       " 'кукурузных',\n",
       " 'кукурузу',\n",
       " 'кукурузы',\n",
       " 'кукурузыкукурузы',\n",
       " 'кукуря',\n",
       " 'кулинарная',\n",
       " 'кулинарное',\n",
       " 'кулинарный',\n",
       " 'культивированные',\n",
       " 'культивируемые',\n",
       " 'культур',\n",
       " 'культура',\n",
       " 'культурах',\n",
       " 'культуры',\n",
       " 'кумин',\n",
       " 'кумкват',\n",
       " 'кумквата',\n",
       " 'кун',\n",
       " 'кунжут',\n",
       " 'кунжута',\n",
       " 'кунжутная',\n",
       " 'кунжутное',\n",
       " 'кунжутномайонезный',\n",
       " 'кунжутные',\n",
       " 'кунжутов',\n",
       " 'купаж',\n",
       " 'купажа',\n",
       " 'купажированная',\n",
       " 'купажированный',\n",
       " ...]"
      ]
     },
     "execution_count": 526,
     "metadata": {},
     "output_type": "execute_result"
    }
   ],
   "source": [
    "tokens[4000:]"
   ]
  },
  {
   "cell_type": "markdown",
   "id": "8ba935c2-3542-4462-86fe-d895081cfb76",
   "metadata": {},
   "source": [
    "## Гипотезы"
   ]
  },
  {
   "cell_type": "markdown",
   "id": "c0a36dcd-1011-42a1-a5ff-ed11241f53c2",
   "metadata": {},
   "source": [
    "Во время работы над проектом у нас возникло несколько вопросов: \n",
    "- Влияет ли состав на оценку товара?\n",
    "- Правда ли, что цена зависит от срока хранения?\n",
    "- Больше ли стоят зарубежные товары?\n",
    "- Скидки появляются чаще у продуктов с маленьким срока хранения?"
   ]
  },
  {
   "cell_type": "code",
   "execution_count": 806,
   "id": "337ec9ad-df34-4979-9554-94dc0cd90c21",
   "metadata": {},
   "outputs": [
    {
     "name": "stdout",
     "output_type": "stream",
     "text": [
      "Корреляция между сроком хранения и ценой: 0.48699799114464504\n"
     ]
    }
   ],
   "source": [
    "correlation = df['shelf_life'].corr(df['price'])\n",
    "print(\"Корреляция между сроком хранения и ценой:\", correlation)"
   ]
  },
  {
   "cell_type": "code",
   "execution_count": 807,
   "id": "31eaae65-6e6f-44a4-a465-eb593a7fd930",
   "metadata": {},
   "outputs": [
    {
     "name": "stdout",
     "output_type": "stream",
     "text": [
      "t-статистика: -34.256052591270944\n",
      "p-значение: 2.089095951929629e-245\n",
      "Существенная разница в ценах между зарубежными и местными товарами\n"
     ]
    }
   ],
   "source": [
    "from scipy import stats\n",
    "\n",
    "is_local = df['country'] != \"Россия\"\n",
    "not_unk = ~(df['country'] == \"Unknown\")\n",
    "\n",
    "foreign_prices = df[~is_local * not_unk]['price']\n",
    "local_prices = df[is_local * not_unk]['price']\n",
    "\n",
    "t_stat, p_value = stats.ttest_ind(foreign_prices, local_prices)\n",
    "print(\"t-статистика:\", t_stat)\n",
    "print(\"p-значение:\", p_value)\n",
    "\n",
    "if p_value < 0.05:\n",
    "    print(\"Существенная разница в ценах между зарубежными и местными товарами\")\n",
    "else:\n",
    "    print(\"Нет существенной разницы в ценах между зарубежными и местными товарами\")\n"
   ]
  },
  {
   "cell_type": "markdown",
   "id": "ca621e66-dc4a-4c1d-b522-d53afd35a778",
   "metadata": {},
   "source": [
    "## Машинное обучение"
   ]
  },
  {
   "cell_type": "code",
   "execution_count": 808,
   "id": "9c619c0b-3ba7-4ab7-a2de-20c780e86c87",
   "metadata": {},
   "outputs": [],
   "source": [
    "from sklearn.model_selection import train_test_split\n",
    "from sklearn.ensemble import GradientBoostingRegressor\n",
    "from sklearn.metrics import mean_squared_error\n",
    "from sklearn.linear_model import LinearRegression"
   ]
  },
  {
   "cell_type": "code",
   "execution_count": 819,
   "id": "608fc18d-616a-480c-bdff-49b5ee6fb77b",
   "metadata": {},
   "outputs": [],
   "source": [
    "features = ['kalories', 'proteins', 'fats', 'carbohydrates',\n",
    "            'rating', 'size', 'discount',\n",
    "            'shelf_life', 'max_storage_temperature', 'min_storage_temperature',\n",
    "            'is_by_weight', 'is_special_offer']\n",
    "\n",
    "target = 'price'\n",
    "\n",
    "X = df[features]\n",
    "y = df[target]\n",
    "\n",
    "y = np.log(1+y)\n",
    "\n",
    "X_train, X_test, y_train, y_test = train_test_split(X, y, test_size=0.2, random_state=42)"
   ]
  },
  {
   "cell_type": "code",
   "execution_count": 820,
   "id": "73caec23-889e-4451-ab9e-67186d17df59",
   "metadata": {},
   "outputs": [
    {
     "name": "stdout",
     "output_type": "stream",
     "text": [
      "Среднеквадратичная ошибка на тестовом наборе: 0.541601795213248\n"
     ]
    }
   ],
   "source": [
    "linear_regressor = LinearRegression()\n",
    "linear_regressor.fit(X_train, y_train)\n",
    "\n",
    "predictions = linear_regressor.predict(X_test)\n",
    "\n",
    "mse = mean_squared_error(y_test, predictions)\n",
    "print(\"Среднеквадратичная ошибка на тестовом наборе:\", mse)"
   ]
  },
  {
   "cell_type": "code",
   "execution_count": 821,
   "id": "45ba4c49-6d67-43b8-85ea-3a6752287c70",
   "metadata": {},
   "outputs": [
    {
     "name": "stdout",
     "output_type": "stream",
     "text": [
      "Среднеквадратичная ошибка на тестовом наборе: 0.3302583073926989\n"
     ]
    }
   ],
   "source": [
    "gb_regressor = GradientBoostingRegressor(random_state=42)\n",
    "gb_regressor.fit(X_train, y_train)\n",
    "\n",
    "predictions = gb_regressor.predict(X_test)\n",
    "\n",
    "mse = mean_squared_error(y_test, predictions)\n",
    "print(\"Среднеквадратичная ошибка на тестовом наборе:\", mse)"
   ]
  },
  {
   "cell_type": "code",
   "execution_count": 822,
   "id": "26346630-6750-4db6-aae9-724dd6d6ca77",
   "metadata": {},
   "outputs": [
    {
     "data": {
      "text/html": [
       "<div>\n",
       "<style scoped>\n",
       "    .dataframe tbody tr th:only-of-type {\n",
       "        vertical-align: middle;\n",
       "    }\n",
       "\n",
       "    .dataframe tbody tr th {\n",
       "        vertical-align: top;\n",
       "    }\n",
       "\n",
       "    .dataframe thead th {\n",
       "        text-align: right;\n",
       "    }\n",
       "</style>\n",
       "<table border=\"1\" class=\"dataframe\">\n",
       "  <thead>\n",
       "    <tr style=\"text-align: right;\">\n",
       "      <th></th>\n",
       "      <th>kalories</th>\n",
       "      <th>proteins</th>\n",
       "      <th>fats</th>\n",
       "      <th>carbohydrates</th>\n",
       "      <th>rating</th>\n",
       "      <th>size</th>\n",
       "      <th>discount</th>\n",
       "      <th>shelf_life</th>\n",
       "      <th>max_storage_temperature</th>\n",
       "      <th>min_storage_temperature</th>\n",
       "      <th>is_by_weight</th>\n",
       "      <th>is_special_offer</th>\n",
       "    </tr>\n",
       "  </thead>\n",
       "  <tbody>\n",
       "    <tr>\n",
       "      <th>5363</th>\n",
       "      <td>150.0</td>\n",
       "      <td>15.0</td>\n",
       "      <td>10.0</td>\n",
       "      <td>0.0</td>\n",
       "      <td>4.93</td>\n",
       "      <td>490.0</td>\n",
       "      <td>0.0</td>\n",
       "      <td>8.0</td>\n",
       "      <td>0.0</td>\n",
       "      <td>0.0</td>\n",
       "      <td>0</td>\n",
       "      <td>False</td>\n",
       "    </tr>\n",
       "    <tr>\n",
       "      <th>7494</th>\n",
       "      <td>45.0</td>\n",
       "      <td>0.0</td>\n",
       "      <td>0.0</td>\n",
       "      <td>11.5</td>\n",
       "      <td>4.92</td>\n",
       "      <td>1000.0</td>\n",
       "      <td>17.0</td>\n",
       "      <td>365.0</td>\n",
       "      <td>25.0</td>\n",
       "      <td>0.0</td>\n",
       "      <td>0</td>\n",
       "      <td>False</td>\n",
       "    </tr>\n",
       "    <tr>\n",
       "      <th>1858</th>\n",
       "      <td>4.0</td>\n",
       "      <td>0.0</td>\n",
       "      <td>0.0</td>\n",
       "      <td>0.0</td>\n",
       "      <td>4.88</td>\n",
       "      <td>36.0</td>\n",
       "      <td>0.0</td>\n",
       "      <td>730.0</td>\n",
       "      <td>0.0</td>\n",
       "      <td>0.0</td>\n",
       "      <td>0</td>\n",
       "      <td>False</td>\n",
       "    </tr>\n",
       "    <tr>\n",
       "      <th>1563</th>\n",
       "      <td>0.0</td>\n",
       "      <td>0.0</td>\n",
       "      <td>0.0</td>\n",
       "      <td>0.0</td>\n",
       "      <td>4.95</td>\n",
       "      <td>190.0</td>\n",
       "      <td>0.0</td>\n",
       "      <td>730.0</td>\n",
       "      <td>30.0</td>\n",
       "      <td>6.0</td>\n",
       "      <td>0</td>\n",
       "      <td>False</td>\n",
       "    </tr>\n",
       "    <tr>\n",
       "      <th>2202</th>\n",
       "      <td>94.7</td>\n",
       "      <td>0.0</td>\n",
       "      <td>0.0</td>\n",
       "      <td>0.0</td>\n",
       "      <td>4.89</td>\n",
       "      <td>750.0</td>\n",
       "      <td>13.0</td>\n",
       "      <td>9999.0</td>\n",
       "      <td>20.0</td>\n",
       "      <td>5.0</td>\n",
       "      <td>0</td>\n",
       "      <td>False</td>\n",
       "    </tr>\n",
       "    <tr>\n",
       "      <th>1015</th>\n",
       "      <td>72.0</td>\n",
       "      <td>0.0</td>\n",
       "      <td>0.0</td>\n",
       "      <td>0.0</td>\n",
       "      <td>4.67</td>\n",
       "      <td>750.0</td>\n",
       "      <td>15.0</td>\n",
       "      <td>9999.0</td>\n",
       "      <td>50.0</td>\n",
       "      <td>-40.0</td>\n",
       "      <td>0</td>\n",
       "      <td>False</td>\n",
       "    </tr>\n",
       "    <tr>\n",
       "      <th>487</th>\n",
       "      <td>230.0</td>\n",
       "      <td>21.0</td>\n",
       "      <td>16.0</td>\n",
       "      <td>0.0</td>\n",
       "      <td>4.84</td>\n",
       "      <td>270.0</td>\n",
       "      <td>0.0</td>\n",
       "      <td>30.0</td>\n",
       "      <td>6.0</td>\n",
       "      <td>0.0</td>\n",
       "      <td>0</td>\n",
       "      <td>False</td>\n",
       "    </tr>\n",
       "    <tr>\n",
       "      <th>11934</th>\n",
       "      <td>85.0</td>\n",
       "      <td>1.5</td>\n",
       "      <td>5.4</td>\n",
       "      <td>7.5</td>\n",
       "      <td>4.28</td>\n",
       "      <td>300.0</td>\n",
       "      <td>30.0</td>\n",
       "      <td>365.0</td>\n",
       "      <td>50.0</td>\n",
       "      <td>-40.0</td>\n",
       "      <td>0</td>\n",
       "      <td>False</td>\n",
       "    </tr>\n",
       "    <tr>\n",
       "      <th>9265</th>\n",
       "      <td>420.0</td>\n",
       "      <td>8.5</td>\n",
       "      <td>14.0</td>\n",
       "      <td>59.0</td>\n",
       "      <td>4.84</td>\n",
       "      <td>20.0</td>\n",
       "      <td>38.0</td>\n",
       "      <td>270.0</td>\n",
       "      <td>20.0</td>\n",
       "      <td>-40.0</td>\n",
       "      <td>0</td>\n",
       "      <td>False</td>\n",
       "    </tr>\n",
       "    <tr>\n",
       "      <th>2727</th>\n",
       "      <td>370.0</td>\n",
       "      <td>13.0</td>\n",
       "      <td>3.5</td>\n",
       "      <td>72.0</td>\n",
       "      <td>4.92</td>\n",
       "      <td>400.0</td>\n",
       "      <td>0.0</td>\n",
       "      <td>365.0</td>\n",
       "      <td>50.0</td>\n",
       "      <td>-40.0</td>\n",
       "      <td>0</td>\n",
       "      <td>False</td>\n",
       "    </tr>\n",
       "  </tbody>\n",
       "</table>\n",
       "</div>"
      ],
      "text/plain": [
       "       kalories  proteins  fats  carbohydrates  rating    size  discount  \\\n",
       "5363      150.0      15.0  10.0            0.0    4.93   490.0       0.0   \n",
       "7494       45.0       0.0   0.0           11.5    4.92  1000.0      17.0   \n",
       "1858        4.0       0.0   0.0            0.0    4.88    36.0       0.0   \n",
       "1563        0.0       0.0   0.0            0.0    4.95   190.0       0.0   \n",
       "2202       94.7       0.0   0.0            0.0    4.89   750.0      13.0   \n",
       "1015       72.0       0.0   0.0            0.0    4.67   750.0      15.0   \n",
       "487       230.0      21.0  16.0            0.0    4.84   270.0       0.0   \n",
       "11934      85.0       1.5   5.4            7.5    4.28   300.0      30.0   \n",
       "9265      420.0       8.5  14.0           59.0    4.84    20.0      38.0   \n",
       "2727      370.0      13.0   3.5           72.0    4.92   400.0       0.0   \n",
       "\n",
       "       shelf_life  max_storage_temperature  min_storage_temperature  \\\n",
       "5363          8.0                      0.0                      0.0   \n",
       "7494        365.0                     25.0                      0.0   \n",
       "1858        730.0                      0.0                      0.0   \n",
       "1563        730.0                     30.0                      6.0   \n",
       "2202       9999.0                     20.0                      5.0   \n",
       "1015       9999.0                     50.0                    -40.0   \n",
       "487          30.0                      6.0                      0.0   \n",
       "11934       365.0                     50.0                    -40.0   \n",
       "9265        270.0                     20.0                    -40.0   \n",
       "2727        365.0                     50.0                    -40.0   \n",
       "\n",
       "       is_by_weight  is_special_offer  \n",
       "5363              0             False  \n",
       "7494              0             False  \n",
       "1858              0             False  \n",
       "1563              0             False  \n",
       "2202              0             False  \n",
       "1015              0             False  \n",
       "487               0             False  \n",
       "11934             0             False  \n",
       "9265              0             False  \n",
       "2727              0             False  "
      ]
     },
     "execution_count": 822,
     "metadata": {},
     "output_type": "execute_result"
    }
   ],
   "source": [
    "X_test.head(10)"
   ]
  },
  {
   "cell_type": "code",
   "execution_count": 823,
   "id": "5fe99a8e-be56-44ce-a429-05874c4bcc0f",
   "metadata": {},
   "outputs": [
    {
     "data": {
      "text/plain": [
       "array([418.13819896, 117.38760021, 176.54322537, 211.7739814 ,\n",
       "       840.99949541, 838.48139809, 266.69043771, 117.91985621,\n",
       "        47.81907451, 122.04111478])"
      ]
     },
     "execution_count": 823,
     "metadata": {},
     "output_type": "execute_result"
    }
   ],
   "source": [
    "np.exp(predictions[:10])"
   ]
  },
  {
   "cell_type": "code",
   "execution_count": 824,
   "id": "e7f29e44-5868-4afc-a3bf-5e5542b9e47a",
   "metadata": {},
   "outputs": [
    {
     "data": {
      "text/plain": [
       "5363      210.99\n",
       "7494      120.99\n",
       "1858      150.99\n",
       "1563      550.99\n",
       "2202      380.99\n",
       "1015     1100.00\n",
       "487       300.99\n",
       "11934     160.99\n",
       "9265       43.99\n",
       "2727      160.99\n",
       "Name: price, dtype: float64"
      ]
     },
     "execution_count": 824,
     "metadata": {},
     "output_type": "execute_result"
    }
   ],
   "source": [
    "np.exp(y_test[:10])"
   ]
  },
  {
   "cell_type": "code",
   "execution_count": null,
   "id": "012514a2-7d17-4af8-b3a1-cf96eb455a3e",
   "metadata": {},
   "outputs": [],
   "source": []
  }
 ],
 "metadata": {
  "kernelspec": {
   "display_name": "Python 3 (ipykernel)",
   "language": "python",
   "name": "python3"
  },
  "language_info": {
   "codemirror_mode": {
    "name": "ipython",
    "version": 3
   },
   "file_extension": ".py",
   "mimetype": "text/x-python",
   "name": "python",
   "nbconvert_exporter": "python",
   "pygments_lexer": "ipython3",
   "version": "3.11.5"
  }
 },
 "nbformat": 4,
 "nbformat_minor": 5
}
