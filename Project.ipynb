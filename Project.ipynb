{
 "cells": [
  {
   "cell_type": "markdown",
   "id": "d165b175-bf28-4b60-9bab-f8fd48975e54",
   "metadata": {},
   "source": [
    "<img src='media/capy.gif' align='center' width=\"200px\">"
   ]
  },
  {
   "cell_type": "markdown",
   "id": "5fbf8fd2-f345-448e-8e0e-d4fa3f99637a",
   "metadata": {},
   "source": [
    "# Анализ еды в Перекрёстке"
   ]
  },
  {
   "cell_type": "markdown",
   "id": "96f4c522-54e7-4d49-8cda-ed28f399e9d9",
   "metadata": {},
   "source": [
    "**Тема**: Анализ продуктов питания [Перекрестка](https://www.perekrestok.ru)\n",
    "\n",
    "**Основная цель**: Выяснить, есть ли зависимость между описанием, составом товара и ценой\n",
    "\n",
    "**Команда**: Перек✩"
   ]
  },
  {
   "cell_type": "code",
   "execution_count": 639,
   "id": "567624cb-f92b-408a-8ee1-301e9a72e871",
   "metadata": {},
   "outputs": [],
   "source": [
    "import re\n",
    "import pandas as pd\n",
    "import numpy as np\n",
    "import matplotlib.pyplot as plt\n",
    "import seaborn as sns\n",
    "from scipy import stats\n",
    "\n",
    "import parcer"
   ]
  },
  {
   "cell_type": "markdown",
   "id": "7d5ba216-5f2b-4cc8-b923-9c4eb247de3a",
   "metadata": {},
   "source": [
    "## Cбор данных"
   ]
  },
  {
   "cell_type": "markdown",
   "id": "359d8485-0d0a-495d-9ff8-c699c44032cb",
   "metadata": {},
   "source": [
    "Начнем сбор данных со [страницы каталога](https://www.perekrestok.ru/cat), постепенно углубляясь\n",
    "\n",
    "Все функции парсинга находятся в `parcer.py`"
   ]
  },
  {
   "cell_type": "markdown",
   "id": "88a04960-45a1-465a-a0b8-3b23572e0029",
   "metadata": {},
   "source": [
    "**Шаг 1** \\\n",
    "Собираем все категории товаров, и ссылки на них"
   ]
  },
  {
   "cell_type": "code",
   "execution_count": 3,
   "id": "c1265c96-d70a-4fb1-9f63-3e150ae654a3",
   "metadata": {},
   "outputs": [
    {
     "data": {
      "text/plain": [
       "['Все на дачу', '/cat/mc/1181/vse-na-dacu']"
      ]
     },
     "execution_count": 3,
     "metadata": {},
     "output_type": "execute_result"
    }
   ],
   "source": [
    "cats = parcer.parce_cats(\"https://www.perekrestok.ru/cat\") # /ᐠ｡ꞈ｡ᐟ\\\n",
    "cats[0]"
   ]
  },
  {
   "cell_type": "markdown",
   "id": "d4a13437-e32d-4c07-b501-10b2b9f240eb",
   "metadata": {},
   "source": [
    "Уберем категории, которые не относятся к продуктам питания"
   ]
  },
  {
   "cell_type": "code",
   "execution_count": 8,
   "id": "ee49d1f2-73a1-484d-bab9-7ab10240fe78",
   "metadata": {},
   "outputs": [],
   "source": [
    "undesired_cats = [\n",
    "    'Все на дачу',\n",
    "    'Зоотовары',\n",
    "    'Для дома и дачи',\n",
    "    'Красота, гигиена, аптека',\n",
    "    'Уборка',\n",
    "    'Товары для мам и детей',\n",
    "    'Системы нагревания, табак',\n",
    "    'Посуда',\n",
    "]\n",
    "\n",
    "cats = [cat for cat in cats if cat[0] not in undesired_cats]"
   ]
  },
  {
   "cell_type": "markdown",
   "id": "1f992981-d579-4977-92a2-ce722d4da86e",
   "metadata": {},
   "source": [
    "**Шаг 2** \\\n",
    "По ссылкам на категории, собираем подкатегории и ссылки на подкатегории"
   ]
  },
  {
   "cell_type": "code",
   "execution_count": 10,
   "id": "d44dd84d-b647-4989-a419-863c06b1ecf1",
   "metadata": {},
   "outputs": [
    {
     "data": {
      "text/plain": [
       "('Зелёная Линия', 'От Перекрёстка', '/cat/c/284/zelenaa-linia')"
      ]
     },
     "execution_count": 10,
     "metadata": {},
     "output_type": "execute_result"
    }
   ],
   "source": [
    "subcats = parcer.parce_subcats(cats)\n",
    "subcats[0]"
   ]
  },
  {
   "cell_type": "markdown",
   "id": "572f1233-5f1f-4430-bb57-2fbf1517401a",
   "metadata": {},
   "source": [
    "Уберем подкатегории, которые не относятся к продуктам питания"
   ]
  },
  {
   "cell_type": "code",
   "execution_count": 11,
   "id": "0da3e1b5-5eef-4ed4-b83b-817428c58ccc",
   "metadata": {},
   "outputs": [],
   "source": [
    "undesired_subcats = [\n",
    "    'Home Story',\n",
    "    'Kokoro',\n",
    "    'Honey Kid',\n",
    "]\n",
    "\n",
    "subcats = [subcat for subcat in subcats if subcat[0] not in undesired_subcats]"
   ]
  },
  {
   "cell_type": "markdown",
   "id": "4cc8282f-4025-4792-8f25-4c3f5fd952eb",
   "metadata": {},
   "source": [
    "**Шаг 3** \\\n",
    "Теперь благодаря ссылкам на подкатегории мы можем собрать все листинги. В листингах есть ссылки на товары, а также поверхностная информация"
   ]
  },
  {
   "cell_type": "code",
   "execution_count": 34,
   "id": "6fc0869e-5a99-4b7e-ae0e-d0a942b0161a",
   "metadata": {},
   "outputs": [
    {
     "data": {
      "text/plain": [
       "['Томаты черри на ветке, 250г',\n",
       " '/cat/150/p/tomaty-cerri-na-vetke-250g-3673307',\n",
       " 'От Перекрёстка',\n",
       " 'Маркет',\n",
       " '4.92',\n",
       " '250 гр',\n",
       " '179,99 ₽/шт',\n",
       " '179,99 ₽',\n",
       " '219,99 ₽',\n",
       " '-18%',\n",
       " '/cat/c/287/market']"
      ]
     },
     "execution_count": 34,
     "metadata": {},
     "output_type": "execute_result"
    }
   ],
   "source": [
    "listing_products = parcer.parce_listing_products(subcats)\n",
    "listing_products[0]"
   ]
  },
  {
   "cell_type": "code",
   "execution_count": 72,
   "id": "0d42ae2b-9a85-4ce0-b42f-2ee3d8b175cd",
   "metadata": {},
   "outputs": [
    {
     "name": "stdout",
     "output_type": "stream",
     "text": [
      "Список успешно сохранен в файл data/listing_products.csv\n"
     ]
    }
   ],
   "source": [
    "parcer.save_listing_products_to_csv('data/listing_products.csv', listing_products)"
   ]
  },
  {
   "cell_type": "markdown",
   "id": "4df33d8e-6593-41dc-a065-459e552760ca",
   "metadata": {},
   "source": [
    "**Шаг 4** \\\n",
    "Проходимся по ссылкам из листингов и получаем полную информацию о каждом товаре"
   ]
  },
  {
   "cell_type": "code",
   "execution_count": 75,
   "id": "8d24549a-9a72-4321-884e-88fe258eff4a",
   "metadata": {},
   "outputs": [
    {
     "data": {
      "text/plain": [
       "['/cat/150/p/tomaty-cerri-na-vetke-250g-3673307',\n",
       " 'Томаты черри на ветке, 250г',\n",
       " 17999,\n",
       " '-18%',\n",
       " 492,\n",
       " '15.0',\n",
       " '0.8 г',\n",
       " '0.1 г',\n",
       " '2.8 г',\n",
       " 'Томаты.',\n",
       " 'ТД Самарканд Агро',\n",
       " 'Маркет',\n",
       " 'Россия',\n",
       " '30 дней',\n",
       " '15 ℃',\n",
       " '5 ℃']"
      ]
     },
     "execution_count": 75,
     "metadata": {},
     "output_type": "execute_result"
    }
   ],
   "source": [
    "products = parcer.parce_products(listing_products)\n",
    "products[0]"
   ]
  },
  {
   "cell_type": "code",
   "execution_count": 67,
   "id": "7e729791-c92c-4ef7-b531-70d8f684f432",
   "metadata": {},
   "outputs": [
    {
     "name": "stdout",
     "output_type": "stream",
     "text": [
      "Список успешно сохранен в файл data/products.csv\n"
     ]
    }
   ],
   "source": [
    "parcer.save_products_to_csv('data/products.csv', products)"
   ]
  },
  {
   "cell_type": "markdown",
   "id": "3c00214b-1f65-48cf-a8b0-e9b07c451b28",
   "metadata": {},
   "source": [
    "**Итог** \\\n",
    "В файлах *listing_products.csv* и *products.csv* мы собрали информацию о всех товарах в нужных категориях\n",
    "\n",
    "*listing_products.csv* \\\n",
    "`name` - Название товара \\\n",
    "`href` - Ссылка на товар \\\n",
    "`rating` - Рейтинг товара от 0.00 до 5.00 \\\n",
    "`size` - Вес товара в гр \\\n",
    "`price` - Расценка товара (x/шт или x/кг) \\\n",
    "`new_price` - Цена товара \\\n",
    "`old_price` - Цена без скидки \\\n",
    "`discount` - Скидка или специальное предложение \\\n",
    "`subcat_href` - Ссылка на подкатегорию \\\n",
    "`cat` - Категория товара \\\n",
    "`subcat` - Подкатегория товара \n",
    "\n",
    "*products.csv* \\\n",
    "`title` - Название товара \\\n",
    "`product_href` - Ссылка на товар \\\n",
    "`price` - Цена товара \\\n",
    "`discount` - Скидка или специальное предложение \\\n",
    "`rating` - Рейтинг товара от 0.00 до 5.00 \\\n",
    "`kalories` - Калории на 100г \\\n",
    "`proteins` - Белки на 100г \\\n",
    "`fats` - Жиры на 100г \\\n",
    "`carbohydrates` - Углеводы на 100г \\\n",
    "`composition` - Состав продукта \\\n",
    "`manufacturer` - Производитель \\\n",
    "`brand` - Бренд \\\n",
    "`country` - Страна \\\n",
    "`shelf_life` - Срок хранения в днях \\\n",
    "`max_storage_temperature` - Температура хранения макс. \\\n",
    "`min_storage_temperature` - Температура хранения мин.\n"
   ]
  },
  {
   "cell_type": "markdown",
   "id": "a0358566-09e5-4088-9e1f-0113b7526b42",
   "metadata": {},
   "source": [
    "## Предварительная обработка"
   ]
  },
  {
   "cell_type": "markdown",
   "id": "24ca821a-736d-456d-bbad-9f4a16c67ba7",
   "metadata": {},
   "source": [
    "**Шаг 1** \\\n",
    "Соединим собранные данные, удалим лишние столбцы"
   ]
  },
  {
   "cell_type": "code",
   "execution_count": 640,
   "id": "14be7be0-7cf6-449c-97bc-aea25fac3987",
   "metadata": {},
   "outputs": [],
   "source": [
    "listing_products_df = pd.read_csv(\"data/listing_products.csv\")\n",
    "products_df = pd.read_csv(\"data/products.csv\")\n",
    "\n",
    "df = pd.merge(\n",
    "    products_df,\n",
    "    listing_products_df,\n",
    "    left_on=\"product_href\",\n",
    "    right_on=\"href\",\n",
    "    how=\"left\",\n",
    ")\n",
    "df = df.drop(\n",
    "    [\"price_x\", \"discount_x\", \"title\", \"product_href\", \"subcat_href\", \"rating_x\"],\n",
    "    axis=1,\n",
    ")"
   ]
  },
  {
   "cell_type": "markdown",
   "id": "77a59b38-2032-459f-a4ea-3613cdde10e1",
   "metadata": {},
   "source": [
    "Переименуем столбцы после слияния и отсортируем"
   ]
  },
  {
   "cell_type": "code",
   "execution_count": 641,
   "id": "0721961f-c1e3-4e5f-847a-4e52c6027dad",
   "metadata": {},
   "outputs": [],
   "source": [
    "new_names = {\n",
    "    \"rating_y\": \"rating\",\n",
    "    \"price_y\": \"pricing\",\n",
    "    \"discount_y\": \"discount\",\n",
    "    \"new_price\": \"price\",\n",
    "    \"cat\": \"category\",\n",
    "    \"subcat\": \"subcategory\",\n",
    "}\n",
    "\n",
    "df = df.rename(columns=new_names)\n",
    "\n",
    "new_order = [\n",
    "    \"name\",\n",
    "    \"category\",\n",
    "    \"subcategory\",\n",
    "    \"href\",\n",
    "    \"kalories\",\n",
    "    \"proteins\",\n",
    "    \"fats\",\n",
    "    \"carbohydrates\",\n",
    "    \"composition\",\n",
    "    \"manufacturer\",\n",
    "    \"brand\",\n",
    "    \"country\",\n",
    "    \"rating\",\n",
    "    \"size\",\n",
    "    \"pricing\",\n",
    "    \"price\",\n",
    "    \"old_price\",\n",
    "    \"discount\",\n",
    "    \"shelf_life\",\n",
    "    \"max_storage_temperature\",\n",
    "    \"min_storage_temperature\",\n",
    "]\n",
    "\n",
    "df = df.reindex(columns=new_order)"
   ]
  },
  {
   "cell_type": "markdown",
   "id": "a95f06d4-ec97-466c-a69c-91536e69e12a",
   "metadata": {},
   "source": [
    "В некоторых категориях товары дублировались, исправим"
   ]
  },
  {
   "cell_type": "code",
   "execution_count": 642,
   "id": "2a3c16e2-2a0d-46a7-af8c-67047255d89e",
   "metadata": {},
   "outputs": [
    {
     "data": {
      "text/html": [
       "<div>\n",
       "<style scoped>\n",
       "    .dataframe tbody tr th:only-of-type {\n",
       "        vertical-align: middle;\n",
       "    }\n",
       "\n",
       "    .dataframe tbody tr th {\n",
       "        vertical-align: top;\n",
       "    }\n",
       "\n",
       "    .dataframe thead th {\n",
       "        text-align: right;\n",
       "    }\n",
       "</style>\n",
       "<table border=\"1\" class=\"dataframe\">\n",
       "  <thead>\n",
       "    <tr style=\"text-align: right;\">\n",
       "      <th></th>\n",
       "      <th>name</th>\n",
       "      <th>category</th>\n",
       "      <th>subcategory</th>\n",
       "      <th>kalories</th>\n",
       "      <th>proteins</th>\n",
       "      <th>fats</th>\n",
       "      <th>carbohydrates</th>\n",
       "      <th>composition</th>\n",
       "      <th>manufacturer</th>\n",
       "      <th>brand</th>\n",
       "      <th>country</th>\n",
       "      <th>rating</th>\n",
       "      <th>size</th>\n",
       "      <th>pricing</th>\n",
       "      <th>price</th>\n",
       "      <th>old_price</th>\n",
       "      <th>discount</th>\n",
       "      <th>shelf_life</th>\n",
       "      <th>max_storage_temperature</th>\n",
       "      <th>min_storage_temperature</th>\n",
       "    </tr>\n",
       "  </thead>\n",
       "  <tbody>\n",
       "    <tr>\n",
       "      <th>0</th>\n",
       "      <td>Вино Мысхако Quintessence Zinfandel красное по...</td>\n",
       "      <td>Алкогольные напитки</td>\n",
       "      <td>Вино</td>\n",
       "      <td>95.0</td>\n",
       "      <td>0.0 г</td>\n",
       "      <td>0.0 г</td>\n",
       "      <td>0.6 г</td>\n",
       "      <td>Виноград сорта Зинфандель, пищевая добавка (ко...</td>\n",
       "      <td>Мысхако</td>\n",
       "      <td>Мысхако</td>\n",
       "      <td>Россия</td>\n",
       "      <td>4.89</td>\n",
       "      <td>750 мл</td>\n",
       "      <td>899,99 ₽/шт</td>\n",
       "      <td>899,99 ₽</td>\n",
       "      <td>899,99 ₽</td>\n",
       "      <td>3 по цене 2-х</td>\n",
       "      <td>9999 дней</td>\n",
       "      <td>20 ℃</td>\n",
       "      <td>5 ℃</td>\n",
       "    </tr>\n",
       "    <tr>\n",
       "      <th>1</th>\n",
       "      <td>Вино Takar Арени красное сухое 14%, 750мл</td>\n",
       "      <td>Алкогольные напитки</td>\n",
       "      <td>Вино</td>\n",
       "      <td>74.0</td>\n",
       "      <td>0.0 г</td>\n",
       "      <td>0.0 г</td>\n",
       "      <td>0.3 г</td>\n",
       "      <td>Виноград сорта Арени; пищевая добавка (консерв...</td>\n",
       "      <td>Armenia Wine</td>\n",
       "      <td>Takar</td>\n",
       "      <td>Армения</td>\n",
       "      <td>4.90</td>\n",
       "      <td>750 мл</td>\n",
       "      <td>699,99 ₽/шт</td>\n",
       "      <td>699,99 ₽</td>\n",
       "      <td>899,99 ₽</td>\n",
       "      <td>-22%</td>\n",
       "      <td>9999 дней</td>\n",
       "      <td>NaN</td>\n",
       "      <td>5 ℃</td>\n",
       "    </tr>\n",
       "    <tr>\n",
       "      <th>2</th>\n",
       "      <td>Вино Terras de Pegoes красное сухое 12.5%, 750мл</td>\n",
       "      <td>Алкогольные напитки</td>\n",
       "      <td>Вино</td>\n",
       "      <td>75.0</td>\n",
       "      <td>0.0 г</td>\n",
       "      <td>0.0 г</td>\n",
       "      <td>0.1 г</td>\n",
       "      <td>Сортовой состав винограда: Каштелао - 60%, Али...</td>\n",
       "      <td>Cooperativa Agrícola de Santo Isidro De Pegões</td>\n",
       "      <td>Pegoes</td>\n",
       "      <td>Португалия</td>\n",
       "      <td>4.78</td>\n",
       "      <td>750 мл</td>\n",
       "      <td>499,99 ₽/шт</td>\n",
       "      <td>499,99 ₽</td>\n",
       "      <td>699,99 ₽</td>\n",
       "      <td>-28%</td>\n",
       "      <td>9999 дней</td>\n",
       "      <td>NaN</td>\n",
       "      <td>NaN</td>\n",
       "    </tr>\n",
       "    <tr>\n",
       "      <th>3</th>\n",
       "      <td>Вино Highway to Hell красное сухое 13%, 750мл</td>\n",
       "      <td>Алкогольные напитки</td>\n",
       "      <td>Вино</td>\n",
       "      <td>79.0</td>\n",
       "      <td>0.0 г</td>\n",
       "      <td>0.0 г</td>\n",
       "      <td>0.0 г</td>\n",
       "      <td>Виноград сорта Монастрель, пищевая добавка (ко...</td>\n",
       "      <td>Wines N'Roses</td>\n",
       "      <td>Highway to Hell</td>\n",
       "      <td>Испания</td>\n",
       "      <td>4.81</td>\n",
       "      <td>750 мл</td>\n",
       "      <td>1 099,00 ₽/шт</td>\n",
       "      <td>1 099,00 ₽</td>\n",
       "      <td>NaN</td>\n",
       "      <td>Нет скидки</td>\n",
       "      <td>9999 дней</td>\n",
       "      <td>NaN</td>\n",
       "      <td>5 ℃</td>\n",
       "    </tr>\n",
       "    <tr>\n",
       "      <th>4</th>\n",
       "      <td>Вино Don Garcia красное сухое 11%, 1л</td>\n",
       "      <td>Алкогольные напитки</td>\n",
       "      <td>Вино</td>\n",
       "      <td>0.0</td>\n",
       "      <td>0.0 г</td>\n",
       "      <td>0.0 г</td>\n",
       "      <td>0.0 г</td>\n",
       "      <td>Красные сорта винограда, пищевая добавка (конс...</td>\n",
       "      <td>J. Garcia Carrion</td>\n",
       "      <td>Don Garcia</td>\n",
       "      <td>Испания</td>\n",
       "      <td>4.75</td>\n",
       "      <td>1000 мл</td>\n",
       "      <td>549,99 ₽/шт</td>\n",
       "      <td>549,99 ₽</td>\n",
       "      <td>NaN</td>\n",
       "      <td>Нет скидки</td>\n",
       "      <td>9999 дней</td>\n",
       "      <td>20 ℃</td>\n",
       "      <td>5 ℃</td>\n",
       "    </tr>\n",
       "  </tbody>\n",
       "</table>\n",
       "</div>"
      ],
      "text/plain": [
       "                                                name             category  \\\n",
       "0  Вино Мысхако Quintessence Zinfandel красное по...  Алкогольные напитки   \n",
       "1          Вино Takar Арени красное сухое 14%, 750мл  Алкогольные напитки   \n",
       "2   Вино Terras de Pegoes красное сухое 12.5%, 750мл  Алкогольные напитки   \n",
       "3      Вино Highway to Hell красное сухое 13%, 750мл  Алкогольные напитки   \n",
       "4              Вино Don Garcia красное сухое 11%, 1л  Алкогольные напитки   \n",
       "\n",
       "  subcategory  kalories proteins   fats carbohydrates  \\\n",
       "0        Вино      95.0    0.0 г  0.0 г         0.6 г   \n",
       "1        Вино      74.0    0.0 г  0.0 г         0.3 г   \n",
       "2        Вино      75.0    0.0 г  0.0 г         0.1 г   \n",
       "3        Вино      79.0    0.0 г  0.0 г         0.0 г   \n",
       "4        Вино       0.0    0.0 г  0.0 г         0.0 г   \n",
       "\n",
       "                                         composition  \\\n",
       "0  Виноград сорта Зинфандель, пищевая добавка (ко...   \n",
       "1  Виноград сорта Арени; пищевая добавка (консерв...   \n",
       "2  Сортовой состав винограда: Каштелао - 60%, Али...   \n",
       "3  Виноград сорта Монастрель, пищевая добавка (ко...   \n",
       "4  Красные сорта винограда, пищевая добавка (конс...   \n",
       "\n",
       "                                     manufacturer            brand  \\\n",
       "0                                         Мысхако          Мысхако   \n",
       "1                                    Armenia Wine            Takar   \n",
       "2  Cooperativa Agrícola de Santo Isidro De Pegões           Pegoes   \n",
       "3                                   Wines N'Roses  Highway to Hell   \n",
       "4                               J. Garcia Carrion       Don Garcia   \n",
       "\n",
       "      country  rating     size        pricing       price old_price  \\\n",
       "0      Россия    4.89   750 мл    899,99 ₽/шт    899,99 ₽  899,99 ₽   \n",
       "1     Армения    4.90   750 мл    699,99 ₽/шт    699,99 ₽  899,99 ₽   \n",
       "2  Португалия    4.78   750 мл    499,99 ₽/шт    499,99 ₽  699,99 ₽   \n",
       "3     Испания    4.81   750 мл  1 099,00 ₽/шт  1 099,00 ₽       NaN   \n",
       "4     Испания    4.75  1000 мл    549,99 ₽/шт    549,99 ₽       NaN   \n",
       "\n",
       "        discount shelf_life max_storage_temperature min_storage_temperature  \n",
       "0  3 по цене 2-х  9999 дней                    20 ℃                     5 ℃  \n",
       "1           -22%  9999 дней                     NaN                     5 ℃  \n",
       "2           -28%  9999 дней                     NaN                     NaN  \n",
       "3     Нет скидки  9999 дней                     NaN                     5 ℃  \n",
       "4     Нет скидки  9999 дней                    20 ℃                     5 ℃  "
      ]
     },
     "execution_count": 642,
     "metadata": {},
     "output_type": "execute_result"
    }
   ],
   "source": [
    "df.drop_duplicates(inplace=True, subset=['href', 'name'])\n",
    "df.dropna(subset=['href'], inplace=True)\n",
    "df = df.drop(['href'], axis=1) # Удаляем больше не нужную колонку\n",
    "df = df.reset_index(drop=True)\n",
    "df.head()"
   ]
  },
  {
   "cell_type": "markdown",
   "id": "f8d6d67b-527d-4fd6-9110-e22f4e5770d8",
   "metadata": {},
   "source": [
    "**Шаг 2** \\\n",
    "Проверим есть ли пропуски в датасете"
   ]
  },
  {
   "cell_type": "code",
   "execution_count": 643,
   "id": "01a446f6-7577-4ea8-a8ba-d2e717ace6f0",
   "metadata": {},
   "outputs": [
    {
     "data": {
      "text/plain": [
       "name                          0\n",
       "category                      0\n",
       "subcategory                   0\n",
       "kalories                    267\n",
       "proteins                    308\n",
       "fats                        308\n",
       "carbohydrates               313\n",
       "composition                 332\n",
       "manufacturer                398\n",
       "brand                       532\n",
       "country                     238\n",
       "rating                        0\n",
       "size                        692\n",
       "pricing                       0\n",
       "price                         0\n",
       "old_price                  8989\n",
       "discount                      0\n",
       "shelf_life                    0\n",
       "max_storage_temperature    3777\n",
       "min_storage_temperature    4627\n",
       "dtype: int64"
      ]
     },
     "execution_count": 643,
     "metadata": {},
     "output_type": "execute_result"
    }
   ],
   "source": [
    "df.isnull().sum()"
   ]
  },
  {
   "cell_type": "markdown",
   "id": "972baa50-63c9-4d7f-a658-d9d10640bfe1",
   "metadata": {},
   "source": [
    "Уберем товары не относящиеся к продуктам питания, которые попали в датасет из-за смешанных категорий. \\\n",
    "Для этого найдем все товары с пустыми `kalories` и исключим из них продукты питания"
   ]
  },
  {
   "cell_type": "code",
   "execution_count": 644,
   "id": "295c8b83-e569-4ee9-9919-5b8f2ca62779",
   "metadata": {},
   "outputs": [
    {
     "data": {
      "text/plain": [
       "name           Губка Волна для обуви и изделий из кожи бесцве...\n",
       "subcategory                                               Маркет\n",
       "Name: 6154, dtype: object"
      ]
     },
     "execution_count": 644,
     "metadata": {},
     "output_type": "execute_result"
    }
   ],
   "source": [
    "non_food_ids = (df[\"kalories\"].isnull()) & (\n",
    "    ~df[\"subcategory\"].isin(\n",
    "        [\n",
    "            \"Кофе\",\n",
    "            \"Чай\",\n",
    "            \"Специи, приправы и пряности\",\n",
    "            \"Соль\",\n",
    "            \"Вся рыба\",\n",
    "            \"Охлаждённая рыба\",\n",
    "            \"Копчёная рыба\",\n",
    "            \"Вяленая рыба\",\n",
    "            \"Вода\",\n",
    "            \"Пиво\",\n",
    "            \"Конфеты\",\n",
    "            \"Компоненты для выпечки\",\n",
    "            \"Молочные коктейли\",\n",
    "            \"Полуфабрикаты\",\n",
    "            \"Овощи\",\n",
    "            \"Фрукты\",\n",
    "            \"Зелень и салаты\",\n",
    "            \"Коньяк\",\n",
    "        ]\n",
    "    )\n",
    ")\n",
    "\n",
    "non_food = df[non_food_ids][[\"name\", \"subcategory\"]]\n",
    "df = df[~non_food_ids]\n",
    "\n",
    "non_food.iloc[5]"
   ]
  },
  {
   "cell_type": "markdown",
   "id": "90f43b00-e261-4323-ae74-574da8e5c64b",
   "metadata": {},
   "source": [
    "Все остальные пропуски `kalories` заполняем нулями"
   ]
  },
  {
   "cell_type": "code",
   "execution_count": 645,
   "id": "dc11709f-f11e-4361-b36a-2bd8c12c6d22",
   "metadata": {},
   "outputs": [],
   "source": [
    "df.loc[df['kalories'].isnull(), 'kalories'] = 0"
   ]
  },
  {
   "cell_type": "markdown",
   "id": "223893ec-9f99-4ef2-9dbc-fe70ddb12ffc",
   "metadata": {},
   "source": [
    "**Шаг 3** \\\n",
    "Преобразовываем в тип float и заполняем нулями все пропуски `proteins`, `fats` и `carbohydrates`"
   ]
  },
  {
   "cell_type": "code",
   "execution_count": 646,
   "id": "86c200a6-f348-4abc-8d1d-b7933d351a9f",
   "metadata": {},
   "outputs": [],
   "source": [
    "df.loc[:, 'proteins'] = df['proteins'].str.replace(' г', '').astype(float)\n",
    "df.loc[:, 'fats'] = df['fats'].str.replace(' г', '').astype(float)\n",
    "df.loc[:, 'carbohydrates'] = df['carbohydrates'].str.replace(' г', '').astype(float)\n",
    "\n",
    "df.loc[df['proteins'].isnull(), 'proteins'] = 0\n",
    "df.loc[df['fats'].isnull(), 'fats'] = 0\n",
    "df.loc[df['carbohydrates'].isnull(), 'carbohydrates'] = 0"
   ]
  },
  {
   "cell_type": "markdown",
   "id": "214005f0-ade1-4cfa-8e7b-5ee823ffbc53",
   "metadata": {},
   "source": [
    "**Шаг 4** \\\n",
    "Так как у нас нет информации о средней плотности всех напитков, в колонке `size` неявно приравняем **мл** к **гр**, переводим во float"
   ]
  },
  {
   "cell_type": "code",
   "execution_count": 647,
   "id": "f258e396-a2bb-43cf-bdba-138ece56a0b9",
   "metadata": {},
   "outputs": [],
   "source": [
    "df.loc[:, \"size\"] = (\n",
    "    df[\"size\"]\n",
    "    .str.replace(\" гр\", \"\")\n",
    "    .str.replace(\" мл\", \"\")\n",
    "    .str.replace(\" \", \"\")\n",
    "    .astype(float)\n",
    ")"
   ]
  },
  {
   "cell_type": "markdown",
   "id": "1cf00284-162a-46d4-a36c-78b5147454ed",
   "metadata": {},
   "source": [
    "Расценка `pricing` у товаров на развес 🥒 указывается не за **шт**, а за **кг**, поэтому `size` в этих строках пустой. \\\n",
    "Заполным эти пропуски как 1000 гр, а также создадим **новый признак** `is_by_weight`, в котором укажем на развес ли продукт\n",
    "<a id='is_by_weight'></a>"
   ]
  },
  {
   "cell_type": "code",
   "execution_count": 648,
   "id": "4599a1fb-1467-44e4-8586-369b1bbcf65f",
   "metadata": {},
   "outputs": [
    {
     "data": {
      "text/plain": [
       "array(['шт', 'кг'], dtype=object)"
      ]
     },
     "execution_count": 648,
     "metadata": {},
     "output_type": "execute_result"
    }
   ],
   "source": [
    "pricing_units = df[\"pricing\"].str.split(\"/\").str[1]\n",
    "pricing_units.unique()"
   ]
  },
  {
   "cell_type": "code",
   "execution_count": 649,
   "id": "5c4db016-a768-42ef-bb46-7ae12f3834b5",
   "metadata": {},
   "outputs": [],
   "source": [
    "df.loc[pricing_units == \"кг\", \"size\"] = 1000\n",
    "df[\"is_by_weight\"] = 1 * (pricing_units == \"кг\")"
   ]
  },
  {
   "cell_type": "markdown",
   "id": "d4f2d2bc-7fb3-4e16-98de-62d120f6c171",
   "metadata": {},
   "source": [
    "Далее `pricing` нам не понадобится, так как есть, `price`"
   ]
  },
  {
   "cell_type": "code",
   "execution_count": 650,
   "id": "8a4d98ee-667a-4ec3-a9a7-6290445690c9",
   "metadata": {},
   "outputs": [],
   "source": [
    "df = df.drop(['pricing'], axis=1) "
   ]
  },
  {
   "cell_type": "markdown",
   "id": "9d7c82e5-6e5b-496a-967b-2ebd5d239f0f",
   "metadata": {},
   "source": [
    "Отформатируем `price` и `old_price`"
   ]
  },
  {
   "cell_type": "code",
   "execution_count": 651,
   "id": "33ed5e52-be59-406a-b536-084db1220f32",
   "metadata": {},
   "outputs": [],
   "source": [
    "df.loc[:, \"price\"] = (\n",
    "    df[\"price\"]\n",
    "    .str.replace(\" ₽\", \"\")\n",
    "    .str.replace(\",\", \".\")\n",
    "    .str.replace(\" \", \"\")\n",
    "    .astype(float)\n",
    ")\n",
    "df.loc[:, \"old_price\"] = (\n",
    "    df[\"old_price\"]\n",
    "    .str.replace(\" ₽\", \"\")\n",
    "    .str.replace(\",\", \".\")\n",
    "    .str.replace(\" \", \"\")\n",
    "    .astype(float)\n",
    ")"
   ]
  },
  {
   "cell_type": "markdown",
   "id": "4fa28884-2bcd-4e99-b47a-f5b119924ba8",
   "metadata": {},
   "source": [
    "У товаров без скидки свойство `old_price` пропущено, прировняем к `price`"
   ]
  },
  {
   "cell_type": "code",
   "execution_count": 652,
   "id": "036abf32-9136-4bfd-9e80-17e091e605da",
   "metadata": {},
   "outputs": [],
   "source": [
    "null_old_prices = df['old_price'].isnull()\n",
    "df.loc[null_old_prices, 'old_price'] = df[null_old_prices]['price']"
   ]
  },
  {
   "cell_type": "markdown",
   "id": "22021364-12ef-46f9-9e67-e73f09b8e392",
   "metadata": {},
   "source": [
    "**Шаг 5** \\\n",
    "Преобразовываем скидку во float, для специальных предложений создаем **новый признак** `is_special_offer`\n",
    "<a id='is_special_offer'></a>"
   ]
  },
  {
   "cell_type": "code",
   "execution_count": 653,
   "id": "9186ff97-8485-4327-a396-4fbeb3c18dff",
   "metadata": {},
   "outputs": [
    {
     "data": {
      "text/plain": [
       "array(['3 по цене 2-х', '-22%', '-28%', 'Нет скидки', '-25%', '-33%',\n",
       "       '-16%', '-18%', '-41%', '-17%', '-26%', '-43%', '-15%', '-19%',\n",
       "       '-31%', '-23%', '-44%', '-57%', '-36%', '-37%', '-40%', '-30%',\n",
       "       '-24%', '-47%', '-55%', '-27%', '-21%', '-49%', '-14%', '-45%',\n",
       "       '-11%', '-56%', '-48%', 'Новинка', '-20%', '-32%', '-52%', '-38%',\n",
       "       '-50%', '-29%', '-13%', '-10%', '-39%', '-35%', '-46%', '-12%',\n",
       "       'Низкая цена', '-58%', '-34%', '-54%', '-42%', '-65%', '-62%',\n",
       "       '-59%', '-53%', '-63%', '-70%', '-51%', '5 по цене 4-х',\n",
       "       '2 по цене 1-го', '-60%', '4 по цене 3-х', '-77%'], dtype=object)"
      ]
     },
     "execution_count": 653,
     "metadata": {},
     "output_type": "execute_result"
    }
   ],
   "source": [
    "df['discount'].unique()"
   ]
  },
  {
   "cell_type": "code",
   "execution_count": 654,
   "id": "736f55ad-ad12-4a16-97f2-1a5da95bc52d",
   "metadata": {},
   "outputs": [],
   "source": [
    "is_special_offer = df[\"discount\"].isin(\n",
    "    [\n",
    "        \"3 по цене 2-х\",\n",
    "        \"Новинка\",\n",
    "        \"Низкая цена\",\n",
    "        \"5 по цене 4-х\",\n",
    "        \"2 по цене 1-го\",\n",
    "        \"4 по цене 3-х\",\n",
    "    ]\n",
    ")\n",
    "\n",
    "is_no_discount = df[\"discount\"].isin([\"Нет скидки\"])\n",
    "\n",
    "df.loc[:, \"discount\"] = df[\"discount\"].str.replace(\"-\", \"\").str.replace(\"%\", \"\")\n",
    "df.loc[is_special_offer + is_no_discount, \"discount\"] = 0\n",
    "df.loc[:, \"discount\"] = df[\"discount\"].astype(float)\n",
    "\n",
    "df[\"is_special_offer\"] = is_special_offer"
   ]
  },
  {
   "cell_type": "markdown",
   "id": "a238f43a-265f-4ccf-8331-a51936aad25d",
   "metadata": {},
   "source": [
    "**Шаг 6** \\\n",
    "Приводим к типу float `shelf_life`, `max_storage_temperature` и `min_storage_temperature`"
   ]
  },
  {
   "cell_type": "code",
   "execution_count": 655,
   "id": "1567d908-e808-4bcc-b699-4e6fdbf779ee",
   "metadata": {},
   "outputs": [],
   "source": [
    "df.loc[:, \"shelf_life\"] = (\n",
    "    df[\"shelf_life\"]\n",
    "    .str.replace(\" дней\", \"\")\n",
    "    .str.replace(\" день\", \"\")\n",
    "    .str.replace(\" дня\", \"\")\n",
    "    .astype(float)\n",
    ")\n",
    "df.loc[:, \"max_storage_temperature\"] = (\n",
    "    df[\"max_storage_temperature\"].str.replace(\" ℃\", \"\").astype(float)\n",
    ")\n",
    "df.loc[:, \"min_storage_temperature\"] = (\n",
    "    df[\"min_storage_temperature\"].str.replace(\" ℃\", \"\").astype(float)\n",
    ")"
   ]
  },
  {
   "cell_type": "markdown",
   "id": "e91735f7-6bf6-41e1-88c3-c7344d3646b0",
   "metadata": {},
   "source": [
    "У некоторых товаров значения максимальной и минимальной температуры хранения перепутаны, исправим"
   ]
  },
  {
   "cell_type": "code",
   "execution_count": 656,
   "id": "80528c28-7eec-4654-9860-a3eb6cc18b0e",
   "metadata": {},
   "outputs": [],
   "source": [
    "mis_tems = df['max_storage_temperature'] < df['min_storage_temperature']\n",
    "\n",
    "df.loc[mis_tems, ['max_storage_temperature', 'min_storage_temperature']] = \\\n",
    "    df.loc[mis_tems, ['min_storage_temperature', 'max_storage_temperature']].values"
   ]
  },
  {
   "cell_type": "markdown",
   "id": "c9a4baab-3da9-4711-b891-d536daed9b97",
   "metadata": {},
   "source": [
    "Считаем пропуски как неограниченную температуру хранения. \\\n",
    "Заполняем максимальной для `max_storage_temperature` (не учитывая единственного выброса 🍾 в 9999), минимальной для `min_storage_temperature` "
   ]
  },
  {
   "cell_type": "code",
   "execution_count": 657,
   "id": "8746b123-1ef1-4a22-b6b5-778b6fe91f8d",
   "metadata": {},
   "outputs": [
    {
     "data": {
      "text/plain": [
       "[40.0, 50.0, 9999.0]"
      ]
     },
     "execution_count": 657,
     "metadata": {},
     "output_type": "execute_result"
    }
   ],
   "source": [
    "sorted(df['max_storage_temperature'].dropna().unique())[-3:]"
   ]
  },
  {
   "cell_type": "code",
   "execution_count": 658,
   "id": "780a8cf6-bd86-47eb-ac1b-1095521b7933",
   "metadata": {},
   "outputs": [
    {
     "data": {
      "text/plain": [
       "[-40.0, -30.0, -26.0]"
      ]
     },
     "execution_count": 658,
     "metadata": {},
     "output_type": "execute_result"
    }
   ],
   "source": [
    "sorted(df['min_storage_temperature'].dropna().unique())[:3]"
   ]
  },
  {
   "cell_type": "code",
   "execution_count": 659,
   "id": "72155c91-d86a-4fa9-85cb-6b58fdbae530",
   "metadata": {},
   "outputs": [
    {
     "data": {
      "text/html": [
       "<div>\n",
       "<style scoped>\n",
       "    .dataframe tbody tr th:only-of-type {\n",
       "        vertical-align: middle;\n",
       "    }\n",
       "\n",
       "    .dataframe tbody tr th {\n",
       "        vertical-align: top;\n",
       "    }\n",
       "\n",
       "    .dataframe thead th {\n",
       "        text-align: right;\n",
       "    }\n",
       "</style>\n",
       "<table border=\"1\" class=\"dataframe\">\n",
       "  <thead>\n",
       "    <tr style=\"text-align: right;\">\n",
       "      <th></th>\n",
       "      <th>name</th>\n",
       "      <th>category</th>\n",
       "      <th>subcategory</th>\n",
       "      <th>kalories</th>\n",
       "      <th>proteins</th>\n",
       "      <th>fats</th>\n",
       "      <th>carbohydrates</th>\n",
       "      <th>composition</th>\n",
       "      <th>manufacturer</th>\n",
       "      <th>brand</th>\n",
       "      <th>...</th>\n",
       "      <th>rating</th>\n",
       "      <th>size</th>\n",
       "      <th>price</th>\n",
       "      <th>old_price</th>\n",
       "      <th>discount</th>\n",
       "      <th>shelf_life</th>\n",
       "      <th>max_storage_temperature</th>\n",
       "      <th>min_storage_temperature</th>\n",
       "      <th>is_by_weight</th>\n",
       "      <th>is_special_offer</th>\n",
       "    </tr>\n",
       "  </thead>\n",
       "  <tbody>\n",
       "    <tr>\n",
       "      <th>4531</th>\n",
       "      <td>Коньяк Старая Площадь КВ выдержанный 40%, 500мл</td>\n",
       "      <td>Алкогольные напитки</td>\n",
       "      <td>Коньяк</td>\n",
       "      <td>230.0</td>\n",
       "      <td>0.0</td>\n",
       "      <td>0.0</td>\n",
       "      <td>1.2</td>\n",
       "      <td>Дистилляты коньячные выдержанные не менее  сем...</td>\n",
       "      <td>Мосазервинзавод</td>\n",
       "      <td>СТАРАЯ ПЛОЩАДЬ</td>\n",
       "      <td>...</td>\n",
       "      <td>0.0</td>\n",
       "      <td>500.0</td>\n",
       "      <td>779.99</td>\n",
       "      <td>779.99</td>\n",
       "      <td>0.0</td>\n",
       "      <td>9999.0</td>\n",
       "      <td>9999.0</td>\n",
       "      <td>5.0</td>\n",
       "      <td>0</td>\n",
       "      <td>False</td>\n",
       "    </tr>\n",
       "  </tbody>\n",
       "</table>\n",
       "<p>1 rows × 21 columns</p>\n",
       "</div>"
      ],
      "text/plain": [
       "                                                 name             category  \\\n",
       "4531  Коньяк Старая Площадь КВ выдержанный 40%, 500мл  Алкогольные напитки   \n",
       "\n",
       "     subcategory  kalories proteins fats carbohydrates  \\\n",
       "4531      Коньяк     230.0      0.0  0.0           1.2   \n",
       "\n",
       "                                            composition     manufacturer  \\\n",
       "4531  Дистилляты коньячные выдержанные не менее  сем...  Мосазервинзавод   \n",
       "\n",
       "               brand  ... rating   size   price old_price discount shelf_life  \\\n",
       "4531  СТАРАЯ ПЛОЩАДЬ  ...    0.0  500.0  779.99    779.99      0.0     9999.0   \n",
       "\n",
       "     max_storage_temperature min_storage_temperature is_by_weight  \\\n",
       "4531                  9999.0                     5.0            0   \n",
       "\n",
       "      is_special_offer  \n",
       "4531             False  \n",
       "\n",
       "[1 rows x 21 columns]"
      ]
     },
     "execution_count": 659,
     "metadata": {},
     "output_type": "execute_result"
    }
   ],
   "source": [
    "df[df['max_storage_temperature'] == 9999]"
   ]
  },
  {
   "cell_type": "code",
   "execution_count": 660,
   "id": "810dac6b-467f-4262-bd09-ddfd65ccf71e",
   "metadata": {},
   "outputs": [],
   "source": [
    "max_mask = (df['max_storage_temperature'] == 9999) + df['max_storage_temperature'].isnull()\n",
    "df.loc[max_mask, 'max_storage_temperature'] = 50.0\n",
    "\n",
    "min_mask = df['min_storage_temperature'].isnull()\n",
    "df.loc[min_mask, 'min_storage_temperature'] = -40.0"
   ]
  },
  {
   "cell_type": "markdown",
   "id": "9f1d2b41-6f69-49fd-b46e-a8c14d8f32ef",
   "metadata": {},
   "source": [
    "**Шаг 7** \\\n",
    "Заполним пропуски в `manufacturer`, `brand` и `country` как \"Unknown\""
   ]
  },
  {
   "cell_type": "code",
   "execution_count": 661,
   "id": "68917962-5904-4b87-9ca7-61c358e9b87a",
   "metadata": {},
   "outputs": [],
   "source": [
    "df['manufacturer'] = df['manufacturer'].fillna('Unknown')\n",
    "df['brand'] = df['brand'].fillna('Unknown')\n",
    "df['country'] = df['country'].fillna('Unknown')"
   ]
  },
  {
   "cell_type": "markdown",
   "id": "3cbf08e3-4d6d-4e48-9bd8-eec367241feb",
   "metadata": {},
   "source": [
    "**Шаг 8** \\\n",
    "У некоторых товаров состав пропущен или состоит из заглушки в виде \".\" или \"/\". Заполним как \"Unknown\""
   ]
  },
  {
   "cell_type": "code",
   "execution_count": 662,
   "id": "2a17b0ec-1b04-4cff-ac0b-6c1e61b0f659",
   "metadata": {},
   "outputs": [],
   "source": [
    "df['composition'] = df['composition'].fillna('Unknown')\n",
    "df.loc[df['composition'] == \".\", 'composition'] = 'Unknown'\n",
    "df.loc[df['composition'] == \"/\", 'composition'] = 'Unknown'"
   ]
  },
  {
   "cell_type": "markdown",
   "id": "2e076a89-2a0f-4d38-bbaf-593b8e5222b8",
   "metadata": {},
   "source": [
    "Обновляем тип колонок в df и проверяем пропуски"
   ]
  },
  {
   "cell_type": "code",
   "execution_count": 663,
   "id": "6e3220f5-711a-4a35-8041-83c96e53dc31",
   "metadata": {},
   "outputs": [
    {
     "data": {
      "text/plain": [
       "name                       0\n",
       "category                   0\n",
       "subcategory                0\n",
       "kalories                   0\n",
       "proteins                   0\n",
       "fats                       0\n",
       "carbohydrates              0\n",
       "composition                0\n",
       "manufacturer               0\n",
       "brand                      0\n",
       "country                    0\n",
       "rating                     0\n",
       "size                       0\n",
       "price                      0\n",
       "old_price                  0\n",
       "discount                   0\n",
       "shelf_life                 0\n",
       "max_storage_temperature    0\n",
       "min_storage_temperature    0\n",
       "is_by_weight               0\n",
       "is_special_offer           0\n",
       "dtype: int64"
      ]
     },
     "execution_count": 663,
     "metadata": {},
     "output_type": "execute_result"
    }
   ],
   "source": [
    "numeric_cols = [\n",
    "    \"proteins\",\n",
    "    \"fats\",\n",
    "    \"carbohydrates\",\n",
    "    \"size\",\n",
    "    \"price\",\n",
    "    \"old_price\",\n",
    "    \"discount\",\n",
    "    \"shelf_life\",\n",
    "    \"max_storage_temperature\",\n",
    "    \"min_storage_temperature\",\n",
    "]\n",
    "df[numeric_cols] = df[numeric_cols].astype(float)\n",
    "df.isnull().sum()"
   ]
  },
  {
   "cell_type": "markdown",
   "id": "2ba948cc-f936-45b7-a3eb-9a66583de11d",
   "metadata": {},
   "source": [
    "**Выбросы** \\\n",
    "С `max_storage_temperature` мы справились, посмотрим остальные"
   ]
  },
  {
   "cell_type": "code",
   "execution_count": 664,
   "id": "ec8b8a1c-da9e-48b2-b9b8-257af17e4867",
   "metadata": {},
   "outputs": [
    {
     "data": {
      "image/png": "[encoded data removed]",
      "text/plain": [
       "<Figure size 800x300 with 1 Axes>"
      ]
     },
     "metadata": {},
     "output_type": "display_data"
    }
   ],
   "source": [
    "plt.figure(figsize=(8, 3))\n",
    "sns.boxplot(data=df[['kalories', 'proteins', 'fats', 'carbohydrates']])\n",
    "plt.title('Первый набор данных')\n",
    "plt.xlabel('Столбцы')\n",
    "plt.ylabel('Значения')\n",
    "plt.xticks(rotation=45)\n",
    "plt.show()"
   ]
  },
  {
   "cell_type": "markdown",
   "id": "87b43765-97c2-4b89-a853-369fc9f9e49a",
   "metadata": {},
   "source": [
    "Разбираемся с супер-белковым мороженым и супер-калорийными хлебцами"
   ]
  },
  {
   "cell_type": "code",
   "execution_count": 665,
   "id": "52bc5930-8f0c-4413-893a-f1002b30498d",
   "metadata": {},
   "outputs": [
    {
     "name": "stdout",
     "output_type": "stream",
     "text": [
      "name        Хлебцы Magic Grain мультизлаковые тыквенные се...\n",
      "kalories                                               1610.0\n",
      "Name: 9031, dtype: object\n"
     ]
    }
   ],
   "source": [
    "x10_outliers = df['kalories'] > 1100\n",
    "print(df[x10_outliers][['name', 'kalories']].iloc[4])\n",
    "df.loc[x10_outliers, 'kalories'] = df['kalories'][x10_outliers] / 10"
   ]
  },
  {
   "cell_type": "code",
   "execution_count": 666,
   "id": "98f2254b-55b0-4b36-b13f-848156507e6d",
   "metadata": {},
   "outputs": [
    {
     "name": "stdout",
     "output_type": "stream",
     "text": [
      "                                                   name  kalories\n",
      "3890           Сыр Pretto творожный с огурцом 65%, 140г     942.6\n",
      "6910                       Водка Гусь Важный 40%, 500мл     920.0\n",
      "7044  Водка Kremlin Award Органик Лимитед Эдишн 40%,...     940.0\n"
     ]
    }
   ],
   "source": [
    "vodka_outliers = df['kalories'] > 919\n",
    "print(df[vodka_outliers][['name', 'kalories']])\n",
    "df.loc[vodka_outliers, 'kalories'] = df['kalories'][vodka_outliers] / (df['size'][vodka_outliers]/100)"
   ]
  },
  {
   "cell_type": "code",
   "execution_count": 667,
   "id": "31143e10-5a4e-4d63-8ab7-d207f00bcfd4",
   "metadata": {},
   "outputs": [
    {
     "name": "stdout",
     "output_type": "stream",
     "text": [
      "                                                    name  proteins\n",
      "11611  Мороженое сливочное Brand Ice Сливки с печенье...     250.0\n"
     ]
    }
   ],
   "source": [
    "icecream_outliers = df['proteins'] > 249\n",
    "print(df[icecream_outliers][['name', 'proteins']])\n",
    "df.loc[icecream_outliers, 'proteins'] = df['proteins'][icecream_outliers] / 10"
   ]
  },
  {
   "cell_type": "code",
   "execution_count": 668,
   "id": "b206e86f-57ef-41b7-819e-bbf0cca614cf",
   "metadata": {},
   "outputs": [
    {
     "name": "stdout",
     "output_type": "stream",
     "text": [
      "                                     name   fats\n",
      "5863  Гранола Ягодная Зелёная Линия, 300г  106.0\n"
     ]
    }
   ],
   "source": [
    "fats_outliers = df['fats'] > 105\n",
    "print(df[fats_outliers][['name', 'fats']])\n",
    "df.loc[fats_outliers, 'fats'] = df['fats'][fats_outliers] / 10"
   ]
  },
  {
   "cell_type": "code",
   "execution_count": 669,
   "id": "7a36653e-1c41-4445-869f-b84c8d39d494",
   "metadata": {},
   "outputs": [
    {
     "name": "stdout",
     "output_type": "stream",
     "text": [
      "                                      name  carbohydrates\n",
      "3619            Сыр Киприно Российский 50%          360.0\n",
      "6405                 Водка CORN 40%, 500мл          930.0\n",
      "10393  Конфеты ассорти Зелёная Линия, 200г          153.3\n"
     ]
    }
   ],
   "source": [
    "icecream_outliers = df['carbohydrates'] > 105\n",
    "print(df[icecream_outliers][['name', 'carbohydrates']])\n",
    "df.loc[icecream_outliers, 'carbohydrates'] = df['carbohydrates'][icecream_outliers] / 10"
   ]
  },
  {
   "cell_type": "markdown",
   "id": "7945f537-5d9c-48cd-bd03-41478dab1fa6",
   "metadata": {},
   "source": [
    "<img src='media/milk.gif' align='center' width=\"200px\">"
   ]
  },
  {
   "cell_type": "markdown",
   "id": "077ad29d-7f11-4bb2-bd1b-27c590d2915f",
   "metadata": {},
   "source": [
    "**Итог** \\\n",
    "В данных нет пропусков, они отформатированы и очищены от выбросов"
   ]
  },
  {
   "cell_type": "code",
   "execution_count": 670,
   "id": "f73e0fbd-bf37-4a77-9586-23181bd7078e",
   "metadata": {},
   "outputs": [
    {
     "name": "stdout",
     "output_type": "stream",
     "text": [
      "<class 'pandas.core.frame.DataFrame'>\n",
      "Index: 12399 entries, 0 to 12598\n",
      "Data columns (total 21 columns):\n",
      " #   Column                   Non-Null Count  Dtype  \n",
      "---  ------                   --------------  -----  \n",
      " 0   name                     12399 non-null  object \n",
      " 1   category                 12399 non-null  object \n",
      " 2   subcategory              12399 non-null  object \n",
      " 3   kalories                 12399 non-null  float64\n",
      " 4   proteins                 12399 non-null  float64\n",
      " 5   fats                     12399 non-null  float64\n",
      " 6   carbohydrates            12399 non-null  float64\n",
      " 7   composition              12399 non-null  object \n",
      " 8   manufacturer             12399 non-null  object \n",
      " 9   brand                    12399 non-null  object \n",
      " 10  country                  12399 non-null  object \n",
      " 11  rating                   12399 non-null  float64\n",
      " 12  size                     12399 non-null  float64\n",
      " 13  price                    12399 non-null  float64\n",
      " 14  old_price                12399 non-null  float64\n",
      " 15  discount                 12399 non-null  float64\n",
      " 16  shelf_life               12399 non-null  float64\n",
      " 17  max_storage_temperature  12399 non-null  float64\n",
      " 18  min_storage_temperature  12399 non-null  float64\n",
      " 19  is_by_weight             12399 non-null  int32  \n",
      " 20  is_special_offer         12399 non-null  bool   \n",
      "dtypes: bool(1), float64(12), int32(1), object(7)\n",
      "memory usage: 2.0+ MB\n"
     ]
    }
   ],
   "source": [
    "df.info()"
   ]
  },
  {
   "cell_type": "markdown",
   "id": "92f7fc38-313b-483f-ba61-0e2bcc57a39c",
   "metadata": {},
   "source": [
    "## Визуализация"
   ]
  },
  {
   "cell_type": "markdown",
   "id": "338f4755-f8ae-4996-93dd-c82e388bee2e",
   "metadata": {},
   "source": [
    "Посмотрим на распределение переменной, которую будем предсказывать"
   ]
  },
  {
   "cell_type": "code",
   "execution_count": 671,
   "id": "b782c138-84d2-4107-b2de-581a88da7015",
   "metadata": {},
   "outputs": [
    {
     "data": {
      "image/png": "[encoded data removed]",
      "text/plain": [
       "<Figure size 800x300 with 1 Axes>"
      ]
     },
     "metadata": {},
     "output_type": "display_data"
    }
   ],
   "source": [
    "plt.figure (figsize = (8, 3))\n",
    "sns.histplot(df['price'], color='skyblue')\n",
    "plt.title('Распределение цены')\n",
    "plt.xlabel('Цена')\n",
    "plt.ylabel('Частота')\n",
    "plt.show()"
   ]
  },
  {
   "cell_type": "code",
   "execution_count": 672,
   "id": "003b707f-f25a-4610-b542-e4e1b822c3f9",
   "metadata": {},
   "outputs": [
    {
     "data": {
      "image/png": "[encoded data removed]",
      "text/plain": [
       "<Figure size 300x300 with 1 Axes>"
      ]
     },
     "metadata": {},
     "output_type": "display_data"
    }
   ],
   "source": [
    "threshold_percentage = 0.8\n",
    "\n",
    "category_counts = df['country'].value_counts()\n",
    "\n",
    "small_categories_sum = category_counts[category_counts / category_counts.sum() * 100 < threshold_percentage].sum()\n",
    "category_counts = category_counts[category_counts / category_counts.sum() * 100 >= threshold_percentage]\n",
    "category_counts['Другое'] = small_categories_sum\n",
    "\n",
    "plt.figure(figsize=(3, 3))\n",
    "sns.set_palette(\"pastel\") \n",
    "plt.pie(category_counts, labels=category_counts.index, autopct='%1.1f%%', startangle=45)\n",
    "plt.title('Распределение по категориям продуктов')\n",
    "plt.axis('equal')\n",
    "plt.show()"
   ]
  },
  {
   "cell_type": "code",
   "execution_count": 673,
   "id": "876bcb3a-2ec9-4366-9450-633a1b286a58",
   "metadata": {},
   "outputs": [
    {
     "data": {
      "image/png": "[encoded data removed]",
      "text/plain": [
       "<Figure size 600x300 with 1 Axes>"
      ]
     },
     "metadata": {},
     "output_type": "display_data"
    }
   ],
   "source": [
    "mean_discount_by_subcategory = df.groupby('subcategory')['discount'].mean()\n",
    "\n",
    "top_10_discount_by_subcategory = mean_discount_by_subcategory.sort_values(ascending=False).head(10)\n",
    "\n",
    "plt.figure(figsize=(6, 3)) \n",
    "top_10_discount_by_subcategory.plot(kind='barh')\n",
    "plt.title('Топ-10 подкатегорий по средней скидке')\n",
    "plt.xlabel('Средняя скидка')\n",
    "plt.ylabel('Подкатегория')\n",
    "plt.gca().invert_yaxis()\n",
    "plt.show()"
   ]
  },
  {
   "cell_type": "markdown",
   "id": "d7d2b069-7536-443d-ace1-1929bc1b212a",
   "metadata": {},
   "source": [
    "Похоже, что скидки появляются чаще у товаров с большим сроком хранения"
   ]
  },
  {
   "cell_type": "code",
   "execution_count": 674,
   "id": "66335fba-b36d-4807-9d5d-e68d89afd7b5",
   "metadata": {},
   "outputs": [
    {
     "data": {
      "image/png": "[encoded data removed]",
      "text/plain": [
       "<Figure size 600x300 with 1 Axes>"
      ]
     },
     "metadata": {},
     "output_type": "display_data"
    }
   ],
   "source": [
    "mean_rating_by_country = df.groupby('country')['rating'].mean()\n",
    "\n",
    "top_15_rating_by_country = mean_rating_by_country.sort_values(ascending=False).head(5)\n",
    "\n",
    "plt.figure(figsize=(6, 3))\n",
    "top_15_rating_by_country.plot(kind='barh')\n",
    "plt.title('Топ-5 стран по среднему рейтингу')\n",
    "plt.xlabel('Средний рейтинг')\n",
    "plt.ylabel('Страна')\n",
    "plt.gca().invert_yaxis()\n",
    "plt.show()"
   ]
  },
  {
   "cell_type": "code",
   "execution_count": 675,
   "id": "734506d7-319d-4e42-98e7-9612e9a79d4c",
   "metadata": {},
   "outputs": [
    {
     "data": {
      "text/plain": [
       "<Axes: >"
      ]
     },
     "execution_count": 675,
     "metadata": {},
     "output_type": "execute_result"
    },
    {
     "data": {
      "image/png": "[encoded data removed]",
      "text/plain": [
       "<Figure size 640x480 with 2 Axes>"
      ]
     },
     "metadata": {},
     "output_type": "display_data"
    }
   ],
   "source": [
    "numeric_df = df.drop(['name', 'category', 'subcategory', 'composition', 'manufacturer', 'brand', 'country'], axis=1)\n",
    "sns.heatmap(numeric_df.corr())"
   ]
  },
  {
   "cell_type": "markdown",
   "id": "4fcd90de-09b9-4825-9580-ea577693624f",
   "metadata": {},
   "source": [
    "Помимо нескольких закономерных корреляций, как например калории и БЖУ, интересно что присутствует связь между сроком годности и ценой, а также чуть более слабая связь между белками и товаром на развес.\n",
    "\r\n",
    "Посмотрим на самые калорийные продукт\r\n"
   ]
  },
  {
   "cell_type": "code",
   "execution_count": 676,
   "id": "3062aa12-44f6-41a6-9694-24f5ca87171e",
   "metadata": {},
   "outputs": [
    {
     "data": {
      "text/plain": [
       "<Figure size 1200x800 with 0 Axes>"
      ]
     },
     "metadata": {},
     "output_type": "display_data"
    },
    {
     "data": {
      "image/png": "[encoded data removed]",
      "text/plain": [
       "<Figure size 640x480 with 1 Axes>"
      ]
     },
     "metadata": {},
     "output_type": "display_data"
    }
   ],
   "source": [
    "nutrients_by_subcategory = df.groupby('subcategory')[['kalories', 'proteins', 'fats', 'carbohydrates']] \\\n",
    "    .mean().sort_values(by='kalories', ascending=False)[['proteins', 'fats', 'carbohydrates']].head(10)\n",
    "\n",
    "plt.figure(figsize=(12, 8))\n",
    "nutrients_by_subcategory.plot(kind='bar', stacked=True)\n",
    "plt.title('Самые калорийные подкатегории')\n",
    "plt.xlabel('Подкатегория')\n",
    "plt.ylabel('Среднее значение')\n",
    "plt.xticks(rotation=45, ha='right')\n",
    "plt.legend(title='Нутриенты', loc='upper left')\n",
    "plt.tight_layout()\n",
    "plt.show()"
   ]
  },
  {
   "cell_type": "markdown",
   "id": "f7f57407-3170-4953-9230-5f5affe6b750",
   "metadata": {},
   "source": [
    "Посмотрим на самые белковые продукты"
   ]
  },
  {
   "cell_type": "code",
   "execution_count": 677,
   "id": "926aadd4-f2ba-4734-8146-68b96ca0c2bd",
   "metadata": {},
   "outputs": [
    {
     "data": {
      "text/plain": [
       "<Figure size 1200x800 with 0 Axes>"
      ]
     },
     "metadata": {},
     "output_type": "display_data"
    },
    {
     "data": {
      "image/png": "[encoded data removed]",
      "text/plain": [
       "<Figure size 640x480 with 1 Axes>"
      ]
     },
     "metadata": {},
     "output_type": "display_data"
    }
   ],
   "source": [
    "nutrients_by_subcategory = df.groupby('subcategory')[['proteins', 'fats', 'carbohydrates']] \\\n",
    "    .mean().sort_values(by='proteins', ascending=False).head(10)\n",
    "\n",
    "plt.figure(figsize=(12, 8))\n",
    "nutrients_by_subcategory.plot(kind='bar', stacked=True)\n",
    "plt.title('Самые белковые подкатегории')\n",
    "plt.xlabel('Подкатегория')\n",
    "plt.ylabel('Среднее значение')\n",
    "plt.xticks(rotation=45, ha='right')\n",
    "plt.legend(title='Нутриенты', loc='upper left')\n",
    "plt.tight_layout()\n",
    "plt.show()"
   ]
  },
  {
   "cell_type": "markdown",
   "id": "0aa006e3-4db2-45b1-b627-d28c3cb0b481",
   "metadata": {},
   "source": [
    "## Создание новых признаков"
   ]
  },
  {
   "cell_type": "code",
   "execution_count": 678,
   "id": "a8f08889-1750-47d7-a186-5089379800e3",
   "metadata": {},
   "outputs": [],
   "source": [
    "from sklearn.feature_extraction.text import HashingVectorizer\n",
    "\n",
    "import country_data"
   ]
  },
  {
   "cell_type": "markdown",
   "id": "850908f8-e155-4d42-b21c-c391b46a7a0d",
   "metadata": {},
   "source": [
    "`is_by_weight` - На развес ли продукт \\\n",
    "`is_special_offer` - Есть ли специальное предложение \\\n",
    "`composition[128]` - Состав в векторном представлении  \n",
    "\n",
    "`storage_temp_range` - Диапазон температур хранения \\\n",
    "`protein_to_carb_ratio` - Соотношение белков к углеводам \\\n",
    "`is_low_carb` - Является ли продукт низкоуглеводным \n",
    "\n",
    "`kalories_all` - Общее количество калорий \\\n",
    "`proteins_all` - Общее количество белков \\\n",
    "`fats_all` - Общее количество жиров \n",
    "\n",
    "`is_local` - Из России ли продукт \\\n",
    "`country_gdp_per_capita` - ВВП на душу населения страны"
   ]
  },
  {
   "cell_type": "markdown",
   "id": "4ada06e4-4c91-4c61-b8e4-7a185746591d",
   "metadata": {},
   "source": [
    "Признаки [is_by_weight](#is_by_weight) и [is_special_offer](#is_special_offer) уже были созданы в предобработке, создадим остальные"
   ]
  },
  {
   "cell_type": "markdown",
   "id": "69bb143d-48e4-4fa5-b7be-e29a661bbb2b",
   "metadata": {},
   "source": [
    "**Шаг 1** \\\n",
    "Представим состав в векторном представлении с помощью HashingVectorizer"
   ]
  },
  {
   "cell_type": "code",
   "execution_count": 679,
   "id": "479cbd7b-c00f-445b-a18e-2f2836f10dbf",
   "metadata": {},
   "outputs": [],
   "source": [
    "lines = df['composition'][~df['composition'].isnull()]\n",
    "vectorizer = HashingVectorizer(n_features=128)\n",
    "composition_vectors = vectorizer.fit_transform(lines).toarray()"
   ]
  },
  {
   "cell_type": "markdown",
   "id": "84812063-bc40-4d7e-ba00-154a8048e813",
   "metadata": {},
   "source": [
    "`composition_vectors` оставим в виде переменной для удобства"
   ]
  },
  {
   "cell_type": "markdown",
   "id": "b69a63fd-8b6a-4bba-bb06-b25c9fb343fc",
   "metadata": {},
   "source": [
    "**Шаг 2** \\\n",
    "Создадим `storage_temp_range`, `protein_to_carb_ratio` и `is_low_carb`. \\\n",
    "Считаем продукт низкоуглеводным, если отношение белков к углеводам больше 1"
   ]
  },
  {
   "cell_type": "code",
   "execution_count": 680,
   "id": "49d83a90-fc44-42bf-a132-21949d4bdbed",
   "metadata": {},
   "outputs": [],
   "source": [
    "def calculate_ratio(proteins, carbs):\n",
    "    if carbs == 0:\n",
    "        if proteins == 0:\n",
    "            return 0.0  # NaN\n",
    "        else:\n",
    "            return 1e6  # inf \n",
    "    return proteins / carbs\n",
    "\n",
    "df[\"storage_temp_range\"] = df[\"max_storage_temperature\"] - df[\"min_storage_temperature\"]\n",
    "\n",
    "df[\"protein_to_carb_ratio\"] = df.apply(\n",
    "    lambda row: calculate_ratio(row[\"proteins\"], row[\"carbohydrates\"]), axis=1\n",
    ")\n",
    "\n",
    "df[\"is_low_carb\"] = df[\"protein_to_carb_ratio\"] > 1"
   ]
  },
  {
   "cell_type": "markdown",
   "id": "a8b94fcc-a943-4b8f-9486-c4e0c20127e9",
   "metadata": {},
   "source": [
    "**Шаг 3** \\\n",
    "Создадим `kalories_all`, `proteins_all` и `fats_all`"
   ]
  },
  {
   "cell_type": "code",
   "execution_count": 681,
   "id": "92829f60-2552-4862-b7cd-f726317cb4e7",
   "metadata": {},
   "outputs": [],
   "source": [
    "df['kalories_all'] = df['kalories']/100 * df['size']\n",
    "df['proteins_all'] = df['proteins']/100 * df['size']\n",
    "df['fats_all'] = df['fats']/100 * df['size']"
   ]
  },
  {
   "cell_type": "markdown",
   "id": "5bcf05a8-c740-40d0-90ba-a2f5ebc11ece",
   "metadata": {},
   "source": [
    "**Шаг 4** \\\n",
    "`country_gdp_per_capita` получим с помощью функции из `country_data`.\\\n",
    "`is_local` считаем всё что из России"
   ]
  },
  {
   "cell_type": "code",
   "execution_count": 682,
   "id": "937db389-49ee-42d0-b2cb-733501c44a8b",
   "metadata": {},
   "outputs": [],
   "source": [
    "df['is_local'] = df['country'] == \"Россия\"\n",
    "\n",
    "df['country_gdp_per_capita'] = df['country'].apply(\n",
    "    country_data.get_country_gdp_per_capita\n",
    ").astype(float)"
   ]
  },
  {
   "cell_type": "markdown",
   "id": "18870164-cc83-4da3-b0ca-2efcad9ae75d",
   "metadata": {},
   "source": [
    "**Итог** \\\n",
    "Мы создали все новые признаки"
   ]
  },
  {
   "cell_type": "code",
   "execution_count": 683,
   "id": "d337d992-b29c-4585-b62c-e8a679ef871d",
   "metadata": {},
   "outputs": [
    {
     "name": "stdout",
     "output_type": "stream",
     "text": [
      "<class 'pandas.core.frame.DataFrame'>\n",
      "Index: 12399 entries, 0 to 12598\n",
      "Data columns (total 29 columns):\n",
      " #   Column                   Non-Null Count  Dtype  \n",
      "---  ------                   --------------  -----  \n",
      " 0   name                     12399 non-null  object \n",
      " 1   category                 12399 non-null  object \n",
      " 2   subcategory              12399 non-null  object \n",
      " 3   kalories                 12399 non-null  float64\n",
      " 4   proteins                 12399 non-null  float64\n",
      " 5   fats                     12399 non-null  float64\n",
      " 6   carbohydrates            12399 non-null  float64\n",
      " 7   composition              12399 non-null  object \n",
      " 8   manufacturer             12399 non-null  object \n",
      " 9   brand                    12399 non-null  object \n",
      " 10  country                  12399 non-null  object \n",
      " 11  rating                   12399 non-null  float64\n",
      " 12  size                     12399 non-null  float64\n",
      " 13  price                    12399 non-null  float64\n",
      " 14  old_price                12399 non-null  float64\n",
      " 15  discount                 12399 non-null  float64\n",
      " 16  shelf_life               12399 non-null  float64\n",
      " 17  max_storage_temperature  12399 non-null  float64\n",
      " 18  min_storage_temperature  12399 non-null  float64\n",
      " 19  is_by_weight             12399 non-null  int32  \n",
      " 20  is_special_offer         12399 non-null  bool   \n",
      " 21  storage_temp_range       12399 non-null  float64\n",
      " 22  protein_to_carb_ratio    12399 non-null  float64\n",
      " 23  is_low_carb              12399 non-null  bool   \n",
      " 24  kalories_all             12399 non-null  float64\n",
      " 25  proteins_all             12399 non-null  float64\n",
      " 26  fats_all                 12399 non-null  float64\n",
      " 27  is_local                 12399 non-null  bool   \n",
      " 28  country_gdp_per_capita   12399 non-null  float64\n",
      "dtypes: bool(3), float64(18), int32(1), object(7)\n",
      "memory usage: 2.5+ MB\n"
     ]
    }
   ],
   "source": [
    "df.info()"
   ]
  },
  {
   "cell_type": "markdown",
   "id": "8ba935c2-3542-4462-86fe-d895081cfb76",
   "metadata": {},
   "source": [
    "## Гипотезы"
   ]
  },
  {
   "cell_type": "code",
   "execution_count": 684,
   "id": "a7f1d781-8d0b-4b46-8b8e-6913551ed6a3",
   "metadata": {},
   "outputs": [],
   "source": [
    "import statsmodels.api as sm\n",
    "from scipy import stats"
   ]
  },
  {
   "cell_type": "markdown",
   "id": "c0a36dcd-1011-42a1-a5ff-ed11241f53c2",
   "metadata": {},
   "source": [
    "Во время работы над проектом у нас возникло несколько вопросов: \n",
    "- Влияет ли состав на оценку товара?\n",
    "- Количество белков зависит от того на развес ли товар?\n",
    "- Цена зависит от срока хранения?\n",
    "- Больше ли стоят зарубежные товары?\n",
    "- Правда ли, что скидки появляются реже у продуктов с маленьким сроком хранения?"
   ]
  },
  {
   "cell_type": "markdown",
   "id": "b3f06edb-ba90-4cad-b5f9-2cf38017251d",
   "metadata": {},
   "source": [
    "**Шаг 1** \\\n",
    "Влияет ли состав на оценку товара?\n",
    "\n",
    "$$\n",
    "\\begin{aligned}\n",
    "&H_0: \\text{Состав не влияет на оценку товара} \\\\ \n",
    "&H_1: \\text{Состав влияет на оценку товара}\n",
    "\\end{aligned}\n",
    "$$\n",
    "Применим регрессионный анализ"
   ]
  },
  {
   "cell_type": "code",
   "execution_count": 685,
   "id": "0a715c7b-ab25-4300-af55-0ebd3d8ead7a",
   "metadata": {},
   "outputs": [
    {
     "name": "stdout",
     "output_type": "stream",
     "text": [
      "Колличество p_value < alpha: 36 / 128\n",
      "Гипотеза H0 отвергается: состав влияет на оценку товара\n"
     ]
    }
   ],
   "source": [
    "X = sm.add_constant(composition_vectors)\n",
    "y = df['rating']\n",
    "\n",
    "model = sm.OLS(y, X).fit()\n",
    "p_values = model.pvalues[1:] \n",
    "\n",
    "alpha = 0.05\n",
    "\n",
    "is_p_value_alpha = [p_value < alpha for p_value in p_values]\n",
    "print('Колличество p_value < alpha:', sum(is_p_value_alpha), \"/\", len(is_p_value_alpha))\n",
    "\n",
    "# Если хотя бы одно p-значение меньше alpha, отвергаем H0\n",
    "if any(is_p_value_alpha):\n",
    "    print(\"Гипотеза H0 отвергается: состав влияет на оценку товара\")\n",
    "else:\n",
    "    print(\"Гипотеза H0 не отвергается: состав не влияет на оценку товара\")"
   ]
  },
  {
   "cell_type": "markdown",
   "id": "b73982ea-0c26-4f38-b617-f63118a29a1c",
   "metadata": {},
   "source": [
    "**Шаг 2** \\\n",
    "Количество белков зависит от того на развес ли товар?\n",
    "$$\n",
    "\\begin{aligned}\n",
    "&H_0: \\text{Количество белков не зависит от того на развес ли товар} \\\\ \n",
    "&H_1: \\text{Количество белков зависит от того на развес ли товар}\n",
    "\\end{aligned}\n",
    "$$\n",
    "Воспользуемся t-тестом так как значения белков не имеет нормального распределения"
   ]
  },
  {
   "cell_type": "code",
   "execution_count": 686,
   "id": "4d3b4e97-14cc-4ca5-8a72-d65cabaac1f5",
   "metadata": {},
   "outputs": [
    {
     "name": "stdout",
     "output_type": "stream",
     "text": [
      "t-значение: 22.91666008518203\n",
      "p-значение: 1.7609782281645117e-88\n",
      "Гипотеза H0 отвергается: количество белков зависит от того, на развес ли товар\n"
     ]
    }
   ],
   "source": [
    "proteins_by_weight = df[df['is_by_weight'] == 1]['proteins']\n",
    "proteins_not_by_weight = df[df['is_by_weight'] == 0]['proteins']\n",
    "\n",
    "t_stat, p_value = stats.ttest_ind(proteins_by_weight, proteins_not_by_weight, equal_var=False)\n",
    "\n",
    "print(\"t-значение:\", t_stat)\n",
    "print(\"p-значение:\", p_value)\n",
    "\n",
    "alpha = 0.05\n",
    "\n",
    "if p_value < alpha:\n",
    "    print(\"Гипотеза H0 отвергается: количество белков зависит от того, на развес ли товар\")\n",
    "else:\n",
    "    print(\"Гипотеза H0 не отвергается: количество белков не зависит от того, на развес ли товар\")"
   ]
  },
  {
   "cell_type": "markdown",
   "id": "6ed8c64a-b5a8-4198-af09-953c5a9f5c75",
   "metadata": {},
   "source": [
    "**Шаг 3** \\\n",
    "Цена зависит от срока хранения?\n",
    "$$\n",
    "\\begin{aligned}\n",
    "&H_0: \\text{Цена не зависит от срока хранения} \\\\ \r\n",
    "&H_1: \\text{Цена зависит от срока хранения}\n",
    "\\end{aligned}\n",
    "$$Данные не подчиняются нормальному распределению и содержат выбросы, поэтому мы прибегаем к использованию коэффициента корреляции Спирмена "
   ]
  },
  {
   "cell_type": "code",
   "execution_count": 687,
   "id": "ced13aeb-2eb3-4f73-8b9b-a44a688f86c9",
   "metadata": {},
   "outputs": [
    {
     "name": "stdout",
     "output_type": "stream",
     "text": [
      "Коэффициент корреляции Спирмена: 0.29277953461420597\n",
      "p-значение: 1.375075773286665e-243\n",
      "Гипотеза H0 отвергается: цена зависит от срока хранения.\n"
     ]
    }
   ],
   "source": [
    "corr_test = stats.spearmanr(df['shelf_life'], df['price'])\n",
    "correlation_coefficient = corr_test[0]\n",
    "p_value = corr_test[1]\n",
    "\n",
    "print(\"Коэффициент корреляции Спирмена:\", correlation_coefficient)\n",
    "print(\"p-значение:\", p_value)\n",
    "\n",
    "alpha = 0.05\n",
    "if p_value < alpha:\n",
    "    print(\"Гипотеза H0 отвергается: цена зависит от срока хранения.\")\n",
    "else:\n",
    "    print(\"Гипотеза H0 не отвергается: цена не зависит от срока хранения.\")"
   ]
  },
  {
   "cell_type": "markdown",
   "id": "4955170b-8c75-4bde-895c-f04c68e8aef9",
   "metadata": {},
   "source": [
    "**Шаг 4** \\\n",
    "Больше ли стоят зарубежные товары?\n",
    "$$\n",
    "\\begin{aligned}\n",
    "&H_0: \\text{Зарубежные товары стоят не дороже местных} \\\\ \n",
    "&H_1: \\text{Зарубежные товары стоят дороже местных}\n",
    "\\end{aligned}\n",
    "$$\n",
    "U-тест является более подходящим методом для задачи чем z-тест, поскольку он не требует нормальности распределения данных и подходит для анализа данных с выбросами. \\\n",
    "Также он подходит для анализа данных с асимметричным распределением"
   ]
  },
  {
   "cell_type": "code",
   "execution_count": 688,
   "id": "27b39408-a23b-4faa-88a6-338d3f24cccc",
   "metadata": {},
   "outputs": [
    {
     "data": {
      "text/plain": [
       "((2635,), (9527,))"
      ]
     },
     "execution_count": 688,
     "metadata": {},
     "output_type": "execute_result"
    }
   ],
   "source": [
    "not_unk = ~(df['country'] == \"Unknown\")\n",
    "\n",
    "foreign_prices = df[~df['is_local'] & not_unk]['price']\n",
    "local_prices = df[df['is_local'] & not_unk]['price']\n",
    "\n",
    "foreign_prices.shape, local_prices.shape"
   ]
  },
  {
   "cell_type": "code",
   "execution_count": 689,
   "id": "ec11c8f3-5c1a-43b5-957d-a688f703b4b9",
   "metadata": {},
   "outputs": [
    {
     "name": "stdout",
     "output_type": "stream",
     "text": [
      "U-статистика: 18230106.0\n",
      "p-значение: 6.681267266258801e-278\n",
      "Гипотеза H0 не отвергается: зарубежные товары не стоят больше местных\n"
     ]
    }
   ],
   "source": [
    "u_stat, p_value = stats.mannwhitneyu(foreign_prices, local_prices, alternative='greater')\n",
    "\n",
    "print(\"U-статистика:\", u_stat)\n",
    "print(\"p-значение:\", p_value)\n",
    "\n",
    "alpha = 0.05\n",
    "if p_value_u < alpha:\n",
    "    print(\"Гипотеза H0 отвергается: зарубежные товары стоят больше местных\")\n",
    "else:\n",
    "    print(\"Гипотеза H0 не отвергается: зарубежные товары не стоят больше местных\")"
   ]
  },
  {
   "cell_type": "markdown",
   "id": "af401746-2f63-4034-92fa-a6890fc3cafb",
   "metadata": {},
   "source": [
    "**Шаг 5** \\\n",
    "Правда ли, что скидки появляются реже у продуктов с маленьким сроком хранения?\n",
    "\n",
    "$$\n",
    "\\begin{aligned}\n",
    "&H_0: \\text{Продукты с маленьким сроком хранения не получают скидки чаще, чем остальные продукты} \\\\ \n",
    "&H_1: \\text{Продукты с маленьким сроком хранения получают скидки чаще, чем остальные продукты}\n",
    "\\end{aligned}\n",
    "$$"
   ]
  },
  {
   "cell_type": "code",
   "execution_count": 690,
   "id": "94f47a9d-a667-4d51-939f-e52f50ecc3eb",
   "metadata": {},
   "outputs": [
    {
     "name": "stdout",
     "output_type": "stream",
     "text": [
      "U-статистика: 17661316.5\n",
      "p-значение: 2.3882945670061588e-57\n",
      "Гипотеза H0 отвергается: скидки чаще появляются у продуктов с большим сроком хранения\n"
     ]
    }
   ],
   "source": [
    "discounted = df[df['discount'] > 0]['shelf_life']\n",
    "not_discounted = df[df['discount'] == 0]['shelf_life']\n",
    "\n",
    "u_stat, p_value = stats.mannwhitneyu(discounted, not_discounted, alternative='greater')\n",
    "\n",
    "print(\"U-статистика:\", u_stat)\n",
    "print(\"p-значение:\", p_value)\n",
    "\n",
    "alpha = 0.05\n",
    "if p_value < alpha:\n",
    "    print(\"Гипотеза H0 отвергается: скидки чаще появляются у продуктов с большим сроком хранения\")\n",
    "else:\n",
    "    print(\"Гипотеза H0 не отвергается: скидки не появляются чаще у продуктов с большим сроком хранения\")"
   ]
  },
  {
   "cell_type": "markdown",
   "id": "ca621e66-dc4a-4c1d-b522-d53afd35a778",
   "metadata": {},
   "source": [
    "## Машинное обучение"
   ]
  },
  {
   "cell_type": "code",
   "execution_count": 691,
   "id": "9c619c0b-3ba7-4ab7-a2de-20c780e86c87",
   "metadata": {},
   "outputs": [],
   "source": [
    "from sklearn.model_selection import train_test_split\n",
    "from sklearn.metrics import mean_squared_error\n",
    "\n",
    "from sklearn.ensemble import GradientBoostingRegressor\n",
    "from sklearn.linear_model import LinearRegression\n",
    "from sklearn.ensemble import RandomForestRegressor\n",
    "from sklearn.neighbors import KNeighborsRegressor"
   ]
  },
  {
   "cell_type": "markdown",
   "id": "01065f89-f4d3-48a3-b3d0-e05a94d17c60",
   "metadata": {},
   "source": [
    "**Шаг 1** \\\n",
    "Попробуем предсказать цену товара на основе его характеристик. \\\n",
    "Это может быть полезно для производителей, желающих определить стоимость своей продукции"
   ]
  },
  {
   "cell_type": "code",
   "execution_count": 692,
   "id": "608fc18d-616a-480c-bdff-49b5ee6fb77b",
   "metadata": {},
   "outputs": [],
   "source": [
    "features = [\n",
    "    \"kalories\",\n",
    "    \"proteins\",\n",
    "    \"fats\",\n",
    "    \"carbohydrates\",\n",
    "    \"rating\",\n",
    "    \"size\",\n",
    "    \"discount\",\n",
    "    \"shelf_life\",\n",
    "    \"max_storage_temperature\",\n",
    "    \"min_storage_temperature\",\n",
    "    \"is_by_weight\",\n",
    "    \"is_special_offer\",\n",
    "    \"storage_temp_range\",\n",
    "    \"protein_to_carb_ratio\",\n",
    "    \"is_low_carb\",\n",
    "    \"kalories_all\",\n",
    "    \"proteins_all\",\n",
    "    \"fats_all\",\n",
    "    \"country_gdp_per_capita\",\n",
    "]\n",
    "\n",
    "one_hot_features = [\"category\", \"subcategory\", \"country\"]\n",
    "\n",
    "target = \"price\"\n",
    "\n",
    "X = df[features]\n",
    "X = np.concatenate((X, composition_vectors), axis=1)\n",
    "\n",
    "df_one_hot = pd.get_dummies(df[one_hot_features])\n",
    "X = np.concatenate((X, df_one_hot), axis=1)\n",
    "\n",
    "y = df[target]\n",
    "\n",
    "X_train, X_test, y_train, y_test = train_test_split(\n",
    "    X, y, test_size=0.2, random_state=7\n",
    ")"
   ]
  },
  {
   "cell_type": "markdown",
   "id": "e912d278-8a97-4be9-8007-b7f4daa26166",
   "metadata": {},
   "source": [
    "Исключаем ненужные столбцы, такие как `name`, а также категориальные столбцы `manufacturer` и `brand`, чтобы новые производители могли опираться только на характеристики продукта при оценке его стоимости"
   ]
  },
  {
   "cell_type": "markdown",
   "id": "67b2d125-3c37-48ac-aa21-076b3a152b69",
   "metadata": {},
   "source": [
    "**Шаг 2** \\\n",
    "Обучим несколько моделей регрессии"
   ]
  },
  {
   "cell_type": "code",
   "execution_count": 693,
   "id": "73caec23-889e-4451-ab9e-67186d17df59",
   "metadata": {},
   "outputs": [
    {
     "name": "stdout",
     "output_type": "stream",
     "text": [
      "LinearRegression\n",
      "Среднеквадратичная ошибка на тестовом наборе: 159740.22830162052\n"
     ]
    }
   ],
   "source": [
    "linear_regressor = LinearRegression()\n",
    "linear_regressor.fit(X_train, y_train)\n",
    "\n",
    "predictions = linear_regressor.predict(X_test)\n",
    "mse = mean_squared_error(y_test, predictions)\n",
    "\n",
    "print(\"LinearRegression\")\n",
    "print(\"Среднеквадратичная ошибка на тестовом наборе:\", mse)"
   ]
  },
  {
   "cell_type": "code",
   "execution_count": 694,
   "id": "a1ebd233-feef-40b7-9528-a1efa7e9a335",
   "metadata": {},
   "outputs": [
    {
     "name": "stdout",
     "output_type": "stream",
     "text": [
      "KNeighborsRegressor\n",
      "Среднеквадратичная ошибка на тестовом наборе: 172826.62168430001\n"
     ]
    }
   ],
   "source": [
    "knn_regressor = KNeighborsRegressor()\n",
    "knn_regressor.fit(X_train, y_train)\n",
    "\n",
    "predictions = knn_regressor.predict(X_test)\n",
    "mse = mean_squared_error(y_test, predictions)\n",
    "\n",
    "print(\"KNeighborsRegressor\")\n",
    "print(\"Среднеквадратичная ошибка на тестовом наборе:\", mse)"
   ]
  },
  {
   "cell_type": "code",
   "execution_count": 695,
   "id": "45ba4c49-6d67-43b8-85ea-3a6752287c70",
   "metadata": {},
   "outputs": [
    {
     "name": "stdout",
     "output_type": "stream",
     "text": [
      "GradientBoostingRegressor\n",
      "Среднеквадратичная ошибка на тестовом наборе: 124951.66802139686\n"
     ]
    }
   ],
   "source": [
    "gb_regressor = GradientBoostingRegressor(random_state=7)\n",
    "gb_regressor.fit(X_train, y_train)\n",
    "\n",
    "predictions = gb_regressor.predict(X_test)\n",
    "mse = mean_squared_error(y_test, predictions)\n",
    "\n",
    "print(\"GradientBoostingRegressor\")\n",
    "print(\"Среднеквадратичная ошибка на тестовом наборе:\", mse)"
   ]
  },
  {
   "cell_type": "code",
   "execution_count": 696,
   "id": "0ed37a31-bd20-4c01-92ed-25567a8f5306",
   "metadata": {},
   "outputs": [
    {
     "name": "stdout",
     "output_type": "stream",
     "text": [
      "RandomForestRegressor\n",
      "Среднеквадратичная ошибка на тестовом наборе: 98544.6360533836\n"
     ]
    }
   ],
   "source": [
    "rf_regressor = RandomForestRegressor(random_state=7)\n",
    "rf_regressor.fit(X_train, y_train)\n",
    "\n",
    "predictions = rf_regressor.predict(X_test)\n",
    "mse = mean_squared_error(y_test, predictions)\n",
    "\n",
    "print(\"RandomForestRegressor\")\n",
    "print(\"Среднеквадратичная ошибка на тестовом наборе:\", mse)"
   ]
  },
  {
   "cell_type": "markdown",
   "id": "886c5c82-2afe-4267-938c-5fe12602f783",
   "metadata": {},
   "source": [
    "**Итог** \\\n",
    "Лучший результат MSE показал RandomForest"
   ]
  },
  {
   "cell_type": "code",
   "execution_count": 697,
   "id": "e7f29e44-5868-4afc-a3bf-5e5542b9e47a",
   "metadata": {},
   "outputs": [
    {
     "data": {
      "text/html": [
       "<div>\n",
       "<style scoped>\n",
       "    .dataframe tbody tr th:only-of-type {\n",
       "        vertical-align: middle;\n",
       "    }\n",
       "\n",
       "    .dataframe tbody tr th {\n",
       "        vertical-align: top;\n",
       "    }\n",
       "\n",
       "    .dataframe thead th {\n",
       "        text-align: right;\n",
       "    }\n",
       "</style>\n",
       "<table border=\"1\" class=\"dataframe\">\n",
       "  <thead>\n",
       "    <tr style=\"text-align: right;\">\n",
       "      <th></th>\n",
       "      <th>Название</th>\n",
       "      <th>Реальная Цена</th>\n",
       "      <th>Предсказание</th>\n",
       "    </tr>\n",
       "  </thead>\n",
       "  <tbody>\n",
       "    <tr>\n",
       "      <th>6018</th>\n",
       "      <td>Напиток спиртной Ron Calados Карибиан Спайсд 3...</td>\n",
       "      <td>999.99</td>\n",
       "      <td>2996.4495</td>\n",
       "    </tr>\n",
       "    <tr>\n",
       "      <th>2605</th>\n",
       "      <td>Макароны Pasteroni Tortoglioni №127 группа А в...</td>\n",
       "      <td>69.99</td>\n",
       "      <td>72.8400</td>\n",
       "    </tr>\n",
       "    <tr>\n",
       "      <th>3799</th>\n",
       "      <td>Сыр мягкий Schonfeld Blue с голубой плесенью 54%</td>\n",
       "      <td>2199.00</td>\n",
       "      <td>1180.8088</td>\n",
       "    </tr>\n",
       "    <tr>\n",
       "      <th>9600</th>\n",
       "      <td>Печенье Ванюшкины Сладости Орешки из детства с...</td>\n",
       "      <td>249.99</td>\n",
       "      <td>324.5975</td>\n",
       "    </tr>\n",
       "    <tr>\n",
       "      <th>1178</th>\n",
       "      <td>Хаш Ecofood Армянский, 525г</td>\n",
       "      <td>279.99</td>\n",
       "      <td>415.9477</td>\n",
       "    </tr>\n",
       "    <tr>\n",
       "      <th>11964</th>\n",
       "      <td>Пицца Zotman Ice Баварская мясная, 465г</td>\n",
       "      <td>559.99</td>\n",
       "      <td>348.2900</td>\n",
       "    </tr>\n",
       "    <tr>\n",
       "      <th>3648</th>\n",
       "      <td>Сыр Пармезан Deluxe 34%, 200г</td>\n",
       "      <td>389.99</td>\n",
       "      <td>292.6373</td>\n",
       "    </tr>\n",
       "    <tr>\n",
       "      <th>3062</th>\n",
       "      <td>Бульон Maggi с лесными грибами в кубиках, 72г</td>\n",
       "      <td>47.99</td>\n",
       "      <td>72.0100</td>\n",
       "    </tr>\n",
       "    <tr>\n",
       "      <th>4842</th>\n",
       "      <td>Сливки Ehrmann питьевые ультрапастеризованные ...</td>\n",
       "      <td>65.99</td>\n",
       "      <td>62.6567</td>\n",
       "    </tr>\n",
       "    <tr>\n",
       "      <th>11263</th>\n",
       "      <td>Печенье ProteinRex Флепджек овсяное протеиново...</td>\n",
       "      <td>114.99</td>\n",
       "      <td>97.2992</td>\n",
       "    </tr>\n",
       "  </tbody>\n",
       "</table>\n",
       "</div>"
      ],
      "text/plain": [
       "                                                Название  Реальная Цена  \\\n",
       "6018   Напиток спиртной Ron Calados Карибиан Спайсд 3...         999.99   \n",
       "2605   Макароны Pasteroni Tortoglioni №127 группа А в...          69.99   \n",
       "3799    Сыр мягкий Schonfeld Blue с голубой плесенью 54%        2199.00   \n",
       "9600   Печенье Ванюшкины Сладости Орешки из детства с...         249.99   \n",
       "1178                         Хаш Ecofood Армянский, 525г         279.99   \n",
       "11964            Пицца Zotman Ice Баварская мясная, 465г         559.99   \n",
       "3648                       Сыр Пармезан Deluxe 34%, 200г         389.99   \n",
       "3062       Бульон Maggi с лесными грибами в кубиках, 72г          47.99   \n",
       "4842   Сливки Ehrmann питьевые ультрапастеризованные ...          65.99   \n",
       "11263  Печенье ProteinRex Флепджек овсяное протеиново...         114.99   \n",
       "\n",
       "       Предсказание  \n",
       "6018      2996.4495  \n",
       "2605        72.8400  \n",
       "3799      1180.8088  \n",
       "9600       324.5975  \n",
       "1178       415.9477  \n",
       "11964      348.2900  \n",
       "3648       292.6373  \n",
       "3062        72.0100  \n",
       "4842        62.6567  \n",
       "11263       97.2992  "
      ]
     },
     "execution_count": 697,
     "metadata": {},
     "output_type": "execute_result"
    }
   ],
   "source": [
    "_, X_test, _, _ = train_test_split(\n",
    "    df[['name', 'price']], y, test_size=0.2, random_state=7\n",
    ")\n",
    "df_comparison = pd.DataFrame({'Название': X_test['name'], 'Реальная Цена': X_test['price'], 'Предсказание': predictions})\n",
    "df_comparison.head(10)"
   ]
  },
  {
   "cell_type": "code",
   "execution_count": null,
   "id": "65eea5e1-4807-4ee0-9cae-6fdb879d1be7",
   "metadata": {},
   "outputs": [],
   "source": []
  }
 ],
 "metadata": {
  "kernelspec": {
   "display_name": "Python 3 (ipykernel)",
   "language": "python",
   "name": "python3"
  },
  "language_info": {
   "codemirror_mode": {
    "name": "ipython",
    "version": 3
   },
   "file_extension": ".py",
   "mimetype": "text/x-python",
   "name": "python",
   "nbconvert_exporter": "python",
   "pygments_lexer": "ipython3",
   "version": "3.11.5"
  }
 },
 "nbformat": 4,
 "nbformat_minor": 5
}
