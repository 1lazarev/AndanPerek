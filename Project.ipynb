{
 "cells": [
  {
   "cell_type": "markdown",
   "id": "5fbf8fd2-f345-448e-8e0e-d4fa3f99637a",
   "metadata": {},
   "source": [
    "# AndanPerek"
   ]
  },
  {
   "cell_type": "markdown",
   "id": "272f6982-fc82-4aa2-9980-772a277f5050",
   "metadata": {
    "jp-MarkdownHeadingCollapsed": true
   },
   "source": [
    "## Тема\n",
    "Анализ каталога продуктов питания [Перекрестка](https://www.perekrestok.ru)."
   ]
  },
  {
   "cell_type": "markdown",
   "id": "7d5ba216-5f2b-4cc8-b923-9c4eb247de3a",
   "metadata": {
    "jp-MarkdownHeadingCollapsed": true
   },
   "source": [
    "## Cбор данных"
   ]
  },
  {
   "cell_type": "markdown",
   "id": "13cc036a-20da-4447-9e52-5966ee2ca28e",
   "metadata": {},
   "source": [
    "Все функции парсинга находятся в **parcer**"
   ]
  },
  {
   "cell_type": "code",
   "execution_count": 76,
   "id": "567624cb-f92b-408a-8ee1-301e9a72e871",
   "metadata": {},
   "outputs": [],
   "source": [
    "import parcer"
   ]
  },
  {
   "cell_type": "markdown",
   "id": "88a04960-45a1-465a-a0b8-3b23572e0029",
   "metadata": {},
   "source": [
    "Собираем все **категории** товаров, и ссылки на них"
   ]
  },
  {
   "cell_type": "code",
   "execution_count": 3,
   "id": "c1265c96-d70a-4fb1-9f63-3e150ae654a3",
   "metadata": {},
   "outputs": [
    {
     "data": {
      "text/plain": [
       "['Все на дачу', '/cat/mc/1181/vse-na-dacu']"
      ]
     },
     "execution_count": 3,
     "metadata": {},
     "output_type": "execute_result"
    }
   ],
   "source": [
    "cats = parcer.parce_cats(\"https://www.perekrestok.ru/cat\") # /ᐠ｡ꞈ｡ᐟ\\\n",
    "cats[0]"
   ]
  },
  {
   "cell_type": "markdown",
   "id": "d4a13437-e32d-4c07-b501-10b2b9f240eb",
   "metadata": {},
   "source": [
    "Уберем категории, которые не относятся к продуктам питания"
   ]
  },
  {
   "cell_type": "code",
   "execution_count": 8,
   "id": "ee49d1f2-73a1-484d-bab9-7ab10240fe78",
   "metadata": {},
   "outputs": [],
   "source": [
    "undesired_cats = [\n",
    "    'Все на дачу',\n",
    "    'Зоотовары',\n",
    "    'Для дома и дачи',\n",
    "    'Красота, гигиена, аптека',\n",
    "    'Уборка',\n",
    "    'Товары для мам и детей',\n",
    "    'Системы нагревания, табак',\n",
    "    'Посуда',\n",
    "]\n",
    "\n",
    "cats = [cat for cat in cats if cat[0] not in undesired_cats]"
   ]
  },
  {
   "cell_type": "markdown",
   "id": "1f992981-d579-4977-92a2-ce722d4da86e",
   "metadata": {},
   "source": [
    "По ссылкам на категории, собираем **подкатегории** и ссылки на подкатегории"
   ]
  },
  {
   "cell_type": "code",
   "execution_count": 10,
   "id": "d44dd84d-b647-4989-a419-863c06b1ecf1",
   "metadata": {},
   "outputs": [
    {
     "data": {
      "text/plain": [
       "('Зелёная Линия', 'От Перекрёстка', '/cat/c/284/zelenaa-linia')"
      ]
     },
     "execution_count": 10,
     "metadata": {},
     "output_type": "execute_result"
    }
   ],
   "source": [
    "subcats = parcer.parce_subcats(cats)\n",
    "subcats[0]"
   ]
  },
  {
   "cell_type": "markdown",
   "id": "572f1233-5f1f-4430-bb57-2fbf1517401a",
   "metadata": {},
   "source": [
    "Уберем подкатегории, которые не относятся к продуктам питания"
   ]
  },
  {
   "cell_type": "code",
   "execution_count": 11,
   "id": "0da3e1b5-5eef-4ed4-b83b-817428c58ccc",
   "metadata": {},
   "outputs": [],
   "source": [
    "undesired_subcats = [\n",
    "    'Home Story',\n",
    "    'Kokoro',\n",
    "    'Honey Kid',\n",
    "]\n",
    "\n",
    "subcats = [subcat for subcat in subcats if subcat[0] not in undesired_subcats]"
   ]
  },
  {
   "cell_type": "markdown",
   "id": "4cc8282f-4025-4792-8f25-4c3f5fd952eb",
   "metadata": {},
   "source": [
    "Теперь благодаря ссылкам на подкатегории мы можем собрать все листинги. В листингах есть ссылки на товары, а также поверхностная информация"
   ]
  },
  {
   "cell_type": "code",
   "execution_count": 34,
   "id": "6fc0869e-5a99-4b7e-ae0e-d0a942b0161a",
   "metadata": {},
   "outputs": [
    {
     "data": {
      "text/plain": [
       "['Томаты черри на ветке, 250г',\n",
       " '/cat/150/p/tomaty-cerri-na-vetke-250g-3673307',\n",
       " 'От Перекрёстка',\n",
       " 'Маркет',\n",
       " '4.92',\n",
       " '250 гр',\n",
       " '179,99 ₽/шт',\n",
       " '179,99 ₽',\n",
       " '219,99 ₽',\n",
       " '-18%',\n",
       " '/cat/c/287/market']"
      ]
     },
     "execution_count": 34,
     "metadata": {},
     "output_type": "execute_result"
    }
   ],
   "source": [
    "listing_products = parcer.parce_listing_products(subcats)\n",
    "listing_products[0]"
   ]
  },
  {
   "cell_type": "code",
   "execution_count": 72,
   "id": "0d42ae2b-9a85-4ce0-b42f-2ee3d8b175cd",
   "metadata": {},
   "outputs": [
    {
     "name": "stdout",
     "output_type": "stream",
     "text": [
      "Список успешно сохранен в файл data/listing_products.csv\n"
     ]
    }
   ],
   "source": [
    "parcer.save_listing_products_to_csv('data/listing_products.csv', listing_products)"
   ]
  },
  {
   "cell_type": "code",
   "execution_count": 75,
   "id": "8d24549a-9a72-4321-884e-88fe258eff4a",
   "metadata": {},
   "outputs": [
    {
     "data": {
      "text/plain": [
       "['/cat/150/p/tomaty-cerri-na-vetke-250g-3673307',\n",
       " 'Томаты черри на ветке, 250г',\n",
       " 17999,\n",
       " '-18%',\n",
       " 492,\n",
       " '15.0',\n",
       " '0.8 г',\n",
       " '0.1 г',\n",
       " '2.8 г',\n",
       " 'Томаты.',\n",
       " 'ТД Самарканд Агро',\n",
       " 'Маркет',\n",
       " 'Россия',\n",
       " '30 дней',\n",
       " '15 ℃',\n",
       " '5 ℃']"
      ]
     },
     "execution_count": 75,
     "metadata": {},
     "output_type": "execute_result"
    }
   ],
   "source": [
    "products = parcer.parce_products(listing_products)\n",
    "products[0]"
   ]
  },
  {
   "cell_type": "code",
   "execution_count": 67,
   "id": "7e729791-c92c-4ef7-b531-70d8f684f432",
   "metadata": {},
   "outputs": [
    {
     "name": "stdout",
     "output_type": "stream",
     "text": [
      "Список успешно сохранен в файл data/products.csv\n"
     ]
    }
   ],
   "source": [
    "parcer.save_products_to_csv('data/products.csv', products)"
   ]
  },
  {
   "cell_type": "markdown",
   "id": "a0358566-09e5-4088-9e1f-0113b7526b42",
   "metadata": {},
   "source": [
    "## Предварительныя обработка"
   ]
  },
  {
   "cell_type": "code",
   "execution_count": 78,
   "id": "0263a737-098b-4a2b-9d14-c132732a2f88",
   "metadata": {},
   "outputs": [],
   "source": [
    "import pandas as pd\n",
    "import numpy as np"
   ]
  },
  {
   "cell_type": "code",
   "execution_count": 112,
   "id": "9d296202-7d34-4680-ba2c-71b9e8697ad0",
   "metadata": {},
   "outputs": [],
   "source": [
    "listing_products_df = pd.read_csv(\"data/listing_products.csv\")\n",
    "products_df = pd.read_csv(\"data/products.csv\")"
   ]
  },
  {
   "cell_type": "code",
   "execution_count": 113,
   "id": "14be7be0-7cf6-449c-97bc-aea25fac3987",
   "metadata": {},
   "outputs": [],
   "source": [
    "merged_df = pd.merge(products_df, listing_products_df, left_on='product_href', right_on='href' , how='left')"
   ]
  },
  {
   "cell_type": "markdown",
   "id": "a95f06d4-ec97-466c-a69c-91536e69e12a",
   "metadata": {},
   "source": [
    "Так как в некоторых категориях товары дублировались, получилось так что мы собрали дубликаты, избавимся от них, а за одно и от лишних столбцов"
   ]
  },
  {
   "cell_type": "code",
   "execution_count": 114,
   "id": "2a3c16e2-2a0d-46a7-af8c-67047255d89e",
   "metadata": {},
   "outputs": [],
   "source": [
    "merged_df.drop_duplicates(inplace=True)\n",
    "merged_df.dropna(subset=['href'], inplace=True)\n",
    "merged_df = merged_df.drop(['price_x', 'discount_x', 'title', 'product_href', 'subcat_href','rating_x'], axis=1) "
   ]
  },
  {
   "cell_type": "markdown",
   "id": "77a59b38-2032-459f-a4ea-3613cdde10e1",
   "metadata": {},
   "source": [
    "Переименовываем столбцы после слияния и сортируем"
   ]
  },
  {
   "cell_type": "code",
   "execution_count": 115,
   "id": "0721961f-c1e3-4e5f-847a-4e52c6027dad",
   "metadata": {},
   "outputs": [],
   "source": [
    "new_names = {\n",
    "    'rating_y': 'rating',        \n",
    "    'price_y': 'pricing',\n",
    "    'discount_y': 'discount',\n",
    "    'new_price': 'price',\n",
    "    'new_price': 'price',\n",
    "    'cat': 'category',\n",
    "    'subcat': \"subcategory\",\n",
    "}\n",
    "merged_df = merged_df.rename(columns=new_names)"
   ]
  },
  {
   "cell_type": "code",
   "execution_count": 116,
   "id": "bec1475c-a408-43b7-8959-aeb0fae08144",
   "metadata": {},
   "outputs": [],
   "source": [
    "new_order = [\n",
    "    'name',\n",
    "    'category',\n",
    "    'subcategory',\n",
    "    'href',\n",
    "\n",
    "    'kalories',\n",
    "    'proteins',\n",
    "    'fats',\n",
    "    'carbohydrates',\n",
    "    'composition',\n",
    "\n",
    "    'manufacturer',\n",
    "    'brand',\n",
    "    'country',\n",
    "    \n",
    "    'rating',\n",
    "    'size',\n",
    "    'pricing',\n",
    "    'price',\n",
    "    'old_price',\n",
    "    'discount',\n",
    "\n",
    "    'shelf_life',\n",
    "    'max_storage_temperature',\n",
    "    'min_storage_temperature',\n",
    "]\n",
    "len(new_order)\n",
    "merged_df = merged_df.reindex(columns=new_order)"
   ]
  },
  {
   "cell_type": "code",
   "execution_count": 117,
   "id": "7730b2f9-fa63-47f5-b485-57cb534d8166",
   "metadata": {},
   "outputs": [
    {
     "data": {
      "text/html": [
       "<div>\n",
       "<style scoped>\n",
       "    .dataframe tbody tr th:only-of-type {\n",
       "        vertical-align: middle;\n",
       "    }\n",
       "\n",
       "    .dataframe tbody tr th {\n",
       "        vertical-align: top;\n",
       "    }\n",
       "\n",
       "    .dataframe thead th {\n",
       "        text-align: right;\n",
       "    }\n",
       "</style>\n",
       "<table border=\"1\" class=\"dataframe\">\n",
       "  <thead>\n",
       "    <tr style=\"text-align: right;\">\n",
       "      <th></th>\n",
       "      <th>name</th>\n",
       "      <th>category</th>\n",
       "      <th>subcategory</th>\n",
       "      <th>href</th>\n",
       "      <th>kalories</th>\n",
       "      <th>proteins</th>\n",
       "      <th>fats</th>\n",
       "      <th>carbohydrates</th>\n",
       "      <th>composition</th>\n",
       "      <th>manufacturer</th>\n",
       "      <th>...</th>\n",
       "      <th>country</th>\n",
       "      <th>rating</th>\n",
       "      <th>size</th>\n",
       "      <th>pricing</th>\n",
       "      <th>price</th>\n",
       "      <th>old_price</th>\n",
       "      <th>discount</th>\n",
       "      <th>shelf_life</th>\n",
       "      <th>max_storage_temperature</th>\n",
       "      <th>min_storage_temperature</th>\n",
       "    </tr>\n",
       "  </thead>\n",
       "  <tbody>\n",
       "    <tr>\n",
       "      <th>0</th>\n",
       "      <td>Вино Мысхако Quintessence Zinfandel красное по...</td>\n",
       "      <td>Алкогольные напитки</td>\n",
       "      <td>Вино</td>\n",
       "      <td>/cat/2/p/vino-myshako-quintessence-zinfandel-k...</td>\n",
       "      <td>95.0</td>\n",
       "      <td>0.0 г</td>\n",
       "      <td>0.0 г</td>\n",
       "      <td>0.6 г</td>\n",
       "      <td>Виноград сорта Зинфандель, пищевая добавка (ко...</td>\n",
       "      <td>Мысхако</td>\n",
       "      <td>...</td>\n",
       "      <td>Россия</td>\n",
       "      <td>4.89</td>\n",
       "      <td>750 мл</td>\n",
       "      <td>899,99 ₽/шт</td>\n",
       "      <td>899,99 ₽</td>\n",
       "      <td>899,99 ₽</td>\n",
       "      <td>3 по цене 2-х</td>\n",
       "      <td>9999 дней</td>\n",
       "      <td>20 ℃</td>\n",
       "      <td>5 ℃</td>\n",
       "    </tr>\n",
       "    <tr>\n",
       "      <th>1</th>\n",
       "      <td>Вино Takar Арени красное сухое 14%, 750мл</td>\n",
       "      <td>Алкогольные напитки</td>\n",
       "      <td>Вино</td>\n",
       "      <td>/cat/2/p/vino-takar-areni-krasnoe-suhoe-14-750...</td>\n",
       "      <td>74.0</td>\n",
       "      <td>0.0 г</td>\n",
       "      <td>0.0 г</td>\n",
       "      <td>0.3 г</td>\n",
       "      <td>Виноград сорта Арени; пищевая добавка (консерв...</td>\n",
       "      <td>Armenia Wine</td>\n",
       "      <td>...</td>\n",
       "      <td>Армения</td>\n",
       "      <td>4.90</td>\n",
       "      <td>750 мл</td>\n",
       "      <td>699,99 ₽/шт</td>\n",
       "      <td>699,99 ₽</td>\n",
       "      <td>899,99 ₽</td>\n",
       "      <td>-22%</td>\n",
       "      <td>9999 дней</td>\n",
       "      <td>NaN</td>\n",
       "      <td>5 ℃</td>\n",
       "    </tr>\n",
       "    <tr>\n",
       "      <th>2</th>\n",
       "      <td>Вино Terras de Pegoes красное сухое 12.5%, 750мл</td>\n",
       "      <td>Алкогольные напитки</td>\n",
       "      <td>Вино</td>\n",
       "      <td>/cat/2/p/vino-terras-de-pegoes-krasnoe-suhoe-1...</td>\n",
       "      <td>75.0</td>\n",
       "      <td>0.0 г</td>\n",
       "      <td>0.0 г</td>\n",
       "      <td>0.1 г</td>\n",
       "      <td>Сортовой состав винограда: Каштелао - 60%, Али...</td>\n",
       "      <td>Cooperativa Agrícola de Santo Isidro De Pegões</td>\n",
       "      <td>...</td>\n",
       "      <td>Португалия</td>\n",
       "      <td>4.78</td>\n",
       "      <td>750 мл</td>\n",
       "      <td>499,99 ₽/шт</td>\n",
       "      <td>499,99 ₽</td>\n",
       "      <td>699,99 ₽</td>\n",
       "      <td>-28%</td>\n",
       "      <td>9999 дней</td>\n",
       "      <td>NaN</td>\n",
       "      <td>NaN</td>\n",
       "    </tr>\n",
       "    <tr>\n",
       "      <th>3</th>\n",
       "      <td>Вино Highway to Hell красное сухое 13%, 750мл</td>\n",
       "      <td>Алкогольные напитки</td>\n",
       "      <td>Вино</td>\n",
       "      <td>/cat/2/p/vino-highway-to-hell-krasnoe-suhoe-13...</td>\n",
       "      <td>79.0</td>\n",
       "      <td>0.0 г</td>\n",
       "      <td>0.0 г</td>\n",
       "      <td>0.0 г</td>\n",
       "      <td>Виноград сорта Монастрель, пищевая добавка (ко...</td>\n",
       "      <td>Wines N'Roses</td>\n",
       "      <td>...</td>\n",
       "      <td>Испания</td>\n",
       "      <td>4.81</td>\n",
       "      <td>750 мл</td>\n",
       "      <td>1 099,00 ₽/шт</td>\n",
       "      <td>1 099,00 ₽</td>\n",
       "      <td>NaN</td>\n",
       "      <td>Нет скидки</td>\n",
       "      <td>9999 дней</td>\n",
       "      <td>NaN</td>\n",
       "      <td>5 ℃</td>\n",
       "    </tr>\n",
       "    <tr>\n",
       "      <th>4</th>\n",
       "      <td>Вино Don Garcia красное сухое 11%, 1л</td>\n",
       "      <td>Алкогольные напитки</td>\n",
       "      <td>Вино</td>\n",
       "      <td>/cat/2/p/vino-don-garcia-krasnoe-suhoe-11-1l-2...</td>\n",
       "      <td>0.0</td>\n",
       "      <td>0.0 г</td>\n",
       "      <td>0.0 г</td>\n",
       "      <td>0.0 г</td>\n",
       "      <td>Красные сорта винограда, пищевая добавка (конс...</td>\n",
       "      <td>J. Garcia Carrion</td>\n",
       "      <td>...</td>\n",
       "      <td>Испания</td>\n",
       "      <td>4.75</td>\n",
       "      <td>1000 мл</td>\n",
       "      <td>549,99 ₽/шт</td>\n",
       "      <td>549,99 ₽</td>\n",
       "      <td>NaN</td>\n",
       "      <td>Нет скидки</td>\n",
       "      <td>9999 дней</td>\n",
       "      <td>20 ℃</td>\n",
       "      <td>5 ℃</td>\n",
       "    </tr>\n",
       "    <tr>\n",
       "      <th>...</th>\n",
       "      <td>...</td>\n",
       "      <td>...</td>\n",
       "      <td>...</td>\n",
       "      <td>...</td>\n",
       "      <td>...</td>\n",
       "      <td>...</td>\n",
       "      <td>...</td>\n",
       "      <td>...</td>\n",
       "      <td>...</td>\n",
       "      <td>...</td>\n",
       "      <td>...</td>\n",
       "      <td>...</td>\n",
       "      <td>...</td>\n",
       "      <td>...</td>\n",
       "      <td>...</td>\n",
       "      <td>...</td>\n",
       "      <td>...</td>\n",
       "      <td>...</td>\n",
       "      <td>...</td>\n",
       "      <td>...</td>\n",
       "      <td>...</td>\n",
       "    </tr>\n",
       "    <tr>\n",
       "      <th>25987</th>\n",
       "      <td>Мёд Берестов А.С. Башкирхан избранное липовый ...</td>\n",
       "      <td>Мёд, варенье, джемы, сиропы</td>\n",
       "      <td>Мёд</td>\n",
       "      <td>/cat/112/p/med-berestov-a-s-baskirhan-izbranno...</td>\n",
       "      <td>321.0</td>\n",
       "      <td>0.0 г</td>\n",
       "      <td>0.0 г</td>\n",
       "      <td>80.3 г</td>\n",
       "      <td>Мед натуральный.</td>\n",
       "      <td>Берестов</td>\n",
       "      <td>...</td>\n",
       "      <td>Россия</td>\n",
       "      <td>4.87</td>\n",
       "      <td>500 гр</td>\n",
       "      <td>799,99 ₽/шт</td>\n",
       "      <td>799,99 ₽</td>\n",
       "      <td>NaN</td>\n",
       "      <td>Нет скидки</td>\n",
       "      <td>730 дней</td>\n",
       "      <td>NaN</td>\n",
       "      <td>NaN</td>\n",
       "    </tr>\n",
       "    <tr>\n",
       "      <th>25988</th>\n",
       "      <td>Сироп Имбирный с лимоном фреш, 250мл</td>\n",
       "      <td>К постному столу</td>\n",
       "      <td>Сладости и снеки</td>\n",
       "      <td>/cat/110/p/sirop-imbirnyj-s-limonom-fres-250ml...</td>\n",
       "      <td>196.0</td>\n",
       "      <td>0.0 г</td>\n",
       "      <td>0.0 г</td>\n",
       "      <td>49.0 г</td>\n",
       "      <td>Водный экстракт корня имбиря с зеленым чаем, ф...</td>\n",
       "      <td>Биоинвентика</td>\n",
       "      <td>...</td>\n",
       "      <td>Россия</td>\n",
       "      <td>4.82</td>\n",
       "      <td>250 мл</td>\n",
       "      <td>164,99 ₽/шт</td>\n",
       "      <td>164,99 ₽</td>\n",
       "      <td>NaN</td>\n",
       "      <td>Нет скидки</td>\n",
       "      <td>547 дней</td>\n",
       "      <td>NaN</td>\n",
       "      <td>NaN</td>\n",
       "    </tr>\n",
       "    <tr>\n",
       "      <th>25989</th>\n",
       "      <td>Сироп Имбирный с лимоном фреш, 250мл</td>\n",
       "      <td>Мёд, варенье, джемы, сиропы</td>\n",
       "      <td>Сиропы</td>\n",
       "      <td>/cat/110/p/sirop-imbirnyj-s-limonom-fres-250ml...</td>\n",
       "      <td>196.0</td>\n",
       "      <td>0.0 г</td>\n",
       "      <td>0.0 г</td>\n",
       "      <td>49.0 г</td>\n",
       "      <td>Водный экстракт корня имбиря с зеленым чаем, ф...</td>\n",
       "      <td>Биоинвентика</td>\n",
       "      <td>...</td>\n",
       "      <td>Россия</td>\n",
       "      <td>4.82</td>\n",
       "      <td>250 мл</td>\n",
       "      <td>164,99 ₽/шт</td>\n",
       "      <td>164,99 ₽</td>\n",
       "      <td>NaN</td>\n",
       "      <td>Нет скидки</td>\n",
       "      <td>547 дней</td>\n",
       "      <td>NaN</td>\n",
       "      <td>NaN</td>\n",
       "    </tr>\n",
       "    <tr>\n",
       "      <th>26003</th>\n",
       "      <td>Конфитюр Frueva из инжира, 310г</td>\n",
       "      <td>К постному столу</td>\n",
       "      <td>Сладости и снеки</td>\n",
       "      <td>/cat/775/p/konfitur-frueva-iz-inzira-310g-4068149</td>\n",
       "      <td>180.0</td>\n",
       "      <td>0.0 г</td>\n",
       "      <td>0.0 г</td>\n",
       "      <td>45.0 г</td>\n",
       "      <td>Инжир, жидкий виноградный сахар, вода, лимонны...</td>\n",
       "      <td>Абрико</td>\n",
       "      <td>...</td>\n",
       "      <td>Россия</td>\n",
       "      <td>4.90</td>\n",
       "      <td>310 мл</td>\n",
       "      <td>299,99 ₽/шт</td>\n",
       "      <td>299,99 ₽</td>\n",
       "      <td>NaN</td>\n",
       "      <td>Нет скидки</td>\n",
       "      <td>730 дней</td>\n",
       "      <td>25 ℃</td>\n",
       "      <td>0 ℃</td>\n",
       "    </tr>\n",
       "    <tr>\n",
       "      <th>26004</th>\n",
       "      <td>Конфитюр Frueva из инжира, 310г</td>\n",
       "      <td>Мёд, варенье, джемы, сиропы</td>\n",
       "      <td>Конфитюр</td>\n",
       "      <td>/cat/775/p/konfitur-frueva-iz-inzira-310g-4068149</td>\n",
       "      <td>180.0</td>\n",
       "      <td>0.0 г</td>\n",
       "      <td>0.0 г</td>\n",
       "      <td>45.0 г</td>\n",
       "      <td>Инжир, жидкий виноградный сахар, вода, лимонны...</td>\n",
       "      <td>Абрико</td>\n",
       "      <td>...</td>\n",
       "      <td>Россия</td>\n",
       "      <td>4.90</td>\n",
       "      <td>310 мл</td>\n",
       "      <td>299,99 ₽/шт</td>\n",
       "      <td>299,99 ₽</td>\n",
       "      <td>NaN</td>\n",
       "      <td>Нет скидки</td>\n",
       "      <td>730 дней</td>\n",
       "      <td>25 ℃</td>\n",
       "      <td>0 ℃</td>\n",
       "    </tr>\n",
       "  </tbody>\n",
       "</table>\n",
       "<p>17395 rows × 21 columns</p>\n",
       "</div>"
      ],
      "text/plain": [
       "                                                    name  \\\n",
       "0      Вино Мысхако Quintessence Zinfandel красное по...   \n",
       "1              Вино Takar Арени красное сухое 14%, 750мл   \n",
       "2       Вино Terras de Pegoes красное сухое 12.5%, 750мл   \n",
       "3          Вино Highway to Hell красное сухое 13%, 750мл   \n",
       "4                  Вино Don Garcia красное сухое 11%, 1л   \n",
       "...                                                  ...   \n",
       "25987  Мёд Берестов А.С. Башкирхан избранное липовый ...   \n",
       "25988               Сироп Имбирный с лимоном фреш, 250мл   \n",
       "25989               Сироп Имбирный с лимоном фреш, 250мл   \n",
       "26003                    Конфитюр Frueva из инжира, 310г   \n",
       "26004                    Конфитюр Frueva из инжира, 310г   \n",
       "\n",
       "                          category       subcategory  \\\n",
       "0              Алкогольные напитки              Вино   \n",
       "1              Алкогольные напитки              Вино   \n",
       "2              Алкогольные напитки              Вино   \n",
       "3              Алкогольные напитки              Вино   \n",
       "4              Алкогольные напитки              Вино   \n",
       "...                            ...               ...   \n",
       "25987  Мёд, варенье, джемы, сиропы               Мёд   \n",
       "25988             К постному столу  Сладости и снеки   \n",
       "25989  Мёд, варенье, джемы, сиропы            Сиропы   \n",
       "26003             К постному столу  Сладости и снеки   \n",
       "26004  Мёд, варенье, джемы, сиропы          Конфитюр   \n",
       "\n",
       "                                                    href  kalories proteins  \\\n",
       "0      /cat/2/p/vino-myshako-quintessence-zinfandel-k...      95.0    0.0 г   \n",
       "1      /cat/2/p/vino-takar-areni-krasnoe-suhoe-14-750...      74.0    0.0 г   \n",
       "2      /cat/2/p/vino-terras-de-pegoes-krasnoe-suhoe-1...      75.0    0.0 г   \n",
       "3      /cat/2/p/vino-highway-to-hell-krasnoe-suhoe-13...      79.0    0.0 г   \n",
       "4      /cat/2/p/vino-don-garcia-krasnoe-suhoe-11-1l-2...       0.0    0.0 г   \n",
       "...                                                  ...       ...      ...   \n",
       "25987  /cat/112/p/med-berestov-a-s-baskirhan-izbranno...     321.0    0.0 г   \n",
       "25988  /cat/110/p/sirop-imbirnyj-s-limonom-fres-250ml...     196.0    0.0 г   \n",
       "25989  /cat/110/p/sirop-imbirnyj-s-limonom-fres-250ml...     196.0    0.0 г   \n",
       "26003  /cat/775/p/konfitur-frueva-iz-inzira-310g-4068149     180.0    0.0 г   \n",
       "26004  /cat/775/p/konfitur-frueva-iz-inzira-310g-4068149     180.0    0.0 г   \n",
       "\n",
       "        fats carbohydrates                                        composition  \\\n",
       "0      0.0 г         0.6 г  Виноград сорта Зинфандель, пищевая добавка (ко...   \n",
       "1      0.0 г         0.3 г  Виноград сорта Арени; пищевая добавка (консерв...   \n",
       "2      0.0 г         0.1 г  Сортовой состав винограда: Каштелао - 60%, Али...   \n",
       "3      0.0 г         0.0 г  Виноград сорта Монастрель, пищевая добавка (ко...   \n",
       "4      0.0 г         0.0 г  Красные сорта винограда, пищевая добавка (конс...   \n",
       "...      ...           ...                                                ...   \n",
       "25987  0.0 г        80.3 г                                   Мед натуральный.   \n",
       "25988  0.0 г        49.0 г  Водный экстракт корня имбиря с зеленым чаем, ф...   \n",
       "25989  0.0 г        49.0 г  Водный экстракт корня имбиря с зеленым чаем, ф...   \n",
       "26003  0.0 г        45.0 г  Инжир, жидкий виноградный сахар, вода, лимонны...   \n",
       "26004  0.0 г        45.0 г  Инжир, жидкий виноградный сахар, вода, лимонны...   \n",
       "\n",
       "                                         manufacturer  ...     country rating  \\\n",
       "0                                             Мысхако  ...      Россия   4.89   \n",
       "1                                        Armenia Wine  ...     Армения   4.90   \n",
       "2      Cooperativa Agrícola de Santo Isidro De Pegões  ...  Португалия   4.78   \n",
       "3                                       Wines N'Roses  ...     Испания   4.81   \n",
       "4                                   J. Garcia Carrion  ...     Испания   4.75   \n",
       "...                                               ...  ...         ...    ...   \n",
       "25987                                        Берестов  ...      Россия   4.87   \n",
       "25988                                    Биоинвентика  ...      Россия   4.82   \n",
       "25989                                    Биоинвентика  ...      Россия   4.82   \n",
       "26003                                          Абрико  ...      Россия   4.90   \n",
       "26004                                          Абрико  ...      Россия   4.90   \n",
       "\n",
       "          size        pricing       price old_price       discount shelf_life  \\\n",
       "0       750 мл    899,99 ₽/шт    899,99 ₽  899,99 ₽  3 по цене 2-х  9999 дней   \n",
       "1       750 мл    699,99 ₽/шт    699,99 ₽  899,99 ₽           -22%  9999 дней   \n",
       "2       750 мл    499,99 ₽/шт    499,99 ₽  699,99 ₽           -28%  9999 дней   \n",
       "3       750 мл  1 099,00 ₽/шт  1 099,00 ₽       NaN     Нет скидки  9999 дней   \n",
       "4      1000 мл    549,99 ₽/шт    549,99 ₽       NaN     Нет скидки  9999 дней   \n",
       "...        ...            ...         ...       ...            ...        ...   \n",
       "25987   500 гр    799,99 ₽/шт    799,99 ₽       NaN     Нет скидки   730 дней   \n",
       "25988   250 мл    164,99 ₽/шт    164,99 ₽       NaN     Нет скидки   547 дней   \n",
       "25989   250 мл    164,99 ₽/шт    164,99 ₽       NaN     Нет скидки   547 дней   \n",
       "26003   310 мл    299,99 ₽/шт    299,99 ₽       NaN     Нет скидки   730 дней   \n",
       "26004   310 мл    299,99 ₽/шт    299,99 ₽       NaN     Нет скидки   730 дней   \n",
       "\n",
       "      max_storage_temperature min_storage_temperature  \n",
       "0                        20 ℃                     5 ℃  \n",
       "1                         NaN                     5 ℃  \n",
       "2                         NaN                     NaN  \n",
       "3                         NaN                     5 ℃  \n",
       "4                        20 ℃                     5 ℃  \n",
       "...                       ...                     ...  \n",
       "25987                     NaN                     NaN  \n",
       "25988                     NaN                     NaN  \n",
       "25989                     NaN                     NaN  \n",
       "26003                    25 ℃                     0 ℃  \n",
       "26004                    25 ℃                     0 ℃  \n",
       "\n",
       "[17395 rows x 21 columns]"
      ]
     },
     "execution_count": 117,
     "metadata": {},
     "output_type": "execute_result"
    }
   ],
   "source": [
    "merged_df"
   ]
  },
  {
   "cell_type": "code",
   "execution_count": null,
   "id": "d1528db9-cff4-424b-b7f8-91f15ae57a49",
   "metadata": {},
   "outputs": [],
   "source": []
  },
  {
   "cell_type": "code",
   "execution_count": null,
   "id": "01a446f6-7577-4ea8-a8ba-d2e717ace6f0",
   "metadata": {},
   "outputs": [],
   "source": []
  }
 ],
 "metadata": {
  "kernelspec": {
   "display_name": "Python 3 (ipykernel)",
   "language": "python",
   "name": "python3"
  },
  "language_info": {
   "codemirror_mode": {
    "name": "ipython",
    "version": 3
   },
   "file_extension": ".py",
   "mimetype": "text/x-python",
   "name": "python",
   "nbconvert_exporter": "python",
   "pygments_lexer": "ipython3",
   "version": "3.11.5"
  }
 },
 "nbformat": 4,
 "nbformat_minor": 5
}
